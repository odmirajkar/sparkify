{
 "cells": [
  {
   "cell_type": "markdown",
   "metadata": {},
   "source": [
    "# Sparkify Project Workspace\n",
    "This workspace contains a tiny subset (128MB) of the full dataset available (12GB). Feel free to use this workspace to build your project, or to explore a smaller subset with Spark before deploying your cluster on the cloud. Instructions for setting up your Spark cluster is included in the last lesson of the Extracurricular Spark Course content.\n",
    "\n",
    "You can follow the steps below to guide your data analysis and model building portion of this project."
   ]
  },
  {
   "cell_type": "markdown",
   "metadata": {},
   "source": [
    "**Business Objective**\n",
    "To find users that are about to either down grade or cancel the service. so that business can give them specail offers before they churn.\n",
    "\n"
   ]
  },
  {
   "cell_type": "markdown",
   "metadata": {},
   "source": [
    "**Study Objective**\n",
    "1. Explore similarity betwenn pandas & spark dataframes\n",
    "2. Explore spark sql apis & description apis\n",
    "3. conclude which is good for data analysis\n"
   ]
  },
  {
   "cell_type": "markdown",
   "metadata": {},
   "source": [
    "Medium blog explins the project detedails and my experience in workign with spark. \n",
    "I had 2 objective, first a classification problem and second exploration of spark ecosystem. \n",
    "in future if i had to make choice between Spark vs Pandas which one to use ?\n",
    "if its spark will it be spark sql or spark declaritive ?"
   ]
  },
  {
   "cell_type": "markdown",
   "metadata": {},
   "source": [
    "So in below project , I did repetiative steps , in data exploration I did comparision between Pandas vs Spark. \n",
    "later in feature engeering section I compare spark sql & spark declaritive\n",
    "\n",
    "\n",
    "blog link : https://medium.com/@odmirajkar/spark-vs-pandas-f149caa2d643"
   ]
  },
  {
   "cell_type": "code",
   "execution_count": 1,
   "metadata": {},
   "outputs": [],
   "source": [
    "# import libraries\n",
    "from pyspark.sql import SparkSession,Window\n",
    "import pandas as pd\n",
    "from pyspark.sql.functions import isnan, when, count, col,udf,max\n",
    "from matplotlib import pyplot as plt \n",
    "import datetime\n",
    "import re\n",
    "from pyspark.sql.types import IntegerType\n",
    "from pyspark.ml.feature import VectorAssembler\n",
    "from pyspark.ml.classification import RandomForestClassifier,GBTClassifier\n",
    "from pyspark.ml.feature import StandardScaler\n",
    "from pyspark.ml.tuning import CrossValidator, ParamGridBuilder\n",
    "from pyspark.ml.evaluation import MulticlassClassificationEvaluator"
   ]
  },
  {
   "cell_type": "code",
   "execution_count": 2,
   "metadata": {},
   "outputs": [],
   "source": [
    "# create a Spark session\n",
    "spark = SparkSession.builder \\\n",
    "    .master(\"local\") \\\n",
    "    .appName(\"my_sparkify\") \\\n",
    "    .getOrCreate()\n",
    "\n",
    "df = spark.read.json('mini_sparkify_event_data.json')"
   ]
  },
  {
   "cell_type": "code",
   "execution_count": 3,
   "metadata": {},
   "outputs": [],
   "source": [
    "df.createOrReplaceTempView(\"sparkify\")"
   ]
  },
  {
   "cell_type": "markdown",
   "metadata": {},
   "source": [
    "**Study Objective Reading Data and creating dataframe**\n",
    "- Both spark and pandas can read data from various sources csv, json,dabase tables\n",
    "- For Spark we can use spark.read. methodes\n",
    "- For Pandas we have pd.read_ methods\n",
    "- Spark dataframe can be converted into Pandas dataframe using toPandas method of dataframe\n"
   ]
  },
  {
   "cell_type": "code",
   "execution_count": 4,
   "metadata": {},
   "outputs": [],
   "source": [
    "pd_df=df.toPandas()"
   ]
  },
  {
   "cell_type": "markdown",
   "metadata": {},
   "source": [
    "# Load and Clean Dataset\n",
    "In this workspace, the mini-dataset file is `mini_sparkify_event_data.json`. Load and clean the dataset, checking for invalid or missing data - for example, records without userids or sessionids. "
   ]
  },
  {
   "cell_type": "markdown",
   "metadata": {},
   "source": [
    "**Study Objective  Dimention properties of dataframe**\n",
    "1. shape of dataframe\n",
    "2. No of rows in dataframe\n",
    "3. No of colunms in dataframe\n"
   ]
  },
  {
   "cell_type": "code",
   "execution_count": 5,
   "metadata": {},
   "outputs": [
    {
     "name": "stdout",
     "output_type": "stream",
     "text": [
      "No of rows in dataframe :  286500\n",
      "No of rows in dataframe :  286500\n"
     ]
    }
   ],
   "source": [
    "print(\"No of rows in dataframe : \",df.count())\n",
    "print(\"No of rows in dataframe : \",pd_df.shape[0])"
   ]
  },
  {
   "cell_type": "code",
   "execution_count": 6,
   "metadata": {},
   "outputs": [
    {
     "name": "stdout",
     "output_type": "stream",
     "text": [
      "No of colunms in dataframe :  18\n",
      "No of colunms in dataframe :  18\n"
     ]
    }
   ],
   "source": [
    "print(\"No of colunms in dataframe : \",len(df.columns))\n",
    "print(\"No of colunms in dataframe : \",pd_df.shape[1])"
   ]
  },
  {
   "cell_type": "code",
   "execution_count": 7,
   "metadata": {},
   "outputs": [
    {
     "name": "stdout",
     "output_type": "stream",
     "text": [
      "Colunms name in dataframe  ['artist', 'auth', 'firstName', 'gender', 'itemInSession', 'lastName', 'length', 'level', 'location', 'method', 'page', 'registration', 'sessionId', 'song', 'status', 'ts', 'userAgent', 'userId']\n",
      "Colunms name in dataframe  Index(['artist', 'auth', 'firstName', 'gender', 'itemInSession', 'lastName',\n",
      "       'length', 'level', 'location', 'method', 'page', 'registration',\n",
      "       'sessionId', 'song', 'status', 'ts', 'userAgent', 'userId'],\n",
      "      dtype='object')\n"
     ]
    }
   ],
   "source": [
    "print(\"Colunms name in dataframe \",df.columns)\n",
    "print(\"Colunms name in dataframe \",pd_df.columns)"
   ]
  },
  {
   "cell_type": "markdown",
   "metadata": {},
   "source": [
    "**Study Objective Summary of dataframe**\n",
    "1. Describe each colunms along with its data type\n",
    "2. Describe numeric stats of numeric data type"
   ]
  },
  {
   "cell_type": "code",
   "execution_count": 8,
   "metadata": {},
   "outputs": [
    {
     "data": {
      "text/plain": [
       "DataFrame[summary: string, artist: string, auth: string, firstName: string, gender: string, itemInSession: string, lastName: string, length: string, level: string, location: string, method: string, page: string, registration: string, sessionId: string, song: string, status: string, ts: string, userAgent: string, userId: string]"
      ]
     },
     "execution_count": 8,
     "metadata": {},
     "output_type": "execute_result"
    }
   ],
   "source": [
    "df.summary()"
   ]
  },
  {
   "cell_type": "code",
   "execution_count": 9,
   "metadata": {},
   "outputs": [
    {
     "data": {
      "text/html": [
       "<div>\n",
       "<style scoped>\n",
       "    .dataframe tbody tr th:only-of-type {\n",
       "        vertical-align: middle;\n",
       "    }\n",
       "\n",
       "    .dataframe tbody tr th {\n",
       "        vertical-align: top;\n",
       "    }\n",
       "\n",
       "    .dataframe thead th {\n",
       "        text-align: right;\n",
       "    }\n",
       "</style>\n",
       "<table border=\"1\" class=\"dataframe\">\n",
       "  <thead>\n",
       "    <tr style=\"text-align: right;\">\n",
       "      <th></th>\n",
       "      <th>itemInSession</th>\n",
       "      <th>length</th>\n",
       "      <th>registration</th>\n",
       "      <th>sessionId</th>\n",
       "      <th>status</th>\n",
       "      <th>ts</th>\n",
       "    </tr>\n",
       "  </thead>\n",
       "  <tbody>\n",
       "    <tr>\n",
       "      <th>count</th>\n",
       "      <td>286500.000000</td>\n",
       "      <td>228108.000000</td>\n",
       "      <td>2.781540e+05</td>\n",
       "      <td>286500.000000</td>\n",
       "      <td>286500.000000</td>\n",
       "      <td>2.865000e+05</td>\n",
       "    </tr>\n",
       "    <tr>\n",
       "      <th>mean</th>\n",
       "      <td>114.414213</td>\n",
       "      <td>249.117182</td>\n",
       "      <td>1.535359e+12</td>\n",
       "      <td>1041.526555</td>\n",
       "      <td>210.054597</td>\n",
       "      <td>1.540957e+12</td>\n",
       "    </tr>\n",
       "    <tr>\n",
       "      <th>std</th>\n",
       "      <td>129.767262</td>\n",
       "      <td>99.235179</td>\n",
       "      <td>3.291322e+09</td>\n",
       "      <td>726.776263</td>\n",
       "      <td>31.505078</td>\n",
       "      <td>1.507544e+09</td>\n",
       "    </tr>\n",
       "    <tr>\n",
       "      <th>min</th>\n",
       "      <td>0.000000</td>\n",
       "      <td>0.783220</td>\n",
       "      <td>1.521381e+12</td>\n",
       "      <td>1.000000</td>\n",
       "      <td>200.000000</td>\n",
       "      <td>1.538352e+12</td>\n",
       "    </tr>\n",
       "    <tr>\n",
       "      <th>25%</th>\n",
       "      <td>27.000000</td>\n",
       "      <td>199.888530</td>\n",
       "      <td>1.533522e+12</td>\n",
       "      <td>336.000000</td>\n",
       "      <td>200.000000</td>\n",
       "      <td>1.539697e+12</td>\n",
       "    </tr>\n",
       "    <tr>\n",
       "      <th>50%</th>\n",
       "      <td>70.000000</td>\n",
       "      <td>234.500770</td>\n",
       "      <td>1.536664e+12</td>\n",
       "      <td>1013.000000</td>\n",
       "      <td>200.000000</td>\n",
       "      <td>1.540932e+12</td>\n",
       "    </tr>\n",
       "    <tr>\n",
       "      <th>75%</th>\n",
       "      <td>156.250000</td>\n",
       "      <td>277.158730</td>\n",
       "      <td>1.537672e+12</td>\n",
       "      <td>1675.000000</td>\n",
       "      <td>200.000000</td>\n",
       "      <td>1.542266e+12</td>\n",
       "    </tr>\n",
       "    <tr>\n",
       "      <th>max</th>\n",
       "      <td>1321.000000</td>\n",
       "      <td>3024.665670</td>\n",
       "      <td>1.543247e+12</td>\n",
       "      <td>2474.000000</td>\n",
       "      <td>404.000000</td>\n",
       "      <td>1.543799e+12</td>\n",
       "    </tr>\n",
       "  </tbody>\n",
       "</table>\n",
       "</div>"
      ],
      "text/plain": [
       "       itemInSession         length  registration      sessionId  \\\n",
       "count  286500.000000  228108.000000  2.781540e+05  286500.000000   \n",
       "mean      114.414213     249.117182  1.535359e+12    1041.526555   \n",
       "std       129.767262      99.235179  3.291322e+09     726.776263   \n",
       "min         0.000000       0.783220  1.521381e+12       1.000000   \n",
       "25%        27.000000     199.888530  1.533522e+12     336.000000   \n",
       "50%        70.000000     234.500770  1.536664e+12    1013.000000   \n",
       "75%       156.250000     277.158730  1.537672e+12    1675.000000   \n",
       "max      1321.000000    3024.665670  1.543247e+12    2474.000000   \n",
       "\n",
       "              status            ts  \n",
       "count  286500.000000  2.865000e+05  \n",
       "mean      210.054597  1.540957e+12  \n",
       "std        31.505078  1.507544e+09  \n",
       "min       200.000000  1.538352e+12  \n",
       "25%       200.000000  1.539697e+12  \n",
       "50%       200.000000  1.540932e+12  \n",
       "75%       200.000000  1.542266e+12  \n",
       "max       404.000000  1.543799e+12  "
      ]
     },
     "execution_count": 9,
     "metadata": {},
     "output_type": "execute_result"
    }
   ],
   "source": [
    "pd_df.describe()"
   ]
  },
  {
   "cell_type": "code",
   "execution_count": 10,
   "metadata": {},
   "outputs": [
    {
     "data": {
      "text/plain": [
       "DataFrame[summary: string, itemInSession: string]"
      ]
     },
     "execution_count": 10,
     "metadata": {},
     "output_type": "execute_result"
    }
   ],
   "source": [
    "df.describe('itemInSession')"
   ]
  },
  {
   "cell_type": "code",
   "execution_count": 11,
   "metadata": {},
   "outputs": [
    {
     "name": "stdout",
     "output_type": "stream",
     "text": [
      "root\n",
      " |-- artist: string (nullable = true)\n",
      " |-- auth: string (nullable = true)\n",
      " |-- firstName: string (nullable = true)\n",
      " |-- gender: string (nullable = true)\n",
      " |-- itemInSession: long (nullable = true)\n",
      " |-- lastName: string (nullable = true)\n",
      " |-- length: double (nullable = true)\n",
      " |-- level: string (nullable = true)\n",
      " |-- location: string (nullable = true)\n",
      " |-- method: string (nullable = true)\n",
      " |-- page: string (nullable = true)\n",
      " |-- registration: long (nullable = true)\n",
      " |-- sessionId: long (nullable = true)\n",
      " |-- song: string (nullable = true)\n",
      " |-- status: long (nullable = true)\n",
      " |-- ts: long (nullable = true)\n",
      " |-- userAgent: string (nullable = true)\n",
      " |-- userId: string (nullable = true)\n",
      "\n"
     ]
    }
   ],
   "source": [
    "df.printSchema()"
   ]
  },
  {
   "cell_type": "markdown",
   "metadata": {},
   "source": [
    "**Study Objective Display dataframe**\n",
    "1. First n rowns of dataframe\n",
    "2. Display First n rows of a  colunms\n",
    "3. display multiple colunms"
   ]
  },
  {
   "cell_type": "code",
   "execution_count": 12,
   "metadata": {},
   "outputs": [
    {
     "name": "stdout",
     "output_type": "stream",
     "text": [
      "+----------------+---------+---------+------+-------------+--------+---------+-----+--------------------+------+--------+-------------+---------+--------------------+------+-------------+--------------------+------+\n",
      "|          artist|     auth|firstName|gender|itemInSession|lastName|   length|level|            location|method|    page| registration|sessionId|                song|status|           ts|           userAgent|userId|\n",
      "+----------------+---------+---------+------+-------------+--------+---------+-----+--------------------+------+--------+-------------+---------+--------------------+------+-------------+--------------------+------+\n",
      "|  Martha Tilston|Logged In|    Colin|     M|           50| Freeman|277.89016| paid|     Bakersfield, CA|   PUT|NextSong|1538173362000|       29|           Rockpools|   200|1538352117000|Mozilla/5.0 (Wind...|    30|\n",
      "|Five Iron Frenzy|Logged In|    Micah|     M|           79|    Long|236.09424| free|Boston-Cambridge-...|   PUT|NextSong|1538331630000|        8|              Canada|   200|1538352180000|\"Mozilla/5.0 (Win...|     9|\n",
      "|    Adam Lambert|Logged In|    Colin|     M|           51| Freeman| 282.8273| paid|     Bakersfield, CA|   PUT|NextSong|1538173362000|       29|   Time For Miracles|   200|1538352394000|Mozilla/5.0 (Wind...|    30|\n",
      "|          Enigma|Logged In|    Micah|     M|           80|    Long|262.71302| free|Boston-Cambridge-...|   PUT|NextSong|1538331630000|        8|Knocking On Forbi...|   200|1538352416000|\"Mozilla/5.0 (Win...|     9|\n",
      "|       Daft Punk|Logged In|    Colin|     M|           52| Freeman|223.60771| paid|     Bakersfield, CA|   PUT|NextSong|1538173362000|       29|Harder Better Fas...|   200|1538352676000|Mozilla/5.0 (Wind...|    30|\n",
      "+----------------+---------+---------+------+-------------+--------+---------+-----+--------------------+------+--------+-------------+---------+--------------------+------+-------------+--------------------+------+\n",
      "only showing top 5 rows\n",
      "\n"
     ]
    }
   ],
   "source": [
    "df.show(5)"
   ]
  },
  {
   "cell_type": "code",
   "execution_count": 13,
   "metadata": {},
   "outputs": [
    {
     "name": "stdout",
     "output_type": "stream",
     "text": [
      "+----------------+---------+---------+------+-------------+--------+---------+-----+--------------------+------+--------+-------------+---------+--------------------+------+-------------+--------------------+------+\n",
      "|          artist|     auth|firstName|gender|itemInSession|lastName|   length|level|            location|method|    page| registration|sessionId|                song|status|           ts|           userAgent|userId|\n",
      "+----------------+---------+---------+------+-------------+--------+---------+-----+--------------------+------+--------+-------------+---------+--------------------+------+-------------+--------------------+------+\n",
      "|  Martha Tilston|Logged In|    Colin|     M|           50| Freeman|277.89016| paid|     Bakersfield, CA|   PUT|NextSong|1538173362000|       29|           Rockpools|   200|1538352117000|Mozilla/5.0 (Wind...|    30|\n",
      "|Five Iron Frenzy|Logged In|    Micah|     M|           79|    Long|236.09424| free|Boston-Cambridge-...|   PUT|NextSong|1538331630000|        8|              Canada|   200|1538352180000|\"Mozilla/5.0 (Win...|     9|\n",
      "|    Adam Lambert|Logged In|    Colin|     M|           51| Freeman| 282.8273| paid|     Bakersfield, CA|   PUT|NextSong|1538173362000|       29|   Time For Miracles|   200|1538352394000|Mozilla/5.0 (Wind...|    30|\n",
      "|          Enigma|Logged In|    Micah|     M|           80|    Long|262.71302| free|Boston-Cambridge-...|   PUT|NextSong|1538331630000|        8|Knocking On Forbi...|   200|1538352416000|\"Mozilla/5.0 (Win...|     9|\n",
      "|       Daft Punk|Logged In|    Colin|     M|           52| Freeman|223.60771| paid|     Bakersfield, CA|   PUT|NextSong|1538173362000|       29|Harder Better Fas...|   200|1538352676000|Mozilla/5.0 (Wind...|    30|\n",
      "+----------------+---------+---------+------+-------------+--------+---------+-----+--------------------+------+--------+-------------+---------+--------------------+------+-------------+--------------------+------+\n",
      "\n"
     ]
    }
   ],
   "source": [
    "query=spark.sql(\"select * from sparkify Limit 5\")\n",
    "query.show()"
   ]
  },
  {
   "cell_type": "code",
   "execution_count": 14,
   "metadata": {},
   "outputs": [
    {
     "data": {
      "text/html": [
       "<div>\n",
       "<style scoped>\n",
       "    .dataframe tbody tr th:only-of-type {\n",
       "        vertical-align: middle;\n",
       "    }\n",
       "\n",
       "    .dataframe tbody tr th {\n",
       "        vertical-align: top;\n",
       "    }\n",
       "\n",
       "    .dataframe thead th {\n",
       "        text-align: right;\n",
       "    }\n",
       "</style>\n",
       "<table border=\"1\" class=\"dataframe\">\n",
       "  <thead>\n",
       "    <tr style=\"text-align: right;\">\n",
       "      <th></th>\n",
       "      <th>artist</th>\n",
       "      <th>auth</th>\n",
       "      <th>firstName</th>\n",
       "      <th>gender</th>\n",
       "      <th>itemInSession</th>\n",
       "      <th>lastName</th>\n",
       "      <th>length</th>\n",
       "      <th>level</th>\n",
       "      <th>location</th>\n",
       "      <th>method</th>\n",
       "      <th>page</th>\n",
       "      <th>registration</th>\n",
       "      <th>sessionId</th>\n",
       "      <th>song</th>\n",
       "      <th>status</th>\n",
       "      <th>ts</th>\n",
       "      <th>userAgent</th>\n",
       "      <th>userId</th>\n",
       "    </tr>\n",
       "  </thead>\n",
       "  <tbody>\n",
       "    <tr>\n",
       "      <th>0</th>\n",
       "      <td>Martha Tilston</td>\n",
       "      <td>Logged In</td>\n",
       "      <td>Colin</td>\n",
       "      <td>M</td>\n",
       "      <td>50</td>\n",
       "      <td>Freeman</td>\n",
       "      <td>277.89016</td>\n",
       "      <td>paid</td>\n",
       "      <td>Bakersfield, CA</td>\n",
       "      <td>PUT</td>\n",
       "      <td>NextSong</td>\n",
       "      <td>1.538173e+12</td>\n",
       "      <td>29</td>\n",
       "      <td>Rockpools</td>\n",
       "      <td>200</td>\n",
       "      <td>1538352117000</td>\n",
       "      <td>Mozilla/5.0 (Windows NT 6.1; WOW64; rv:31.0) G...</td>\n",
       "      <td>30</td>\n",
       "    </tr>\n",
       "    <tr>\n",
       "      <th>1</th>\n",
       "      <td>Five Iron Frenzy</td>\n",
       "      <td>Logged In</td>\n",
       "      <td>Micah</td>\n",
       "      <td>M</td>\n",
       "      <td>79</td>\n",
       "      <td>Long</td>\n",
       "      <td>236.09424</td>\n",
       "      <td>free</td>\n",
       "      <td>Boston-Cambridge-Newton, MA-NH</td>\n",
       "      <td>PUT</td>\n",
       "      <td>NextSong</td>\n",
       "      <td>1.538332e+12</td>\n",
       "      <td>8</td>\n",
       "      <td>Canada</td>\n",
       "      <td>200</td>\n",
       "      <td>1538352180000</td>\n",
       "      <td>\"Mozilla/5.0 (Windows NT 6.1; WOW64) AppleWebK...</td>\n",
       "      <td>9</td>\n",
       "    </tr>\n",
       "    <tr>\n",
       "      <th>2</th>\n",
       "      <td>Adam Lambert</td>\n",
       "      <td>Logged In</td>\n",
       "      <td>Colin</td>\n",
       "      <td>M</td>\n",
       "      <td>51</td>\n",
       "      <td>Freeman</td>\n",
       "      <td>282.82730</td>\n",
       "      <td>paid</td>\n",
       "      <td>Bakersfield, CA</td>\n",
       "      <td>PUT</td>\n",
       "      <td>NextSong</td>\n",
       "      <td>1.538173e+12</td>\n",
       "      <td>29</td>\n",
       "      <td>Time For Miracles</td>\n",
       "      <td>200</td>\n",
       "      <td>1538352394000</td>\n",
       "      <td>Mozilla/5.0 (Windows NT 6.1; WOW64; rv:31.0) G...</td>\n",
       "      <td>30</td>\n",
       "    </tr>\n",
       "    <tr>\n",
       "      <th>3</th>\n",
       "      <td>Enigma</td>\n",
       "      <td>Logged In</td>\n",
       "      <td>Micah</td>\n",
       "      <td>M</td>\n",
       "      <td>80</td>\n",
       "      <td>Long</td>\n",
       "      <td>262.71302</td>\n",
       "      <td>free</td>\n",
       "      <td>Boston-Cambridge-Newton, MA-NH</td>\n",
       "      <td>PUT</td>\n",
       "      <td>NextSong</td>\n",
       "      <td>1.538332e+12</td>\n",
       "      <td>8</td>\n",
       "      <td>Knocking On Forbidden Doors</td>\n",
       "      <td>200</td>\n",
       "      <td>1538352416000</td>\n",
       "      <td>\"Mozilla/5.0 (Windows NT 6.1; WOW64) AppleWebK...</td>\n",
       "      <td>9</td>\n",
       "    </tr>\n",
       "    <tr>\n",
       "      <th>4</th>\n",
       "      <td>Daft Punk</td>\n",
       "      <td>Logged In</td>\n",
       "      <td>Colin</td>\n",
       "      <td>M</td>\n",
       "      <td>52</td>\n",
       "      <td>Freeman</td>\n",
       "      <td>223.60771</td>\n",
       "      <td>paid</td>\n",
       "      <td>Bakersfield, CA</td>\n",
       "      <td>PUT</td>\n",
       "      <td>NextSong</td>\n",
       "      <td>1.538173e+12</td>\n",
       "      <td>29</td>\n",
       "      <td>Harder Better Faster Stronger</td>\n",
       "      <td>200</td>\n",
       "      <td>1538352676000</td>\n",
       "      <td>Mozilla/5.0 (Windows NT 6.1; WOW64; rv:31.0) G...</td>\n",
       "      <td>30</td>\n",
       "    </tr>\n",
       "  </tbody>\n",
       "</table>\n",
       "</div>"
      ],
      "text/plain": [
       "             artist       auth firstName gender  itemInSession lastName  \\\n",
       "0    Martha Tilston  Logged In     Colin      M             50  Freeman   \n",
       "1  Five Iron Frenzy  Logged In     Micah      M             79     Long   \n",
       "2      Adam Lambert  Logged In     Colin      M             51  Freeman   \n",
       "3            Enigma  Logged In     Micah      M             80     Long   \n",
       "4         Daft Punk  Logged In     Colin      M             52  Freeman   \n",
       "\n",
       "      length level                        location method      page  \\\n",
       "0  277.89016  paid                 Bakersfield, CA    PUT  NextSong   \n",
       "1  236.09424  free  Boston-Cambridge-Newton, MA-NH    PUT  NextSong   \n",
       "2  282.82730  paid                 Bakersfield, CA    PUT  NextSong   \n",
       "3  262.71302  free  Boston-Cambridge-Newton, MA-NH    PUT  NextSong   \n",
       "4  223.60771  paid                 Bakersfield, CA    PUT  NextSong   \n",
       "\n",
       "   registration  sessionId                           song  status  \\\n",
       "0  1.538173e+12         29                      Rockpools     200   \n",
       "1  1.538332e+12          8                         Canada     200   \n",
       "2  1.538173e+12         29              Time For Miracles     200   \n",
       "3  1.538332e+12          8    Knocking On Forbidden Doors     200   \n",
       "4  1.538173e+12         29  Harder Better Faster Stronger     200   \n",
       "\n",
       "              ts                                          userAgent userId  \n",
       "0  1538352117000  Mozilla/5.0 (Windows NT 6.1; WOW64; rv:31.0) G...     30  \n",
       "1  1538352180000  \"Mozilla/5.0 (Windows NT 6.1; WOW64) AppleWebK...      9  \n",
       "2  1538352394000  Mozilla/5.0 (Windows NT 6.1; WOW64; rv:31.0) G...     30  \n",
       "3  1538352416000  \"Mozilla/5.0 (Windows NT 6.1; WOW64) AppleWebK...      9  \n",
       "4  1538352676000  Mozilla/5.0 (Windows NT 6.1; WOW64; rv:31.0) G...     30  "
      ]
     },
     "execution_count": 14,
     "metadata": {},
     "output_type": "execute_result"
    }
   ],
   "source": [
    "pd_df.head(5)"
   ]
  },
  {
   "cell_type": "code",
   "execution_count": 15,
   "metadata": {},
   "outputs": [
    {
     "data": {
      "text/plain": [
       "[Row(artist='Martha Tilston', auth='Logged In', firstName='Colin', gender='M', itemInSession=50, lastName='Freeman', length=277.89016, level='paid', location='Bakersfield, CA', method='PUT', page='NextSong', registration=1538173362000, sessionId=29, song='Rockpools', status=200, ts=1538352117000, userAgent='Mozilla/5.0 (Windows NT 6.1; WOW64; rv:31.0) Gecko/20100101 Firefox/31.0', userId='30'),\n",
       " Row(artist='Five Iron Frenzy', auth='Logged In', firstName='Micah', gender='M', itemInSession=79, lastName='Long', length=236.09424, level='free', location='Boston-Cambridge-Newton, MA-NH', method='PUT', page='NextSong', registration=1538331630000, sessionId=8, song='Canada', status=200, ts=1538352180000, userAgent='\"Mozilla/5.0 (Windows NT 6.1; WOW64) AppleWebKit/537.36 (KHTML, like Gecko) Chrome/37.0.2062.103 Safari/537.36\"', userId='9'),\n",
       " Row(artist='Adam Lambert', auth='Logged In', firstName='Colin', gender='M', itemInSession=51, lastName='Freeman', length=282.8273, level='paid', location='Bakersfield, CA', method='PUT', page='NextSong', registration=1538173362000, sessionId=29, song='Time For Miracles', status=200, ts=1538352394000, userAgent='Mozilla/5.0 (Windows NT 6.1; WOW64; rv:31.0) Gecko/20100101 Firefox/31.0', userId='30')]"
      ]
     },
     "execution_count": 15,
     "metadata": {},
     "output_type": "execute_result"
    }
   ],
   "source": [
    "df.take(3)"
   ]
  },
  {
   "cell_type": "code",
   "execution_count": 16,
   "metadata": {},
   "outputs": [
    {
     "data": {
      "text/html": [
       "<div>\n",
       "<style scoped>\n",
       "    .dataframe tbody tr th:only-of-type {\n",
       "        vertical-align: middle;\n",
       "    }\n",
       "\n",
       "    .dataframe tbody tr th {\n",
       "        vertical-align: top;\n",
       "    }\n",
       "\n",
       "    .dataframe thead th {\n",
       "        text-align: right;\n",
       "    }\n",
       "</style>\n",
       "<table border=\"1\" class=\"dataframe\">\n",
       "  <thead>\n",
       "    <tr style=\"text-align: right;\">\n",
       "      <th></th>\n",
       "      <th>artist</th>\n",
       "      <th>auth</th>\n",
       "      <th>firstName</th>\n",
       "      <th>gender</th>\n",
       "      <th>itemInSession</th>\n",
       "      <th>lastName</th>\n",
       "      <th>length</th>\n",
       "      <th>level</th>\n",
       "      <th>location</th>\n",
       "      <th>method</th>\n",
       "      <th>page</th>\n",
       "      <th>registration</th>\n",
       "      <th>sessionId</th>\n",
       "      <th>song</th>\n",
       "      <th>status</th>\n",
       "      <th>ts</th>\n",
       "      <th>userAgent</th>\n",
       "      <th>userId</th>\n",
       "    </tr>\n",
       "  </thead>\n",
       "  <tbody>\n",
       "    <tr>\n",
       "      <th>286498</th>\n",
       "      <td>None</td>\n",
       "      <td>Logged In</td>\n",
       "      <td>Emilia</td>\n",
       "      <td>F</td>\n",
       "      <td>44</td>\n",
       "      <td>House</td>\n",
       "      <td>NaN</td>\n",
       "      <td>paid</td>\n",
       "      <td>New York-Newark-Jersey City, NY-NJ-PA</td>\n",
       "      <td>GET</td>\n",
       "      <td>About</td>\n",
       "      <td>1.538337e+12</td>\n",
       "      <td>500</td>\n",
       "      <td>None</td>\n",
       "      <td>200</td>\n",
       "      <td>1543622398000</td>\n",
       "      <td>Mozilla/5.0 (compatible; MSIE 9.0; Windows NT ...</td>\n",
       "      <td>300011</td>\n",
       "    </tr>\n",
       "    <tr>\n",
       "      <th>286499</th>\n",
       "      <td>Camera Obscura</td>\n",
       "      <td>Logged In</td>\n",
       "      <td>Emilia</td>\n",
       "      <td>F</td>\n",
       "      <td>45</td>\n",
       "      <td>House</td>\n",
       "      <td>170.89261</td>\n",
       "      <td>paid</td>\n",
       "      <td>New York-Newark-Jersey City, NY-NJ-PA</td>\n",
       "      <td>PUT</td>\n",
       "      <td>NextSong</td>\n",
       "      <td>1.538337e+12</td>\n",
       "      <td>500</td>\n",
       "      <td>The Sun On His Back</td>\n",
       "      <td>200</td>\n",
       "      <td>1543622411000</td>\n",
       "      <td>Mozilla/5.0 (compatible; MSIE 9.0; Windows NT ...</td>\n",
       "      <td>300011</td>\n",
       "    </tr>\n",
       "  </tbody>\n",
       "</table>\n",
       "</div>"
      ],
      "text/plain": [
       "                artist       auth firstName gender  itemInSession lastName  \\\n",
       "286498            None  Logged In    Emilia      F             44    House   \n",
       "286499  Camera Obscura  Logged In    Emilia      F             45    House   \n",
       "\n",
       "           length level                               location method  \\\n",
       "286498        NaN  paid  New York-Newark-Jersey City, NY-NJ-PA    GET   \n",
       "286499  170.89261  paid  New York-Newark-Jersey City, NY-NJ-PA    PUT   \n",
       "\n",
       "            page  registration  sessionId                 song  status  \\\n",
       "286498     About  1.538337e+12        500                 None     200   \n",
       "286499  NextSong  1.538337e+12        500  The Sun On His Back     200   \n",
       "\n",
       "                   ts                                          userAgent  \\\n",
       "286498  1543622398000  Mozilla/5.0 (compatible; MSIE 9.0; Windows NT ...   \n",
       "286499  1543622411000  Mozilla/5.0 (compatible; MSIE 9.0; Windows NT ...   \n",
       "\n",
       "        userId  \n",
       "286498  300011  \n",
       "286499  300011  "
      ]
     },
     "execution_count": 16,
     "metadata": {},
     "output_type": "execute_result"
    }
   ],
   "source": [
    "pd_df.tail(2)"
   ]
  },
  {
   "cell_type": "code",
   "execution_count": 17,
   "metadata": {},
   "outputs": [
    {
     "name": "stdout",
     "output_type": "stream",
     "text": [
      "+--------------------+\n",
      "|              artist|\n",
      "+--------------------+\n",
      "|      Martha Tilston|\n",
      "|    Five Iron Frenzy|\n",
      "|        Adam Lambert|\n",
      "|              Enigma|\n",
      "|           Daft Punk|\n",
      "|The All-American ...|\n",
      "|The Velvet Underg...|\n",
      "|        Starflyer 59|\n",
      "|                null|\n",
      "|            Frumpies|\n",
      "+--------------------+\n",
      "only showing top 10 rows\n",
      "\n"
     ]
    }
   ],
   "source": [
    "df.select('artist').show(10)"
   ]
  },
  {
   "cell_type": "code",
   "execution_count": 18,
   "metadata": {},
   "outputs": [
    {
     "name": "stdout",
     "output_type": "stream",
     "text": [
      "+--------------------+\n",
      "|              artist|\n",
      "+--------------------+\n",
      "|      Martha Tilston|\n",
      "|    Five Iron Frenzy|\n",
      "|        Adam Lambert|\n",
      "|              Enigma|\n",
      "|           Daft Punk|\n",
      "|The All-American ...|\n",
      "|The Velvet Underg...|\n",
      "|        Starflyer 59|\n",
      "|                null|\n",
      "|            Frumpies|\n",
      "+--------------------+\n",
      "\n"
     ]
    }
   ],
   "source": [
    "query=spark.sql(\"select artist from sparkify LIMIT 10\")\n",
    "query.show()"
   ]
  },
  {
   "cell_type": "code",
   "execution_count": 19,
   "metadata": {},
   "outputs": [
    {
     "data": {
      "text/plain": [
       "0                   Martha Tilston\n",
       "1                 Five Iron Frenzy\n",
       "2                     Adam Lambert\n",
       "3                           Enigma\n",
       "4                        Daft Punk\n",
       "5         The All-American Rejects\n",
       "6    The Velvet Underground / Nico\n",
       "7                     Starflyer 59\n",
       "8                             None\n",
       "9                         Frumpies\n",
       "Name: artist, dtype: object"
      ]
     },
     "execution_count": 19,
     "metadata": {},
     "output_type": "execute_result"
    }
   ],
   "source": [
    "pd_df['artist'].head(10)"
   ]
  },
  {
   "cell_type": "code",
   "execution_count": 20,
   "metadata": {},
   "outputs": [
    {
     "name": "stdout",
     "output_type": "stream",
     "text": [
      "+----------------+---------+---------+\n",
      "|          artist|     auth|firstName|\n",
      "+----------------+---------+---------+\n",
      "|  Martha Tilston|Logged In|    Colin|\n",
      "|Five Iron Frenzy|Logged In|    Micah|\n",
      "|    Adam Lambert|Logged In|    Colin|\n",
      "|          Enigma|Logged In|    Micah|\n",
      "|       Daft Punk|Logged In|    Colin|\n",
      "+----------------+---------+---------+\n",
      "only showing top 5 rows\n",
      "\n"
     ]
    }
   ],
   "source": [
    "df.select(['artist','auth','firstName']).show(5)"
   ]
  },
  {
   "cell_type": "code",
   "execution_count": 21,
   "metadata": {},
   "outputs": [
    {
     "name": "stdout",
     "output_type": "stream",
     "text": [
      "+--------------------+---------+---------+\n",
      "|              artist|     auth|firstName|\n",
      "+--------------------+---------+---------+\n",
      "|      Martha Tilston|Logged In|    Colin|\n",
      "|    Five Iron Frenzy|Logged In|    Micah|\n",
      "|        Adam Lambert|Logged In|    Colin|\n",
      "|              Enigma|Logged In|    Micah|\n",
      "|           Daft Punk|Logged In|    Colin|\n",
      "|The All-American ...|Logged In|    Micah|\n",
      "|The Velvet Underg...|Logged In|    Micah|\n",
      "|        Starflyer 59|Logged In|    Colin|\n",
      "|                null|Logged In|    Colin|\n",
      "|            Frumpies|Logged In|    Colin|\n",
      "+--------------------+---------+---------+\n",
      "\n"
     ]
    }
   ],
   "source": [
    "query=spark.sql(\"select artist,auth,firstName from sparkify LIMIT 10\")\n",
    "query.show()"
   ]
  },
  {
   "cell_type": "code",
   "execution_count": 22,
   "metadata": {},
   "outputs": [
    {
     "data": {
      "text/html": [
       "<div>\n",
       "<style scoped>\n",
       "    .dataframe tbody tr th:only-of-type {\n",
       "        vertical-align: middle;\n",
       "    }\n",
       "\n",
       "    .dataframe tbody tr th {\n",
       "        vertical-align: top;\n",
       "    }\n",
       "\n",
       "    .dataframe thead th {\n",
       "        text-align: right;\n",
       "    }\n",
       "</style>\n",
       "<table border=\"1\" class=\"dataframe\">\n",
       "  <thead>\n",
       "    <tr style=\"text-align: right;\">\n",
       "      <th></th>\n",
       "      <th>artist</th>\n",
       "      <th>auth</th>\n",
       "      <th>firstName</th>\n",
       "    </tr>\n",
       "  </thead>\n",
       "  <tbody>\n",
       "    <tr>\n",
       "      <th>0</th>\n",
       "      <td>Martha Tilston</td>\n",
       "      <td>Logged In</td>\n",
       "      <td>Colin</td>\n",
       "    </tr>\n",
       "    <tr>\n",
       "      <th>1</th>\n",
       "      <td>Five Iron Frenzy</td>\n",
       "      <td>Logged In</td>\n",
       "      <td>Micah</td>\n",
       "    </tr>\n",
       "    <tr>\n",
       "      <th>2</th>\n",
       "      <td>Adam Lambert</td>\n",
       "      <td>Logged In</td>\n",
       "      <td>Colin</td>\n",
       "    </tr>\n",
       "    <tr>\n",
       "      <th>3</th>\n",
       "      <td>Enigma</td>\n",
       "      <td>Logged In</td>\n",
       "      <td>Micah</td>\n",
       "    </tr>\n",
       "    <tr>\n",
       "      <th>4</th>\n",
       "      <td>Daft Punk</td>\n",
       "      <td>Logged In</td>\n",
       "      <td>Colin</td>\n",
       "    </tr>\n",
       "  </tbody>\n",
       "</table>\n",
       "</div>"
      ],
      "text/plain": [
       "             artist       auth firstName\n",
       "0    Martha Tilston  Logged In     Colin\n",
       "1  Five Iron Frenzy  Logged In     Micah\n",
       "2      Adam Lambert  Logged In     Colin\n",
       "3            Enigma  Logged In     Micah\n",
       "4         Daft Punk  Logged In     Colin"
      ]
     },
     "execution_count": 22,
     "metadata": {},
     "output_type": "execute_result"
    }
   ],
   "source": [
    "pd_df[['artist','auth','firstName']].head(5)"
   ]
  },
  {
   "cell_type": "markdown",
   "metadata": {},
   "source": [
    "**Study Objective Filtering Rows**\n",
    "1. Fiter based on single colunms"
   ]
  },
  {
   "cell_type": "code",
   "execution_count": 23,
   "metadata": {},
   "outputs": [
    {
     "name": "stdout",
     "output_type": "stream",
     "text": [
      "+--------------------+---------+---------+------+-------------+--------+---------+-----+--------------------+------+-----------+-------------+---------+--------------------+------+-------------+--------------------+------+\n",
      "|              artist|     auth|firstName|gender|itemInSession|lastName|   length|level|            location|method|       page| registration|sessionId|                song|status|           ts|           userAgent|userId|\n",
      "+--------------------+---------+---------+------+-------------+--------+---------+-----+--------------------+------+-----------+-------------+---------+--------------------+------+-------------+--------------------+------+\n",
      "|             La Roux|Logged In|   Emilia|     F|            0|   House|233.11628| free|New York-Newark-J...|   PUT|   NextSong|1538336771000|       11|         Armour Love|   200|1538430493000|Mozilla/5.0 (comp...|300011|\n",
      "|    Dropkick Murphys|Logged In|   Emilia|     F|            1|   House|233.53424| free|New York-Newark-J...|   PUT|   NextSong|1538336771000|       11|     The Dirty Glass|   200|1538430726000|Mozilla/5.0 (comp...|300011|\n",
      "|        Jack Johnson|Logged In|   Emilia|     F|            2|   House|196.20526| free|New York-Newark-J...|   PUT|   NextSong|1538336771000|       11|  You And Your Heart|   200|1538430959000|Mozilla/5.0 (comp...|300011|\n",
      "|        Deana Carter|Logged In|   Emilia|     F|            3|   House| 214.5171| free|New York-Newark-J...|   PUT|   NextSong|1538336771000|       11|  She's Good For You|   200|1538431155000|Mozilla/5.0 (comp...|300011|\n",
      "|Circle Of Dead Ch...|Logged In|   Emilia|     F|            4|   House|101.14567| free|New York-Newark-J...|   PUT|   NextSong|1538336771000|       11|Born On A Bomb Shell|   200|1538431369000|Mozilla/5.0 (comp...|300011|\n",
      "|                null|Logged In|   Emilia|     F|            5|   House|     null| free|New York-Newark-J...|   GET|       Home|1538336771000|       11|                null|   200|1538431467000|Mozilla/5.0 (comp...|300011|\n",
      "|      Iron Butterfly|Logged In|   Emilia|     F|            6|   House|182.12526| free|New York-Newark-J...|   PUT|   NextSong|1538336771000|       11|  In-A-Gadda-Da-Vida|   200|1538431470000|Mozilla/5.0 (comp...|300011|\n",
      "|         OneRepublic|Logged In|   Emilia|     F|            7|   House|242.93832| free|New York-Newark-J...|   PUT|   NextSong|1538336771000|       11|       All This Time|   200|1538431652000|Mozilla/5.0 (comp...|300011|\n",
      "|          Miike Snow|Logged In|   Emilia|     F|            8|   House|263.88853| free|New York-Newark-J...|   PUT|   NextSong|1538336771000|       11|              Animal|   200|1538431894000|Mozilla/5.0 (comp...|300011|\n",
      "|          Irene Cara|Logged In|   Emilia|     F|            9|   House|244.53179| free|New York-Newark-J...|   PUT|   NextSong|1538336771000|       11|      What A Feeling|   200|1538432157000|Mozilla/5.0 (comp...|300011|\n",
      "|                null|Logged In|   Emilia|     F|           10|   House|     null| free|New York-Newark-J...|   GET|Roll Advert|1538336771000|       11|                null|   200|1538432189000|Mozilla/5.0 (comp...|300011|\n",
      "|      Charlie Louvin|Logged In|   Emilia|     F|           11|   House|170.86649| free|New York-Newark-J...|   PUT|   NextSong|1538336771000|       11|   I Think I'll Live|   200|1538432401000|Mozilla/5.0 (comp...|300011|\n",
      "|    Jimmy McCracklin|Logged In|   Emilia|     F|           12|   House|166.97424| free|New York-Newark-J...|   PUT|   NextSong|1538336771000|       11| I'll Take The Blame|   200|1538432571000|Mozilla/5.0 (comp...|300011|\n",
      "|           The Dodos|Logged In|   Emilia|     F|           13|   House|441.88689| free|New York-Newark-J...|   PUT|   NextSong|1538336771000|       11|         Joe's Waltz|   200|1538432737000|Mozilla/5.0 (comp...|300011|\n",
      "|  DHT Feat. EdmÃÂ©e|Logged In|   Emilia|     F|           14|   House|229.98159| free|New York-Newark-J...|   PUT|   NextSong|1538336771000|       11|Listen To Your Heart|   200|1538433178000|Mozilla/5.0 (comp...|300011|\n",
      "|        Fall Out Boy|Logged In|   Emilia|     F|           15|   House|211.46077| free|New York-Newark-J...|   PUT|   NextSong|1538336771000|       11|I Slept With Some...|   200|1538433407000|Mozilla/5.0 (comp...|300011|\n",
      "|       Kings Of Leon|Logged In|   Emilia|     F|           16|   House|231.81016| free|New York-Newark-J...|   PUT|   NextSong|1538336771000|       11|        Use Somebody|   200|1538433618000|Mozilla/5.0 (comp...|300011|\n",
      "|                null|Logged In|   Emilia|     F|           17|   House|     null| free|New York-Newark-J...|   PUT|  Thumbs Up|1538336771000|       11|                null|   307|1538433619000|Mozilla/5.0 (comp...|300011|\n",
      "|           Ry Cooder|Logged In|   Emilia|     F|           18|   House|201.56036| free|New York-Newark-J...|   PUT|   NextSong|1538336771000|       11|    Corrido de Boxeo|   200|1538433849000|Mozilla/5.0 (comp...|300011|\n",
      "|      The Mars Volta|Logged In|   Emilia|     F|           19|   House|380.42077| free|New York-Newark-J...|   PUT|   NextSong|1538336771000|       11|           Eriatarka|   200|1538434050000|Mozilla/5.0 (comp...|300011|\n",
      "+--------------------+---------+---------+------+-------------+--------+---------+-----+--------------------+------+-----------+-------------+---------+--------------------+------+-------------+--------------------+------+\n",
      "only showing top 20 rows\n",
      "\n"
     ]
    }
   ],
   "source": [
    "df[df.userId == \"300011\"].show()"
   ]
  },
  {
   "cell_type": "code",
   "execution_count": 24,
   "metadata": {},
   "outputs": [
    {
     "name": "stdout",
     "output_type": "stream",
     "text": [
      "+--------------------+---------+---------+------+-------------+--------+---------+-----+--------------------+------+--------+-------------+---------+--------------------+------+-------------+--------------------+------+\n",
      "|              artist|     auth|firstName|gender|itemInSession|lastName|   length|level|            location|method|    page| registration|sessionId|                song|status|           ts|           userAgent|userId|\n",
      "+--------------------+---------+---------+------+-------------+--------+---------+-----+--------------------+------+--------+-------------+---------+--------------------+------+-------------+--------------------+------+\n",
      "|             La Roux|Logged In|   Emilia|     F|            0|   House|233.11628| free|New York-Newark-J...|   PUT|NextSong|1538336771000|       11|         Armour Love|   200|1538430493000|Mozilla/5.0 (comp...|300011|\n",
      "|    Dropkick Murphys|Logged In|   Emilia|     F|            1|   House|233.53424| free|New York-Newark-J...|   PUT|NextSong|1538336771000|       11|     The Dirty Glass|   200|1538430726000|Mozilla/5.0 (comp...|300011|\n",
      "|        Jack Johnson|Logged In|   Emilia|     F|            2|   House|196.20526| free|New York-Newark-J...|   PUT|NextSong|1538336771000|       11|  You And Your Heart|   200|1538430959000|Mozilla/5.0 (comp...|300011|\n",
      "|        Deana Carter|Logged In|   Emilia|     F|            3|   House| 214.5171| free|New York-Newark-J...|   PUT|NextSong|1538336771000|       11|  She's Good For You|   200|1538431155000|Mozilla/5.0 (comp...|300011|\n",
      "|Circle Of Dead Ch...|Logged In|   Emilia|     F|            4|   House|101.14567| free|New York-Newark-J...|   PUT|NextSong|1538336771000|       11|Born On A Bomb Shell|   200|1538431369000|Mozilla/5.0 (comp...|300011|\n",
      "|                null|Logged In|   Emilia|     F|            5|   House|     null| free|New York-Newark-J...|   GET|    Home|1538336771000|       11|                null|   200|1538431467000|Mozilla/5.0 (comp...|300011|\n",
      "|      Iron Butterfly|Logged In|   Emilia|     F|            6|   House|182.12526| free|New York-Newark-J...|   PUT|NextSong|1538336771000|       11|  In-A-Gadda-Da-Vida|   200|1538431470000|Mozilla/5.0 (comp...|300011|\n",
      "|         OneRepublic|Logged In|   Emilia|     F|            7|   House|242.93832| free|New York-Newark-J...|   PUT|NextSong|1538336771000|       11|       All This Time|   200|1538431652000|Mozilla/5.0 (comp...|300011|\n",
      "|          Miike Snow|Logged In|   Emilia|     F|            8|   House|263.88853| free|New York-Newark-J...|   PUT|NextSong|1538336771000|       11|              Animal|   200|1538431894000|Mozilla/5.0 (comp...|300011|\n",
      "|          Irene Cara|Logged In|   Emilia|     F|            9|   House|244.53179| free|New York-Newark-J...|   PUT|NextSong|1538336771000|       11|      What A Feeling|   200|1538432157000|Mozilla/5.0 (comp...|300011|\n",
      "+--------------------+---------+---------+------+-------------+--------+---------+-----+--------------------+------+--------+-------------+---------+--------------------+------+-------------+--------------------+------+\n",
      "\n"
     ]
    }
   ],
   "source": [
    "## using sql apis of spark\n",
    "query=spark.sql(\"select * from sparkify where userId = '300011' LIMIT 10\")\n",
    "query.show()"
   ]
  },
  {
   "cell_type": "code",
   "execution_count": 25,
   "metadata": {},
   "outputs": [
    {
     "data": {
      "text/html": [
       "<div>\n",
       "<style scoped>\n",
       "    .dataframe tbody tr th:only-of-type {\n",
       "        vertical-align: middle;\n",
       "    }\n",
       "\n",
       "    .dataframe tbody tr th {\n",
       "        vertical-align: top;\n",
       "    }\n",
       "\n",
       "    .dataframe thead th {\n",
       "        text-align: right;\n",
       "    }\n",
       "</style>\n",
       "<table border=\"1\" class=\"dataframe\">\n",
       "  <thead>\n",
       "    <tr style=\"text-align: right;\">\n",
       "      <th></th>\n",
       "      <th>artist</th>\n",
       "      <th>auth</th>\n",
       "      <th>firstName</th>\n",
       "      <th>gender</th>\n",
       "      <th>itemInSession</th>\n",
       "      <th>lastName</th>\n",
       "      <th>length</th>\n",
       "      <th>level</th>\n",
       "      <th>location</th>\n",
       "      <th>method</th>\n",
       "      <th>page</th>\n",
       "      <th>registration</th>\n",
       "      <th>sessionId</th>\n",
       "      <th>song</th>\n",
       "      <th>status</th>\n",
       "      <th>ts</th>\n",
       "      <th>userAgent</th>\n",
       "      <th>userId</th>\n",
       "    </tr>\n",
       "  </thead>\n",
       "  <tbody>\n",
       "    <tr>\n",
       "      <th>249009</th>\n",
       "      <td>La Roux</td>\n",
       "      <td>Logged In</td>\n",
       "      <td>Emilia</td>\n",
       "      <td>F</td>\n",
       "      <td>0</td>\n",
       "      <td>House</td>\n",
       "      <td>233.11628</td>\n",
       "      <td>free</td>\n",
       "      <td>New York-Newark-Jersey City, NY-NJ-PA</td>\n",
       "      <td>PUT</td>\n",
       "      <td>NextSong</td>\n",
       "      <td>1.538337e+12</td>\n",
       "      <td>11</td>\n",
       "      <td>Armour Love</td>\n",
       "      <td>200</td>\n",
       "      <td>1538430493000</td>\n",
       "      <td>Mozilla/5.0 (compatible; MSIE 9.0; Windows NT ...</td>\n",
       "      <td>300011</td>\n",
       "    </tr>\n",
       "    <tr>\n",
       "      <th>249011</th>\n",
       "      <td>Dropkick Murphys</td>\n",
       "      <td>Logged In</td>\n",
       "      <td>Emilia</td>\n",
       "      <td>F</td>\n",
       "      <td>1</td>\n",
       "      <td>House</td>\n",
       "      <td>233.53424</td>\n",
       "      <td>free</td>\n",
       "      <td>New York-Newark-Jersey City, NY-NJ-PA</td>\n",
       "      <td>PUT</td>\n",
       "      <td>NextSong</td>\n",
       "      <td>1.538337e+12</td>\n",
       "      <td>11</td>\n",
       "      <td>The Dirty Glass</td>\n",
       "      <td>200</td>\n",
       "      <td>1538430726000</td>\n",
       "      <td>Mozilla/5.0 (compatible; MSIE 9.0; Windows NT ...</td>\n",
       "      <td>300011</td>\n",
       "    </tr>\n",
       "    <tr>\n",
       "      <th>249013</th>\n",
       "      <td>Jack Johnson</td>\n",
       "      <td>Logged In</td>\n",
       "      <td>Emilia</td>\n",
       "      <td>F</td>\n",
       "      <td>2</td>\n",
       "      <td>House</td>\n",
       "      <td>196.20526</td>\n",
       "      <td>free</td>\n",
       "      <td>New York-Newark-Jersey City, NY-NJ-PA</td>\n",
       "      <td>PUT</td>\n",
       "      <td>NextSong</td>\n",
       "      <td>1.538337e+12</td>\n",
       "      <td>11</td>\n",
       "      <td>You And Your Heart</td>\n",
       "      <td>200</td>\n",
       "      <td>1538430959000</td>\n",
       "      <td>Mozilla/5.0 (compatible; MSIE 9.0; Windows NT ...</td>\n",
       "      <td>300011</td>\n",
       "    </tr>\n",
       "    <tr>\n",
       "      <th>249015</th>\n",
       "      <td>Deana Carter</td>\n",
       "      <td>Logged In</td>\n",
       "      <td>Emilia</td>\n",
       "      <td>F</td>\n",
       "      <td>3</td>\n",
       "      <td>House</td>\n",
       "      <td>214.51710</td>\n",
       "      <td>free</td>\n",
       "      <td>New York-Newark-Jersey City, NY-NJ-PA</td>\n",
       "      <td>PUT</td>\n",
       "      <td>NextSong</td>\n",
       "      <td>1.538337e+12</td>\n",
       "      <td>11</td>\n",
       "      <td>She's Good For You</td>\n",
       "      <td>200</td>\n",
       "      <td>1538431155000</td>\n",
       "      <td>Mozilla/5.0 (compatible; MSIE 9.0; Windows NT ...</td>\n",
       "      <td>300011</td>\n",
       "    </tr>\n",
       "    <tr>\n",
       "      <th>249017</th>\n",
       "      <td>Circle Of Dead Children</td>\n",
       "      <td>Logged In</td>\n",
       "      <td>Emilia</td>\n",
       "      <td>F</td>\n",
       "      <td>4</td>\n",
       "      <td>House</td>\n",
       "      <td>101.14567</td>\n",
       "      <td>free</td>\n",
       "      <td>New York-Newark-Jersey City, NY-NJ-PA</td>\n",
       "      <td>PUT</td>\n",
       "      <td>NextSong</td>\n",
       "      <td>1.538337e+12</td>\n",
       "      <td>11</td>\n",
       "      <td>Born On A Bomb Shell</td>\n",
       "      <td>200</td>\n",
       "      <td>1538431369000</td>\n",
       "      <td>Mozilla/5.0 (compatible; MSIE 9.0; Windows NT ...</td>\n",
       "      <td>300011</td>\n",
       "    </tr>\n",
       "  </tbody>\n",
       "</table>\n",
       "</div>"
      ],
      "text/plain": [
       "                         artist       auth firstName gender  itemInSession  \\\n",
       "249009                  La Roux  Logged In    Emilia      F              0   \n",
       "249011         Dropkick Murphys  Logged In    Emilia      F              1   \n",
       "249013             Jack Johnson  Logged In    Emilia      F              2   \n",
       "249015             Deana Carter  Logged In    Emilia      F              3   \n",
       "249017  Circle Of Dead Children  Logged In    Emilia      F              4   \n",
       "\n",
       "       lastName     length level                               location  \\\n",
       "249009    House  233.11628  free  New York-Newark-Jersey City, NY-NJ-PA   \n",
       "249011    House  233.53424  free  New York-Newark-Jersey City, NY-NJ-PA   \n",
       "249013    House  196.20526  free  New York-Newark-Jersey City, NY-NJ-PA   \n",
       "249015    House  214.51710  free  New York-Newark-Jersey City, NY-NJ-PA   \n",
       "249017    House  101.14567  free  New York-Newark-Jersey City, NY-NJ-PA   \n",
       "\n",
       "       method      page  registration  sessionId                  song  \\\n",
       "249009    PUT  NextSong  1.538337e+12         11           Armour Love   \n",
       "249011    PUT  NextSong  1.538337e+12         11       The Dirty Glass   \n",
       "249013    PUT  NextSong  1.538337e+12         11    You And Your Heart   \n",
       "249015    PUT  NextSong  1.538337e+12         11    She's Good For You   \n",
       "249017    PUT  NextSong  1.538337e+12         11  Born On A Bomb Shell   \n",
       "\n",
       "        status             ts  \\\n",
       "249009     200  1538430493000   \n",
       "249011     200  1538430726000   \n",
       "249013     200  1538430959000   \n",
       "249015     200  1538431155000   \n",
       "249017     200  1538431369000   \n",
       "\n",
       "                                                userAgent  userId  \n",
       "249009  Mozilla/5.0 (compatible; MSIE 9.0; Windows NT ...  300011  \n",
       "249011  Mozilla/5.0 (compatible; MSIE 9.0; Windows NT ...  300011  \n",
       "249013  Mozilla/5.0 (compatible; MSIE 9.0; Windows NT ...  300011  \n",
       "249015  Mozilla/5.0 (compatible; MSIE 9.0; Windows NT ...  300011  \n",
       "249017  Mozilla/5.0 (compatible; MSIE 9.0; Windows NT ...  300011  "
      ]
     },
     "execution_count": 25,
     "metadata": {},
     "output_type": "execute_result"
    }
   ],
   "source": [
    "pd_df[pd_df['userId']==\"300011\"].head(5)"
   ]
  },
  {
   "cell_type": "code",
   "execution_count": 26,
   "metadata": {},
   "outputs": [
    {
     "name": "stdout",
     "output_type": "stream",
     "text": [
      "+--------------------+---------+---------+------+-------------+--------+---------+-----+--------------------+------+--------+-------------+---------+--------------------+------+-------------+--------------------+------+\n",
      "|              artist|     auth|firstName|gender|itemInSession|lastName|   length|level|            location|method|    page| registration|sessionId|                song|status|           ts|           userAgent|userId|\n",
      "+--------------------+---------+---------+------+-------------+--------+---------+-----+--------------------+------+--------+-------------+---------+--------------------+------+-------------+--------------------+------+\n",
      "|             La Roux|Logged In|   Emilia|     F|            0|   House|233.11628| free|New York-Newark-J...|   PUT|NextSong|1538336771000|       11|         Armour Love|   200|1538430493000|Mozilla/5.0 (comp...|300011|\n",
      "|    Dropkick Murphys|Logged In|   Emilia|     F|            1|   House|233.53424| free|New York-Newark-J...|   PUT|NextSong|1538336771000|       11|     The Dirty Glass|   200|1538430726000|Mozilla/5.0 (comp...|300011|\n",
      "|        Jack Johnson|Logged In|   Emilia|     F|            2|   House|196.20526| free|New York-Newark-J...|   PUT|NextSong|1538336771000|       11|  You And Your Heart|   200|1538430959000|Mozilla/5.0 (comp...|300011|\n",
      "|        Deana Carter|Logged In|   Emilia|     F|            3|   House| 214.5171| free|New York-Newark-J...|   PUT|NextSong|1538336771000|       11|  She's Good For You|   200|1538431155000|Mozilla/5.0 (comp...|300011|\n",
      "|Circle Of Dead Ch...|Logged In|   Emilia|     F|            4|   House|101.14567| free|New York-Newark-J...|   PUT|NextSong|1538336771000|       11|Born On A Bomb Shell|   200|1538431369000|Mozilla/5.0 (comp...|300011|\n",
      "+--------------------+---------+---------+------+-------------+--------+---------+-----+--------------------+------+--------+-------------+---------+--------------------+------+-------------+--------------------+------+\n",
      "only showing top 5 rows\n",
      "\n"
     ]
    }
   ],
   "source": [
    "df.filter(df.userId == \"300011\").show(5)"
   ]
  },
  {
   "cell_type": "code",
   "execution_count": 27,
   "metadata": {},
   "outputs": [
    {
     "name": "stdout",
     "output_type": "stream",
     "text": [
      "+------------+---------+---------+------+-------------+--------+---------+-----+--------------------+------+--------+-------------+---------+------------------+------+-------------+--------------------+------+\n",
      "|      artist|     auth|firstName|gender|itemInSession|lastName|   length|level|            location|method|    page| registration|sessionId|              song|status|           ts|           userAgent|userId|\n",
      "+------------+---------+---------+------+-------------+--------+---------+-----+--------------------+------+--------+-------------+---------+------------------+------+-------------+--------------------+------+\n",
      "|Jack Johnson|Logged In|   Emilia|     F|            2|   House|196.20526| free|New York-Newark-J...|   PUT|NextSong|1538336771000|       11|You And Your Heart|   200|1538430959000|Mozilla/5.0 (comp...|300011|\n",
      "|Jack Johnson|Logged In|   Emilia|     F|          133|   House|236.72118| paid|New York-Newark-J...|   PUT|NextSong|1538336771000|       54|       Bubble Toes|   200|1538538394000|Mozilla/5.0 (comp...|300011|\n",
      "|Jack Johnson|Logged In|   Emilia|     F|           37|   House|207.64689| paid|New York-Newark-J...|   PUT|NextSong|1538336771000|       80|   Better Together|   200|1538751282000|Mozilla/5.0 (comp...|300011|\n",
      "|Jack Johnson|Logged In|   Emilia|     F|           71|   House|212.87138| paid|New York-Newark-J...|   PUT|NextSong|1538336771000|      112|        Never Know|   200|1539268213000|Mozilla/5.0 (comp...|300011|\n",
      "|Jack Johnson|Logged In|   Emilia|     F|            0|   House|185.99138| paid|New York-Newark-J...|   PUT|NextSong|1538336771000|      156|      Crying Shame|   200|1539546866000|Mozilla/5.0 (comp...|300011|\n",
      "+------------+---------+---------+------+-------------+--------+---------+-----+--------------------+------+--------+-------------+---------+------------------+------+-------------+--------------------+------+\n",
      "only showing top 5 rows\n",
      "\n"
     ]
    }
   ],
   "source": [
    "df.filter((df.userId == \"300011\") & (df.artist =='Jack Johnson') ).show(5)"
   ]
  },
  {
   "cell_type": "code",
   "execution_count": 28,
   "metadata": {},
   "outputs": [
    {
     "name": "stdout",
     "output_type": "stream",
     "text": [
      "+------------+---------+---------+------+-------------+--------+---------+-----+--------------------+------+--------+-------------+---------+------------------+------+-------------+--------------------+------+\n",
      "|      artist|     auth|firstName|gender|itemInSession|lastName|   length|level|            location|method|    page| registration|sessionId|              song|status|           ts|           userAgent|userId|\n",
      "+------------+---------+---------+------+-------------+--------+---------+-----+--------------------+------+--------+-------------+---------+------------------+------+-------------+--------------------+------+\n",
      "|Jack Johnson|Logged In|   Emilia|     F|            2|   House|196.20526| free|New York-Newark-J...|   PUT|NextSong|1538336771000|       11|You And Your Heart|   200|1538430959000|Mozilla/5.0 (comp...|300011|\n",
      "|Jack Johnson|Logged In|   Emilia|     F|          133|   House|236.72118| paid|New York-Newark-J...|   PUT|NextSong|1538336771000|       54|       Bubble Toes|   200|1538538394000|Mozilla/5.0 (comp...|300011|\n",
      "|Jack Johnson|Logged In|   Emilia|     F|           37|   House|207.64689| paid|New York-Newark-J...|   PUT|NextSong|1538336771000|       80|   Better Together|   200|1538751282000|Mozilla/5.0 (comp...|300011|\n",
      "|Jack Johnson|Logged In|   Emilia|     F|           71|   House|212.87138| paid|New York-Newark-J...|   PUT|NextSong|1538336771000|      112|        Never Know|   200|1539268213000|Mozilla/5.0 (comp...|300011|\n",
      "|Jack Johnson|Logged In|   Emilia|     F|            0|   House|185.99138| paid|New York-Newark-J...|   PUT|NextSong|1538336771000|      156|      Crying Shame|   200|1539546866000|Mozilla/5.0 (comp...|300011|\n",
      "+------------+---------+---------+------+-------------+--------+---------+-----+--------------------+------+--------+-------------+---------+------------------+------+-------------+--------------------+------+\n",
      "\n"
     ]
    }
   ],
   "source": [
    "query=spark.sql(\"select * from sparkify where userId = '300011' and artist = 'Jack Johnson' LIMIT 5\")\n",
    "query.show()\n"
   ]
  },
  {
   "cell_type": "code",
   "execution_count": 29,
   "metadata": {},
   "outputs": [
    {
     "data": {
      "text/html": [
       "<div>\n",
       "<style scoped>\n",
       "    .dataframe tbody tr th:only-of-type {\n",
       "        vertical-align: middle;\n",
       "    }\n",
       "\n",
       "    .dataframe tbody tr th {\n",
       "        vertical-align: top;\n",
       "    }\n",
       "\n",
       "    .dataframe thead th {\n",
       "        text-align: right;\n",
       "    }\n",
       "</style>\n",
       "<table border=\"1\" class=\"dataframe\">\n",
       "  <thead>\n",
       "    <tr style=\"text-align: right;\">\n",
       "      <th></th>\n",
       "      <th>artist</th>\n",
       "      <th>auth</th>\n",
       "      <th>firstName</th>\n",
       "      <th>gender</th>\n",
       "      <th>itemInSession</th>\n",
       "      <th>lastName</th>\n",
       "      <th>length</th>\n",
       "      <th>level</th>\n",
       "      <th>location</th>\n",
       "      <th>method</th>\n",
       "      <th>page</th>\n",
       "      <th>registration</th>\n",
       "      <th>sessionId</th>\n",
       "      <th>song</th>\n",
       "      <th>status</th>\n",
       "      <th>ts</th>\n",
       "      <th>userAgent</th>\n",
       "      <th>userId</th>\n",
       "    </tr>\n",
       "  </thead>\n",
       "  <tbody>\n",
       "    <tr>\n",
       "      <th>249013</th>\n",
       "      <td>Jack Johnson</td>\n",
       "      <td>Logged In</td>\n",
       "      <td>Emilia</td>\n",
       "      <td>F</td>\n",
       "      <td>2</td>\n",
       "      <td>House</td>\n",
       "      <td>196.20526</td>\n",
       "      <td>free</td>\n",
       "      <td>New York-Newark-Jersey City, NY-NJ-PA</td>\n",
       "      <td>PUT</td>\n",
       "      <td>NextSong</td>\n",
       "      <td>1.538337e+12</td>\n",
       "      <td>11</td>\n",
       "      <td>You And Your Heart</td>\n",
       "      <td>200</td>\n",
       "      <td>1538430959000</td>\n",
       "      <td>Mozilla/5.0 (compatible; MSIE 9.0; Windows NT ...</td>\n",
       "      <td>300011</td>\n",
       "    </tr>\n",
       "    <tr>\n",
       "      <th>249984</th>\n",
       "      <td>Jack Johnson</td>\n",
       "      <td>Logged In</td>\n",
       "      <td>Emilia</td>\n",
       "      <td>F</td>\n",
       "      <td>133</td>\n",
       "      <td>House</td>\n",
       "      <td>236.72118</td>\n",
       "      <td>paid</td>\n",
       "      <td>New York-Newark-Jersey City, NY-NJ-PA</td>\n",
       "      <td>PUT</td>\n",
       "      <td>NextSong</td>\n",
       "      <td>1.538337e+12</td>\n",
       "      <td>54</td>\n",
       "      <td>Bubble Toes</td>\n",
       "      <td>200</td>\n",
       "      <td>1538538394000</td>\n",
       "      <td>Mozilla/5.0 (compatible; MSIE 9.0; Windows NT ...</td>\n",
       "      <td>300011</td>\n",
       "    </tr>\n",
       "    <tr>\n",
       "      <th>251769</th>\n",
       "      <td>Jack Johnson</td>\n",
       "      <td>Logged In</td>\n",
       "      <td>Emilia</td>\n",
       "      <td>F</td>\n",
       "      <td>37</td>\n",
       "      <td>House</td>\n",
       "      <td>207.64689</td>\n",
       "      <td>paid</td>\n",
       "      <td>New York-Newark-Jersey City, NY-NJ-PA</td>\n",
       "      <td>PUT</td>\n",
       "      <td>NextSong</td>\n",
       "      <td>1.538337e+12</td>\n",
       "      <td>80</td>\n",
       "      <td>Better Together</td>\n",
       "      <td>200</td>\n",
       "      <td>1538751282000</td>\n",
       "      <td>Mozilla/5.0 (compatible; MSIE 9.0; Windows NT ...</td>\n",
       "      <td>300011</td>\n",
       "    </tr>\n",
       "    <tr>\n",
       "      <th>255571</th>\n",
       "      <td>Jack Johnson</td>\n",
       "      <td>Logged In</td>\n",
       "      <td>Emilia</td>\n",
       "      <td>F</td>\n",
       "      <td>71</td>\n",
       "      <td>House</td>\n",
       "      <td>212.87138</td>\n",
       "      <td>paid</td>\n",
       "      <td>New York-Newark-Jersey City, NY-NJ-PA</td>\n",
       "      <td>PUT</td>\n",
       "      <td>NextSong</td>\n",
       "      <td>1.538337e+12</td>\n",
       "      <td>112</td>\n",
       "      <td>Never Know</td>\n",
       "      <td>200</td>\n",
       "      <td>1539268213000</td>\n",
       "      <td>Mozilla/5.0 (compatible; MSIE 9.0; Windows NT ...</td>\n",
       "      <td>300011</td>\n",
       "    </tr>\n",
       "    <tr>\n",
       "      <th>258411</th>\n",
       "      <td>Jack Johnson</td>\n",
       "      <td>Logged In</td>\n",
       "      <td>Emilia</td>\n",
       "      <td>F</td>\n",
       "      <td>0</td>\n",
       "      <td>House</td>\n",
       "      <td>185.99138</td>\n",
       "      <td>paid</td>\n",
       "      <td>New York-Newark-Jersey City, NY-NJ-PA</td>\n",
       "      <td>PUT</td>\n",
       "      <td>NextSong</td>\n",
       "      <td>1.538337e+12</td>\n",
       "      <td>156</td>\n",
       "      <td>Crying Shame</td>\n",
       "      <td>200</td>\n",
       "      <td>1539546866000</td>\n",
       "      <td>Mozilla/5.0 (compatible; MSIE 9.0; Windows NT ...</td>\n",
       "      <td>300011</td>\n",
       "    </tr>\n",
       "  </tbody>\n",
       "</table>\n",
       "</div>"
      ],
      "text/plain": [
       "              artist       auth firstName gender  itemInSession lastName  \\\n",
       "249013  Jack Johnson  Logged In    Emilia      F              2    House   \n",
       "249984  Jack Johnson  Logged In    Emilia      F            133    House   \n",
       "251769  Jack Johnson  Logged In    Emilia      F             37    House   \n",
       "255571  Jack Johnson  Logged In    Emilia      F             71    House   \n",
       "258411  Jack Johnson  Logged In    Emilia      F              0    House   \n",
       "\n",
       "           length level                               location method  \\\n",
       "249013  196.20526  free  New York-Newark-Jersey City, NY-NJ-PA    PUT   \n",
       "249984  236.72118  paid  New York-Newark-Jersey City, NY-NJ-PA    PUT   \n",
       "251769  207.64689  paid  New York-Newark-Jersey City, NY-NJ-PA    PUT   \n",
       "255571  212.87138  paid  New York-Newark-Jersey City, NY-NJ-PA    PUT   \n",
       "258411  185.99138  paid  New York-Newark-Jersey City, NY-NJ-PA    PUT   \n",
       "\n",
       "            page  registration  sessionId                song  status  \\\n",
       "249013  NextSong  1.538337e+12         11  You And Your Heart     200   \n",
       "249984  NextSong  1.538337e+12         54         Bubble Toes     200   \n",
       "251769  NextSong  1.538337e+12         80     Better Together     200   \n",
       "255571  NextSong  1.538337e+12        112          Never Know     200   \n",
       "258411  NextSong  1.538337e+12        156        Crying Shame     200   \n",
       "\n",
       "                   ts                                          userAgent  \\\n",
       "249013  1538430959000  Mozilla/5.0 (compatible; MSIE 9.0; Windows NT ...   \n",
       "249984  1538538394000  Mozilla/5.0 (compatible; MSIE 9.0; Windows NT ...   \n",
       "251769  1538751282000  Mozilla/5.0 (compatible; MSIE 9.0; Windows NT ...   \n",
       "255571  1539268213000  Mozilla/5.0 (compatible; MSIE 9.0; Windows NT ...   \n",
       "258411  1539546866000  Mozilla/5.0 (compatible; MSIE 9.0; Windows NT ...   \n",
       "\n",
       "        userId  \n",
       "249013  300011  \n",
       "249984  300011  \n",
       "251769  300011  \n",
       "255571  300011  \n",
       "258411  300011  "
      ]
     },
     "execution_count": 29,
     "metadata": {},
     "output_type": "execute_result"
    }
   ],
   "source": [
    "pd_df[(pd_df['userId']==\"300011\") & (pd_df['artist'] =='Jack Johnson')].head(5)"
   ]
  },
  {
   "cell_type": "markdown",
   "metadata": {},
   "source": [
    "**Grouping the result**\n",
    "1. Grouping results based on one colunm\n",
    "2. Grouping results based on more than one colunm"
   ]
  },
  {
   "cell_type": "code",
   "execution_count": 30,
   "metadata": {},
   "outputs": [
    {
     "name": "stdout",
     "output_type": "stream",
     "text": [
      "+------+-----+\n",
      "|userId|count|\n",
      "+------+-----+\n",
      "|100010|  381|\n",
      "|200002|  474|\n",
      "|   125|   11|\n",
      "|    51| 2464|\n",
      "|   124| 4825|\n",
      "+------+-----+\n",
      "only showing top 5 rows\n",
      "\n"
     ]
    }
   ],
   "source": [
    "df.groupBy('userId').count().show(5)"
   ]
  },
  {
   "cell_type": "code",
   "execution_count": 31,
   "metadata": {},
   "outputs": [
    {
     "name": "stdout",
     "output_type": "stream",
     "text": [
      "+--------+------+\n",
      "|count(1)|userID|\n",
      "+--------+------+\n",
      "|     381|100010|\n",
      "|     474|200002|\n",
      "|      11|   125|\n",
      "|    2464|    51|\n",
      "|    4825|   124|\n",
      "+--------+------+\n",
      "only showing top 5 rows\n",
      "\n"
     ]
    }
   ],
   "source": [
    "query=spark.sql(\"select count(*),userID from sparkify group by userId\")\n",
    "query.show(5)"
   ]
  },
  {
   "cell_type": "code",
   "execution_count": 32,
   "metadata": {},
   "outputs": [
    {
     "data": {
      "text/html": [
       "<div>\n",
       "<style scoped>\n",
       "    .dataframe tbody tr th:only-of-type {\n",
       "        vertical-align: middle;\n",
       "    }\n",
       "\n",
       "    .dataframe tbody tr th {\n",
       "        vertical-align: top;\n",
       "    }\n",
       "\n",
       "    .dataframe thead th {\n",
       "        text-align: right;\n",
       "    }\n",
       "</style>\n",
       "<table border=\"1\" class=\"dataframe\">\n",
       "  <thead>\n",
       "    <tr style=\"text-align: right;\">\n",
       "      <th></th>\n",
       "      <th>artist</th>\n",
       "      <th>auth</th>\n",
       "      <th>firstName</th>\n",
       "      <th>gender</th>\n",
       "      <th>itemInSession</th>\n",
       "      <th>lastName</th>\n",
       "      <th>length</th>\n",
       "      <th>level</th>\n",
       "      <th>location</th>\n",
       "      <th>method</th>\n",
       "      <th>page</th>\n",
       "      <th>registration</th>\n",
       "      <th>sessionId</th>\n",
       "      <th>song</th>\n",
       "      <th>status</th>\n",
       "      <th>ts</th>\n",
       "      <th>userAgent</th>\n",
       "    </tr>\n",
       "    <tr>\n",
       "      <th>userId</th>\n",
       "      <th></th>\n",
       "      <th></th>\n",
       "      <th></th>\n",
       "      <th></th>\n",
       "      <th></th>\n",
       "      <th></th>\n",
       "      <th></th>\n",
       "      <th></th>\n",
       "      <th></th>\n",
       "      <th></th>\n",
       "      <th></th>\n",
       "      <th></th>\n",
       "      <th></th>\n",
       "      <th></th>\n",
       "      <th></th>\n",
       "      <th></th>\n",
       "      <th></th>\n",
       "    </tr>\n",
       "  </thead>\n",
       "  <tbody>\n",
       "    <tr>\n",
       "      <th></th>\n",
       "      <td>0</td>\n",
       "      <td>8346</td>\n",
       "      <td>0</td>\n",
       "      <td>0</td>\n",
       "      <td>8346</td>\n",
       "      <td>0</td>\n",
       "      <td>0</td>\n",
       "      <td>8346</td>\n",
       "      <td>0</td>\n",
       "      <td>8346</td>\n",
       "      <td>8346</td>\n",
       "      <td>0</td>\n",
       "      <td>8346</td>\n",
       "      <td>0</td>\n",
       "      <td>8346</td>\n",
       "      <td>8346</td>\n",
       "      <td>0</td>\n",
       "    </tr>\n",
       "    <tr>\n",
       "      <th>10</th>\n",
       "      <td>673</td>\n",
       "      <td>795</td>\n",
       "      <td>795</td>\n",
       "      <td>795</td>\n",
       "      <td>795</td>\n",
       "      <td>795</td>\n",
       "      <td>673</td>\n",
       "      <td>795</td>\n",
       "      <td>795</td>\n",
       "      <td>795</td>\n",
       "      <td>795</td>\n",
       "      <td>795</td>\n",
       "      <td>795</td>\n",
       "      <td>673</td>\n",
       "      <td>795</td>\n",
       "      <td>795</td>\n",
       "      <td>795</td>\n",
       "    </tr>\n",
       "    <tr>\n",
       "      <th>100</th>\n",
       "      <td>2682</td>\n",
       "      <td>3214</td>\n",
       "      <td>3214</td>\n",
       "      <td>3214</td>\n",
       "      <td>3214</td>\n",
       "      <td>3214</td>\n",
       "      <td>2682</td>\n",
       "      <td>3214</td>\n",
       "      <td>3214</td>\n",
       "      <td>3214</td>\n",
       "      <td>3214</td>\n",
       "      <td>3214</td>\n",
       "      <td>3214</td>\n",
       "      <td>2682</td>\n",
       "      <td>3214</td>\n",
       "      <td>3214</td>\n",
       "      <td>3214</td>\n",
       "    </tr>\n",
       "    <tr>\n",
       "      <th>100001</th>\n",
       "      <td>133</td>\n",
       "      <td>187</td>\n",
       "      <td>187</td>\n",
       "      <td>187</td>\n",
       "      <td>187</td>\n",
       "      <td>187</td>\n",
       "      <td>133</td>\n",
       "      <td>187</td>\n",
       "      <td>187</td>\n",
       "      <td>187</td>\n",
       "      <td>187</td>\n",
       "      <td>187</td>\n",
       "      <td>187</td>\n",
       "      <td>133</td>\n",
       "      <td>187</td>\n",
       "      <td>187</td>\n",
       "      <td>187</td>\n",
       "    </tr>\n",
       "    <tr>\n",
       "      <th>100002</th>\n",
       "      <td>195</td>\n",
       "      <td>218</td>\n",
       "      <td>218</td>\n",
       "      <td>218</td>\n",
       "      <td>218</td>\n",
       "      <td>218</td>\n",
       "      <td>195</td>\n",
       "      <td>218</td>\n",
       "      <td>218</td>\n",
       "      <td>218</td>\n",
       "      <td>218</td>\n",
       "      <td>218</td>\n",
       "      <td>218</td>\n",
       "      <td>195</td>\n",
       "      <td>218</td>\n",
       "      <td>218</td>\n",
       "      <td>218</td>\n",
       "    </tr>\n",
       "    <tr>\n",
       "      <th>100003</th>\n",
       "      <td>51</td>\n",
       "      <td>78</td>\n",
       "      <td>78</td>\n",
       "      <td>78</td>\n",
       "      <td>78</td>\n",
       "      <td>78</td>\n",
       "      <td>51</td>\n",
       "      <td>78</td>\n",
       "      <td>78</td>\n",
       "      <td>78</td>\n",
       "      <td>78</td>\n",
       "      <td>78</td>\n",
       "      <td>78</td>\n",
       "      <td>51</td>\n",
       "      <td>78</td>\n",
       "      <td>78</td>\n",
       "      <td>78</td>\n",
       "    </tr>\n",
       "    <tr>\n",
       "      <th>100004</th>\n",
       "      <td>942</td>\n",
       "      <td>1245</td>\n",
       "      <td>1245</td>\n",
       "      <td>1245</td>\n",
       "      <td>1245</td>\n",
       "      <td>1245</td>\n",
       "      <td>942</td>\n",
       "      <td>1245</td>\n",
       "      <td>1245</td>\n",
       "      <td>1245</td>\n",
       "      <td>1245</td>\n",
       "      <td>1245</td>\n",
       "      <td>1245</td>\n",
       "      <td>942</td>\n",
       "      <td>1245</td>\n",
       "      <td>1245</td>\n",
       "      <td>1245</td>\n",
       "    </tr>\n",
       "    <tr>\n",
       "      <th>100005</th>\n",
       "      <td>154</td>\n",
       "      <td>216</td>\n",
       "      <td>216</td>\n",
       "      <td>216</td>\n",
       "      <td>216</td>\n",
       "      <td>216</td>\n",
       "      <td>154</td>\n",
       "      <td>216</td>\n",
       "      <td>216</td>\n",
       "      <td>216</td>\n",
       "      <td>216</td>\n",
       "      <td>216</td>\n",
       "      <td>216</td>\n",
       "      <td>154</td>\n",
       "      <td>216</td>\n",
       "      <td>216</td>\n",
       "      <td>216</td>\n",
       "    </tr>\n",
       "    <tr>\n",
       "      <th>100006</th>\n",
       "      <td>26</td>\n",
       "      <td>44</td>\n",
       "      <td>44</td>\n",
       "      <td>44</td>\n",
       "      <td>44</td>\n",
       "      <td>44</td>\n",
       "      <td>26</td>\n",
       "      <td>44</td>\n",
       "      <td>44</td>\n",
       "      <td>44</td>\n",
       "      <td>44</td>\n",
       "      <td>44</td>\n",
       "      <td>44</td>\n",
       "      <td>26</td>\n",
       "      <td>44</td>\n",
       "      <td>44</td>\n",
       "      <td>44</td>\n",
       "    </tr>\n",
       "    <tr>\n",
       "      <th>100007</th>\n",
       "      <td>423</td>\n",
       "      <td>520</td>\n",
       "      <td>520</td>\n",
       "      <td>520</td>\n",
       "      <td>520</td>\n",
       "      <td>520</td>\n",
       "      <td>423</td>\n",
       "      <td>520</td>\n",
       "      <td>520</td>\n",
       "      <td>520</td>\n",
       "      <td>520</td>\n",
       "      <td>520</td>\n",
       "      <td>520</td>\n",
       "      <td>423</td>\n",
       "      <td>520</td>\n",
       "      <td>520</td>\n",
       "      <td>520</td>\n",
       "    </tr>\n",
       "    <tr>\n",
       "      <th>100008</th>\n",
       "      <td>772</td>\n",
       "      <td>940</td>\n",
       "      <td>940</td>\n",
       "      <td>940</td>\n",
       "      <td>940</td>\n",
       "      <td>940</td>\n",
       "      <td>772</td>\n",
       "      <td>940</td>\n",
       "      <td>940</td>\n",
       "      <td>940</td>\n",
       "      <td>940</td>\n",
       "      <td>940</td>\n",
       "      <td>940</td>\n",
       "      <td>772</td>\n",
       "      <td>940</td>\n",
       "      <td>940</td>\n",
       "      <td>940</td>\n",
       "    </tr>\n",
       "    <tr>\n",
       "      <th>100009</th>\n",
       "      <td>518</td>\n",
       "      <td>671</td>\n",
       "      <td>671</td>\n",
       "      <td>671</td>\n",
       "      <td>671</td>\n",
       "      <td>671</td>\n",
       "      <td>518</td>\n",
       "      <td>671</td>\n",
       "      <td>671</td>\n",
       "      <td>671</td>\n",
       "      <td>671</td>\n",
       "      <td>671</td>\n",
       "      <td>671</td>\n",
       "      <td>518</td>\n",
       "      <td>671</td>\n",
       "      <td>671</td>\n",
       "      <td>671</td>\n",
       "    </tr>\n",
       "    <tr>\n",
       "      <th>100010</th>\n",
       "      <td>275</td>\n",
       "      <td>381</td>\n",
       "      <td>381</td>\n",
       "      <td>381</td>\n",
       "      <td>381</td>\n",
       "      <td>381</td>\n",
       "      <td>275</td>\n",
       "      <td>381</td>\n",
       "      <td>381</td>\n",
       "      <td>381</td>\n",
       "      <td>381</td>\n",
       "      <td>381</td>\n",
       "      <td>381</td>\n",
       "      <td>275</td>\n",
       "      <td>381</td>\n",
       "      <td>381</td>\n",
       "      <td>381</td>\n",
       "    </tr>\n",
       "    <tr>\n",
       "      <th>100011</th>\n",
       "      <td>11</td>\n",
       "      <td>23</td>\n",
       "      <td>23</td>\n",
       "      <td>23</td>\n",
       "      <td>23</td>\n",
       "      <td>23</td>\n",
       "      <td>11</td>\n",
       "      <td>23</td>\n",
       "      <td>23</td>\n",
       "      <td>23</td>\n",
       "      <td>23</td>\n",
       "      <td>23</td>\n",
       "      <td>23</td>\n",
       "      <td>11</td>\n",
       "      <td>23</td>\n",
       "      <td>23</td>\n",
       "      <td>23</td>\n",
       "    </tr>\n",
       "    <tr>\n",
       "      <th>100012</th>\n",
       "      <td>476</td>\n",
       "      <td>600</td>\n",
       "      <td>600</td>\n",
       "      <td>600</td>\n",
       "      <td>600</td>\n",
       "      <td>600</td>\n",
       "      <td>476</td>\n",
       "      <td>600</td>\n",
       "      <td>600</td>\n",
       "      <td>600</td>\n",
       "      <td>600</td>\n",
       "      <td>600</td>\n",
       "      <td>600</td>\n",
       "      <td>476</td>\n",
       "      <td>600</td>\n",
       "      <td>600</td>\n",
       "      <td>600</td>\n",
       "    </tr>\n",
       "    <tr>\n",
       "      <th>100013</th>\n",
       "      <td>1131</td>\n",
       "      <td>1392</td>\n",
       "      <td>1392</td>\n",
       "      <td>1392</td>\n",
       "      <td>1392</td>\n",
       "      <td>1392</td>\n",
       "      <td>1131</td>\n",
       "      <td>1392</td>\n",
       "      <td>1392</td>\n",
       "      <td>1392</td>\n",
       "      <td>1392</td>\n",
       "      <td>1392</td>\n",
       "      <td>1392</td>\n",
       "      <td>1131</td>\n",
       "      <td>1392</td>\n",
       "      <td>1392</td>\n",
       "      <td>1392</td>\n",
       "    </tr>\n",
       "    <tr>\n",
       "      <th>100014</th>\n",
       "      <td>257</td>\n",
       "      <td>310</td>\n",
       "      <td>310</td>\n",
       "      <td>310</td>\n",
       "      <td>310</td>\n",
       "      <td>310</td>\n",
       "      <td>257</td>\n",
       "      <td>310</td>\n",
       "      <td>310</td>\n",
       "      <td>310</td>\n",
       "      <td>310</td>\n",
       "      <td>310</td>\n",
       "      <td>310</td>\n",
       "      <td>257</td>\n",
       "      <td>310</td>\n",
       "      <td>310</td>\n",
       "      <td>310</td>\n",
       "    </tr>\n",
       "    <tr>\n",
       "      <th>100015</th>\n",
       "      <td>800</td>\n",
       "      <td>1050</td>\n",
       "      <td>1050</td>\n",
       "      <td>1050</td>\n",
       "      <td>1050</td>\n",
       "      <td>1050</td>\n",
       "      <td>800</td>\n",
       "      <td>1050</td>\n",
       "      <td>1050</td>\n",
       "      <td>1050</td>\n",
       "      <td>1050</td>\n",
       "      <td>1050</td>\n",
       "      <td>1050</td>\n",
       "      <td>800</td>\n",
       "      <td>1050</td>\n",
       "      <td>1050</td>\n",
       "      <td>1050</td>\n",
       "    </tr>\n",
       "    <tr>\n",
       "      <th>100016</th>\n",
       "      <td>530</td>\n",
       "      <td>638</td>\n",
       "      <td>638</td>\n",
       "      <td>638</td>\n",
       "      <td>638</td>\n",
       "      <td>638</td>\n",
       "      <td>530</td>\n",
       "      <td>638</td>\n",
       "      <td>638</td>\n",
       "      <td>638</td>\n",
       "      <td>638</td>\n",
       "      <td>638</td>\n",
       "      <td>638</td>\n",
       "      <td>530</td>\n",
       "      <td>638</td>\n",
       "      <td>638</td>\n",
       "      <td>638</td>\n",
       "    </tr>\n",
       "    <tr>\n",
       "      <th>100017</th>\n",
       "      <td>52</td>\n",
       "      <td>75</td>\n",
       "      <td>75</td>\n",
       "      <td>75</td>\n",
       "      <td>75</td>\n",
       "      <td>75</td>\n",
       "      <td>52</td>\n",
       "      <td>75</td>\n",
       "      <td>75</td>\n",
       "      <td>75</td>\n",
       "      <td>75</td>\n",
       "      <td>75</td>\n",
       "      <td>75</td>\n",
       "      <td>52</td>\n",
       "      <td>75</td>\n",
       "      <td>75</td>\n",
       "      <td>75</td>\n",
       "    </tr>\n",
       "    <tr>\n",
       "      <th>100018</th>\n",
       "      <td>1002</td>\n",
       "      <td>1288</td>\n",
       "      <td>1288</td>\n",
       "      <td>1288</td>\n",
       "      <td>1288</td>\n",
       "      <td>1288</td>\n",
       "      <td>1002</td>\n",
       "      <td>1288</td>\n",
       "      <td>1288</td>\n",
       "      <td>1288</td>\n",
       "      <td>1288</td>\n",
       "      <td>1288</td>\n",
       "      <td>1288</td>\n",
       "      <td>1002</td>\n",
       "      <td>1288</td>\n",
       "      <td>1288</td>\n",
       "      <td>1288</td>\n",
       "    </tr>\n",
       "    <tr>\n",
       "      <th>100019</th>\n",
       "      <td>62</td>\n",
       "      <td>89</td>\n",
       "      <td>89</td>\n",
       "      <td>89</td>\n",
       "      <td>89</td>\n",
       "      <td>89</td>\n",
       "      <td>62</td>\n",
       "      <td>89</td>\n",
       "      <td>89</td>\n",
       "      <td>89</td>\n",
       "      <td>89</td>\n",
       "      <td>89</td>\n",
       "      <td>89</td>\n",
       "      <td>62</td>\n",
       "      <td>89</td>\n",
       "      <td>89</td>\n",
       "      <td>89</td>\n",
       "    </tr>\n",
       "    <tr>\n",
       "      <th>100021</th>\n",
       "      <td>230</td>\n",
       "      <td>319</td>\n",
       "      <td>319</td>\n",
       "      <td>319</td>\n",
       "      <td>319</td>\n",
       "      <td>319</td>\n",
       "      <td>230</td>\n",
       "      <td>319</td>\n",
       "      <td>319</td>\n",
       "      <td>319</td>\n",
       "      <td>319</td>\n",
       "      <td>319</td>\n",
       "      <td>319</td>\n",
       "      <td>230</td>\n",
       "      <td>319</td>\n",
       "      <td>319</td>\n",
       "      <td>319</td>\n",
       "    </tr>\n",
       "    <tr>\n",
       "      <th>100022</th>\n",
       "      <td>681</td>\n",
       "      <td>964</td>\n",
       "      <td>964</td>\n",
       "      <td>964</td>\n",
       "      <td>964</td>\n",
       "      <td>964</td>\n",
       "      <td>681</td>\n",
       "      <td>964</td>\n",
       "      <td>964</td>\n",
       "      <td>964</td>\n",
       "      <td>964</td>\n",
       "      <td>964</td>\n",
       "      <td>964</td>\n",
       "      <td>681</td>\n",
       "      <td>964</td>\n",
       "      <td>964</td>\n",
       "      <td>964</td>\n",
       "    </tr>\n",
       "    <tr>\n",
       "      <th>100023</th>\n",
       "      <td>407</td>\n",
       "      <td>494</td>\n",
       "      <td>494</td>\n",
       "      <td>494</td>\n",
       "      <td>494</td>\n",
       "      <td>494</td>\n",
       "      <td>407</td>\n",
       "      <td>494</td>\n",
       "      <td>494</td>\n",
       "      <td>494</td>\n",
       "      <td>494</td>\n",
       "      <td>494</td>\n",
       "      <td>494</td>\n",
       "      <td>407</td>\n",
       "      <td>494</td>\n",
       "      <td>494</td>\n",
       "      <td>494</td>\n",
       "    </tr>\n",
       "    <tr>\n",
       "      <th>100024</th>\n",
       "      <td>22</td>\n",
       "      <td>36</td>\n",
       "      <td>36</td>\n",
       "      <td>36</td>\n",
       "      <td>36</td>\n",
       "      <td>36</td>\n",
       "      <td>22</td>\n",
       "      <td>36</td>\n",
       "      <td>36</td>\n",
       "      <td>36</td>\n",
       "      <td>36</td>\n",
       "      <td>36</td>\n",
       "      <td>36</td>\n",
       "      <td>22</td>\n",
       "      <td>36</td>\n",
       "      <td>36</td>\n",
       "      <td>36</td>\n",
       "    </tr>\n",
       "    <tr>\n",
       "      <th>100025</th>\n",
       "      <td>490</td>\n",
       "      <td>623</td>\n",
       "      <td>623</td>\n",
       "      <td>623</td>\n",
       "      <td>623</td>\n",
       "      <td>623</td>\n",
       "      <td>490</td>\n",
       "      <td>623</td>\n",
       "      <td>623</td>\n",
       "      <td>623</td>\n",
       "      <td>623</td>\n",
       "      <td>623</td>\n",
       "      <td>623</td>\n",
       "      <td>490</td>\n",
       "      <td>623</td>\n",
       "      <td>623</td>\n",
       "      <td>623</td>\n",
       "    </tr>\n",
       "    <tr>\n",
       "      <th>101</th>\n",
       "      <td>1797</td>\n",
       "      <td>2149</td>\n",
       "      <td>2149</td>\n",
       "      <td>2149</td>\n",
       "      <td>2149</td>\n",
       "      <td>2149</td>\n",
       "      <td>1797</td>\n",
       "      <td>2149</td>\n",
       "      <td>2149</td>\n",
       "      <td>2149</td>\n",
       "      <td>2149</td>\n",
       "      <td>2149</td>\n",
       "      <td>2149</td>\n",
       "      <td>1797</td>\n",
       "      <td>2149</td>\n",
       "      <td>2149</td>\n",
       "      <td>2149</td>\n",
       "    </tr>\n",
       "    <tr>\n",
       "      <th>102</th>\n",
       "      <td>158</td>\n",
       "      <td>202</td>\n",
       "      <td>202</td>\n",
       "      <td>202</td>\n",
       "      <td>202</td>\n",
       "      <td>202</td>\n",
       "      <td>158</td>\n",
       "      <td>202</td>\n",
       "      <td>202</td>\n",
       "      <td>202</td>\n",
       "      <td>202</td>\n",
       "      <td>202</td>\n",
       "      <td>202</td>\n",
       "      <td>158</td>\n",
       "      <td>202</td>\n",
       "      <td>202</td>\n",
       "      <td>202</td>\n",
       "    </tr>\n",
       "    <tr>\n",
       "      <th>103</th>\n",
       "      <td>1073</td>\n",
       "      <td>1310</td>\n",
       "      <td>1310</td>\n",
       "      <td>1310</td>\n",
       "      <td>1310</td>\n",
       "      <td>1310</td>\n",
       "      <td>1073</td>\n",
       "      <td>1310</td>\n",
       "      <td>1310</td>\n",
       "      <td>1310</td>\n",
       "      <td>1310</td>\n",
       "      <td>1310</td>\n",
       "      <td>1310</td>\n",
       "      <td>1073</td>\n",
       "      <td>1310</td>\n",
       "      <td>1310</td>\n",
       "      <td>1310</td>\n",
       "    </tr>\n",
       "    <tr>\n",
       "      <th>...</th>\n",
       "      <td>...</td>\n",
       "      <td>...</td>\n",
       "      <td>...</td>\n",
       "      <td>...</td>\n",
       "      <td>...</td>\n",
       "      <td>...</td>\n",
       "      <td>...</td>\n",
       "      <td>...</td>\n",
       "      <td>...</td>\n",
       "      <td>...</td>\n",
       "      <td>...</td>\n",
       "      <td>...</td>\n",
       "      <td>...</td>\n",
       "      <td>...</td>\n",
       "      <td>...</td>\n",
       "      <td>...</td>\n",
       "      <td>...</td>\n",
       "    </tr>\n",
       "    <tr>\n",
       "      <th>72</th>\n",
       "      <td>85</td>\n",
       "      <td>117</td>\n",
       "      <td>117</td>\n",
       "      <td>117</td>\n",
       "      <td>117</td>\n",
       "      <td>117</td>\n",
       "      <td>85</td>\n",
       "      <td>117</td>\n",
       "      <td>117</td>\n",
       "      <td>117</td>\n",
       "      <td>117</td>\n",
       "      <td>117</td>\n",
       "      <td>117</td>\n",
       "      <td>85</td>\n",
       "      <td>117</td>\n",
       "      <td>117</td>\n",
       "      <td>117</td>\n",
       "    </tr>\n",
       "    <tr>\n",
       "      <th>73</th>\n",
       "      <td>377</td>\n",
       "      <td>457</td>\n",
       "      <td>457</td>\n",
       "      <td>457</td>\n",
       "      <td>457</td>\n",
       "      <td>457</td>\n",
       "      <td>377</td>\n",
       "      <td>457</td>\n",
       "      <td>457</td>\n",
       "      <td>457</td>\n",
       "      <td>457</td>\n",
       "      <td>457</td>\n",
       "      <td>457</td>\n",
       "      <td>377</td>\n",
       "      <td>457</td>\n",
       "      <td>457</td>\n",
       "      <td>457</td>\n",
       "    </tr>\n",
       "    <tr>\n",
       "      <th>74</th>\n",
       "      <td>2400</td>\n",
       "      <td>2887</td>\n",
       "      <td>2887</td>\n",
       "      <td>2887</td>\n",
       "      <td>2887</td>\n",
       "      <td>2887</td>\n",
       "      <td>2400</td>\n",
       "      <td>2887</td>\n",
       "      <td>2887</td>\n",
       "      <td>2887</td>\n",
       "      <td>2887</td>\n",
       "      <td>2887</td>\n",
       "      <td>2887</td>\n",
       "      <td>2400</td>\n",
       "      <td>2887</td>\n",
       "      <td>2887</td>\n",
       "      <td>2887</td>\n",
       "    </tr>\n",
       "    <tr>\n",
       "      <th>75</th>\n",
       "      <td>812</td>\n",
       "      <td>957</td>\n",
       "      <td>957</td>\n",
       "      <td>957</td>\n",
       "      <td>957</td>\n",
       "      <td>957</td>\n",
       "      <td>812</td>\n",
       "      <td>957</td>\n",
       "      <td>957</td>\n",
       "      <td>957</td>\n",
       "      <td>957</td>\n",
       "      <td>957</td>\n",
       "      <td>957</td>\n",
       "      <td>812</td>\n",
       "      <td>957</td>\n",
       "      <td>957</td>\n",
       "      <td>957</td>\n",
       "    </tr>\n",
       "    <tr>\n",
       "      <th>76</th>\n",
       "      <td>212</td>\n",
       "      <td>272</td>\n",
       "      <td>272</td>\n",
       "      <td>272</td>\n",
       "      <td>272</td>\n",
       "      <td>272</td>\n",
       "      <td>212</td>\n",
       "      <td>272</td>\n",
       "      <td>272</td>\n",
       "      <td>272</td>\n",
       "      <td>272</td>\n",
       "      <td>272</td>\n",
       "      <td>272</td>\n",
       "      <td>212</td>\n",
       "      <td>272</td>\n",
       "      <td>272</td>\n",
       "      <td>272</td>\n",
       "    </tr>\n",
       "    <tr>\n",
       "      <th>77</th>\n",
       "      <td>1047</td>\n",
       "      <td>1229</td>\n",
       "      <td>1229</td>\n",
       "      <td>1229</td>\n",
       "      <td>1229</td>\n",
       "      <td>1229</td>\n",
       "      <td>1047</td>\n",
       "      <td>1229</td>\n",
       "      <td>1229</td>\n",
       "      <td>1229</td>\n",
       "      <td>1229</td>\n",
       "      <td>1229</td>\n",
       "      <td>1229</td>\n",
       "      <td>1047</td>\n",
       "      <td>1229</td>\n",
       "      <td>1229</td>\n",
       "      <td>1229</td>\n",
       "    </tr>\n",
       "    <tr>\n",
       "      <th>78</th>\n",
       "      <td>254</td>\n",
       "      <td>324</td>\n",
       "      <td>324</td>\n",
       "      <td>324</td>\n",
       "      <td>324</td>\n",
       "      <td>324</td>\n",
       "      <td>254</td>\n",
       "      <td>324</td>\n",
       "      <td>324</td>\n",
       "      <td>324</td>\n",
       "      <td>324</td>\n",
       "      <td>324</td>\n",
       "      <td>324</td>\n",
       "      <td>254</td>\n",
       "      <td>324</td>\n",
       "      <td>324</td>\n",
       "      <td>324</td>\n",
       "    </tr>\n",
       "    <tr>\n",
       "      <th>79</th>\n",
       "      <td>251</td>\n",
       "      <td>321</td>\n",
       "      <td>321</td>\n",
       "      <td>321</td>\n",
       "      <td>321</td>\n",
       "      <td>321</td>\n",
       "      <td>251</td>\n",
       "      <td>321</td>\n",
       "      <td>321</td>\n",
       "      <td>321</td>\n",
       "      <td>321</td>\n",
       "      <td>321</td>\n",
       "      <td>321</td>\n",
       "      <td>251</td>\n",
       "      <td>321</td>\n",
       "      <td>321</td>\n",
       "      <td>321</td>\n",
       "    </tr>\n",
       "    <tr>\n",
       "      <th>8</th>\n",
       "      <td>251</td>\n",
       "      <td>334</td>\n",
       "      <td>334</td>\n",
       "      <td>334</td>\n",
       "      <td>334</td>\n",
       "      <td>334</td>\n",
       "      <td>251</td>\n",
       "      <td>334</td>\n",
       "      <td>334</td>\n",
       "      <td>334</td>\n",
       "      <td>334</td>\n",
       "      <td>334</td>\n",
       "      <td>334</td>\n",
       "      <td>251</td>\n",
       "      <td>334</td>\n",
       "      <td>334</td>\n",
       "      <td>334</td>\n",
       "    </tr>\n",
       "    <tr>\n",
       "      <th>80</th>\n",
       "      <td>367</td>\n",
       "      <td>474</td>\n",
       "      <td>474</td>\n",
       "      <td>474</td>\n",
       "      <td>474</td>\n",
       "      <td>474</td>\n",
       "      <td>367</td>\n",
       "      <td>474</td>\n",
       "      <td>474</td>\n",
       "      <td>474</td>\n",
       "      <td>474</td>\n",
       "      <td>474</td>\n",
       "      <td>474</td>\n",
       "      <td>367</td>\n",
       "      <td>474</td>\n",
       "      <td>474</td>\n",
       "      <td>474</td>\n",
       "    </tr>\n",
       "    <tr>\n",
       "      <th>81</th>\n",
       "      <td>1974</td>\n",
       "      <td>2335</td>\n",
       "      <td>2335</td>\n",
       "      <td>2335</td>\n",
       "      <td>2335</td>\n",
       "      <td>2335</td>\n",
       "      <td>1974</td>\n",
       "      <td>2335</td>\n",
       "      <td>2335</td>\n",
       "      <td>2335</td>\n",
       "      <td>2335</td>\n",
       "      <td>2335</td>\n",
       "      <td>2335</td>\n",
       "      <td>1974</td>\n",
       "      <td>2335</td>\n",
       "      <td>2335</td>\n",
       "      <td>2335</td>\n",
       "    </tr>\n",
       "    <tr>\n",
       "      <th>82</th>\n",
       "      <td>1705</td>\n",
       "      <td>2049</td>\n",
       "      <td>2049</td>\n",
       "      <td>2049</td>\n",
       "      <td>2049</td>\n",
       "      <td>2049</td>\n",
       "      <td>1705</td>\n",
       "      <td>2049</td>\n",
       "      <td>2049</td>\n",
       "      <td>2049</td>\n",
       "      <td>2049</td>\n",
       "      <td>2049</td>\n",
       "      <td>2049</td>\n",
       "      <td>1705</td>\n",
       "      <td>2049</td>\n",
       "      <td>2049</td>\n",
       "      <td>2049</td>\n",
       "    </tr>\n",
       "    <tr>\n",
       "      <th>83</th>\n",
       "      <td>1235</td>\n",
       "      <td>1496</td>\n",
       "      <td>1496</td>\n",
       "      <td>1496</td>\n",
       "      <td>1496</td>\n",
       "      <td>1496</td>\n",
       "      <td>1235</td>\n",
       "      <td>1496</td>\n",
       "      <td>1496</td>\n",
       "      <td>1496</td>\n",
       "      <td>1496</td>\n",
       "      <td>1496</td>\n",
       "      <td>1496</td>\n",
       "      <td>1235</td>\n",
       "      <td>1496</td>\n",
       "      <td>1496</td>\n",
       "      <td>1496</td>\n",
       "    </tr>\n",
       "    <tr>\n",
       "      <th>84</th>\n",
       "      <td>73</td>\n",
       "      <td>97</td>\n",
       "      <td>97</td>\n",
       "      <td>97</td>\n",
       "      <td>97</td>\n",
       "      <td>97</td>\n",
       "      <td>73</td>\n",
       "      <td>97</td>\n",
       "      <td>97</td>\n",
       "      <td>97</td>\n",
       "      <td>97</td>\n",
       "      <td>97</td>\n",
       "      <td>97</td>\n",
       "      <td>73</td>\n",
       "      <td>97</td>\n",
       "      <td>97</td>\n",
       "      <td>97</td>\n",
       "    </tr>\n",
       "    <tr>\n",
       "      <th>85</th>\n",
       "      <td>3616</td>\n",
       "      <td>4370</td>\n",
       "      <td>4370</td>\n",
       "      <td>4370</td>\n",
       "      <td>4370</td>\n",
       "      <td>4370</td>\n",
       "      <td>3616</td>\n",
       "      <td>4370</td>\n",
       "      <td>4370</td>\n",
       "      <td>4370</td>\n",
       "      <td>4370</td>\n",
       "      <td>4370</td>\n",
       "      <td>4370</td>\n",
       "      <td>3616</td>\n",
       "      <td>4370</td>\n",
       "      <td>4370</td>\n",
       "      <td>4370</td>\n",
       "    </tr>\n",
       "    <tr>\n",
       "      <th>86</th>\n",
       "      <td>650</td>\n",
       "      <td>818</td>\n",
       "      <td>818</td>\n",
       "      <td>818</td>\n",
       "      <td>818</td>\n",
       "      <td>818</td>\n",
       "      <td>650</td>\n",
       "      <td>818</td>\n",
       "      <td>818</td>\n",
       "      <td>818</td>\n",
       "      <td>818</td>\n",
       "      <td>818</td>\n",
       "      <td>818</td>\n",
       "      <td>650</td>\n",
       "      <td>818</td>\n",
       "      <td>818</td>\n",
       "      <td>818</td>\n",
       "    </tr>\n",
       "    <tr>\n",
       "      <th>87</th>\n",
       "      <td>767</td>\n",
       "      <td>1003</td>\n",
       "      <td>1003</td>\n",
       "      <td>1003</td>\n",
       "      <td>1003</td>\n",
       "      <td>1003</td>\n",
       "      <td>767</td>\n",
       "      <td>1003</td>\n",
       "      <td>1003</td>\n",
       "      <td>1003</td>\n",
       "      <td>1003</td>\n",
       "      <td>1003</td>\n",
       "      <td>1003</td>\n",
       "      <td>767</td>\n",
       "      <td>1003</td>\n",
       "      <td>1003</td>\n",
       "      <td>1003</td>\n",
       "    </tr>\n",
       "    <tr>\n",
       "      <th>88</th>\n",
       "      <td>2045</td>\n",
       "      <td>2465</td>\n",
       "      <td>2465</td>\n",
       "      <td>2465</td>\n",
       "      <td>2465</td>\n",
       "      <td>2465</td>\n",
       "      <td>2045</td>\n",
       "      <td>2465</td>\n",
       "      <td>2465</td>\n",
       "      <td>2465</td>\n",
       "      <td>2465</td>\n",
       "      <td>2465</td>\n",
       "      <td>2465</td>\n",
       "      <td>2045</td>\n",
       "      <td>2465</td>\n",
       "      <td>2465</td>\n",
       "      <td>2465</td>\n",
       "    </tr>\n",
       "    <tr>\n",
       "      <th>89</th>\n",
       "      <td>667</td>\n",
       "      <td>801</td>\n",
       "      <td>801</td>\n",
       "      <td>801</td>\n",
       "      <td>801</td>\n",
       "      <td>801</td>\n",
       "      <td>667</td>\n",
       "      <td>801</td>\n",
       "      <td>801</td>\n",
       "      <td>801</td>\n",
       "      <td>801</td>\n",
       "      <td>801</td>\n",
       "      <td>801</td>\n",
       "      <td>667</td>\n",
       "      <td>801</td>\n",
       "      <td>801</td>\n",
       "      <td>801</td>\n",
       "    </tr>\n",
       "    <tr>\n",
       "      <th>9</th>\n",
       "      <td>2676</td>\n",
       "      <td>3191</td>\n",
       "      <td>3191</td>\n",
       "      <td>3191</td>\n",
       "      <td>3191</td>\n",
       "      <td>3191</td>\n",
       "      <td>2676</td>\n",
       "      <td>3191</td>\n",
       "      <td>3191</td>\n",
       "      <td>3191</td>\n",
       "      <td>3191</td>\n",
       "      <td>3191</td>\n",
       "      <td>3191</td>\n",
       "      <td>2676</td>\n",
       "      <td>3191</td>\n",
       "      <td>3191</td>\n",
       "      <td>3191</td>\n",
       "    </tr>\n",
       "    <tr>\n",
       "      <th>90</th>\n",
       "      <td>37</td>\n",
       "      <td>45</td>\n",
       "      <td>45</td>\n",
       "      <td>45</td>\n",
       "      <td>45</td>\n",
       "      <td>45</td>\n",
       "      <td>37</td>\n",
       "      <td>45</td>\n",
       "      <td>45</td>\n",
       "      <td>45</td>\n",
       "      <td>45</td>\n",
       "      <td>45</td>\n",
       "      <td>45</td>\n",
       "      <td>37</td>\n",
       "      <td>45</td>\n",
       "      <td>45</td>\n",
       "      <td>45</td>\n",
       "    </tr>\n",
       "    <tr>\n",
       "      <th>91</th>\n",
       "      <td>2580</td>\n",
       "      <td>3014</td>\n",
       "      <td>3014</td>\n",
       "      <td>3014</td>\n",
       "      <td>3014</td>\n",
       "      <td>3014</td>\n",
       "      <td>2580</td>\n",
       "      <td>3014</td>\n",
       "      <td>3014</td>\n",
       "      <td>3014</td>\n",
       "      <td>3014</td>\n",
       "      <td>3014</td>\n",
       "      <td>3014</td>\n",
       "      <td>2580</td>\n",
       "      <td>3014</td>\n",
       "      <td>3014</td>\n",
       "      <td>3014</td>\n",
       "    </tr>\n",
       "    <tr>\n",
       "      <th>92</th>\n",
       "      <td>5945</td>\n",
       "      <td>7230</td>\n",
       "      <td>7230</td>\n",
       "      <td>7230</td>\n",
       "      <td>7230</td>\n",
       "      <td>7230</td>\n",
       "      <td>5945</td>\n",
       "      <td>7230</td>\n",
       "      <td>7230</td>\n",
       "      <td>7230</td>\n",
       "      <td>7230</td>\n",
       "      <td>7230</td>\n",
       "      <td>7230</td>\n",
       "      <td>5945</td>\n",
       "      <td>7230</td>\n",
       "      <td>7230</td>\n",
       "      <td>7230</td>\n",
       "    </tr>\n",
       "    <tr>\n",
       "      <th>93</th>\n",
       "      <td>640</td>\n",
       "      <td>815</td>\n",
       "      <td>815</td>\n",
       "      <td>815</td>\n",
       "      <td>815</td>\n",
       "      <td>815</td>\n",
       "      <td>640</td>\n",
       "      <td>815</td>\n",
       "      <td>815</td>\n",
       "      <td>815</td>\n",
       "      <td>815</td>\n",
       "      <td>815</td>\n",
       "      <td>815</td>\n",
       "      <td>640</td>\n",
       "      <td>815</td>\n",
       "      <td>815</td>\n",
       "      <td>815</td>\n",
       "    </tr>\n",
       "    <tr>\n",
       "      <th>94</th>\n",
       "      <td>146</td>\n",
       "      <td>187</td>\n",
       "      <td>187</td>\n",
       "      <td>187</td>\n",
       "      <td>187</td>\n",
       "      <td>187</td>\n",
       "      <td>146</td>\n",
       "      <td>187</td>\n",
       "      <td>187</td>\n",
       "      <td>187</td>\n",
       "      <td>187</td>\n",
       "      <td>187</td>\n",
       "      <td>187</td>\n",
       "      <td>146</td>\n",
       "      <td>187</td>\n",
       "      <td>187</td>\n",
       "      <td>187</td>\n",
       "    </tr>\n",
       "    <tr>\n",
       "      <th>95</th>\n",
       "      <td>1694</td>\n",
       "      <td>2091</td>\n",
       "      <td>2091</td>\n",
       "      <td>2091</td>\n",
       "      <td>2091</td>\n",
       "      <td>2091</td>\n",
       "      <td>1694</td>\n",
       "      <td>2091</td>\n",
       "      <td>2091</td>\n",
       "      <td>2091</td>\n",
       "      <td>2091</td>\n",
       "      <td>2091</td>\n",
       "      <td>2091</td>\n",
       "      <td>1694</td>\n",
       "      <td>2091</td>\n",
       "      <td>2091</td>\n",
       "      <td>2091</td>\n",
       "    </tr>\n",
       "    <tr>\n",
       "      <th>96</th>\n",
       "      <td>1802</td>\n",
       "      <td>2176</td>\n",
       "      <td>2176</td>\n",
       "      <td>2176</td>\n",
       "      <td>2176</td>\n",
       "      <td>2176</td>\n",
       "      <td>1802</td>\n",
       "      <td>2176</td>\n",
       "      <td>2176</td>\n",
       "      <td>2176</td>\n",
       "      <td>2176</td>\n",
       "      <td>2176</td>\n",
       "      <td>2176</td>\n",
       "      <td>1802</td>\n",
       "      <td>2176</td>\n",
       "      <td>2176</td>\n",
       "      <td>2176</td>\n",
       "    </tr>\n",
       "    <tr>\n",
       "      <th>97</th>\n",
       "      <td>1975</td>\n",
       "      <td>2404</td>\n",
       "      <td>2404</td>\n",
       "      <td>2404</td>\n",
       "      <td>2404</td>\n",
       "      <td>2404</td>\n",
       "      <td>1975</td>\n",
       "      <td>2404</td>\n",
       "      <td>2404</td>\n",
       "      <td>2404</td>\n",
       "      <td>2404</td>\n",
       "      <td>2404</td>\n",
       "      <td>2404</td>\n",
       "      <td>1975</td>\n",
       "      <td>2404</td>\n",
       "      <td>2404</td>\n",
       "      <td>2404</td>\n",
       "    </tr>\n",
       "    <tr>\n",
       "      <th>98</th>\n",
       "      <td>2401</td>\n",
       "      <td>2891</td>\n",
       "      <td>2891</td>\n",
       "      <td>2891</td>\n",
       "      <td>2891</td>\n",
       "      <td>2891</td>\n",
       "      <td>2401</td>\n",
       "      <td>2891</td>\n",
       "      <td>2891</td>\n",
       "      <td>2891</td>\n",
       "      <td>2891</td>\n",
       "      <td>2891</td>\n",
       "      <td>2891</td>\n",
       "      <td>2401</td>\n",
       "      <td>2891</td>\n",
       "      <td>2891</td>\n",
       "      <td>2891</td>\n",
       "    </tr>\n",
       "    <tr>\n",
       "      <th>99</th>\n",
       "      <td>505</td>\n",
       "      <td>614</td>\n",
       "      <td>614</td>\n",
       "      <td>614</td>\n",
       "      <td>614</td>\n",
       "      <td>614</td>\n",
       "      <td>505</td>\n",
       "      <td>614</td>\n",
       "      <td>614</td>\n",
       "      <td>614</td>\n",
       "      <td>614</td>\n",
       "      <td>614</td>\n",
       "      <td>614</td>\n",
       "      <td>505</td>\n",
       "      <td>614</td>\n",
       "      <td>614</td>\n",
       "      <td>614</td>\n",
       "    </tr>\n",
       "  </tbody>\n",
       "</table>\n",
       "<p>226 rows × 17 columns</p>\n",
       "</div>"
      ],
      "text/plain": [
       "        artist  auth  firstName  gender  itemInSession  lastName  length  \\\n",
       "userId                                                                     \n",
       "             0  8346          0       0           8346         0       0   \n",
       "10         673   795        795     795            795       795     673   \n",
       "100       2682  3214       3214    3214           3214      3214    2682   \n",
       "100001     133   187        187     187            187       187     133   \n",
       "100002     195   218        218     218            218       218     195   \n",
       "100003      51    78         78      78             78        78      51   \n",
       "100004     942  1245       1245    1245           1245      1245     942   \n",
       "100005     154   216        216     216            216       216     154   \n",
       "100006      26    44         44      44             44        44      26   \n",
       "100007     423   520        520     520            520       520     423   \n",
       "100008     772   940        940     940            940       940     772   \n",
       "100009     518   671        671     671            671       671     518   \n",
       "100010     275   381        381     381            381       381     275   \n",
       "100011      11    23         23      23             23        23      11   \n",
       "100012     476   600        600     600            600       600     476   \n",
       "100013    1131  1392       1392    1392           1392      1392    1131   \n",
       "100014     257   310        310     310            310       310     257   \n",
       "100015     800  1050       1050    1050           1050      1050     800   \n",
       "100016     530   638        638     638            638       638     530   \n",
       "100017      52    75         75      75             75        75      52   \n",
       "100018    1002  1288       1288    1288           1288      1288    1002   \n",
       "100019      62    89         89      89             89        89      62   \n",
       "100021     230   319        319     319            319       319     230   \n",
       "100022     681   964        964     964            964       964     681   \n",
       "100023     407   494        494     494            494       494     407   \n",
       "100024      22    36         36      36             36        36      22   \n",
       "100025     490   623        623     623            623       623     490   \n",
       "101       1797  2149       2149    2149           2149      2149    1797   \n",
       "102        158   202        202     202            202       202     158   \n",
       "103       1073  1310       1310    1310           1310      1310    1073   \n",
       "...        ...   ...        ...     ...            ...       ...     ...   \n",
       "72          85   117        117     117            117       117      85   \n",
       "73         377   457        457     457            457       457     377   \n",
       "74        2400  2887       2887    2887           2887      2887    2400   \n",
       "75         812   957        957     957            957       957     812   \n",
       "76         212   272        272     272            272       272     212   \n",
       "77        1047  1229       1229    1229           1229      1229    1047   \n",
       "78         254   324        324     324            324       324     254   \n",
       "79         251   321        321     321            321       321     251   \n",
       "8          251   334        334     334            334       334     251   \n",
       "80         367   474        474     474            474       474     367   \n",
       "81        1974  2335       2335    2335           2335      2335    1974   \n",
       "82        1705  2049       2049    2049           2049      2049    1705   \n",
       "83        1235  1496       1496    1496           1496      1496    1235   \n",
       "84          73    97         97      97             97        97      73   \n",
       "85        3616  4370       4370    4370           4370      4370    3616   \n",
       "86         650   818        818     818            818       818     650   \n",
       "87         767  1003       1003    1003           1003      1003     767   \n",
       "88        2045  2465       2465    2465           2465      2465    2045   \n",
       "89         667   801        801     801            801       801     667   \n",
       "9         2676  3191       3191    3191           3191      3191    2676   \n",
       "90          37    45         45      45             45        45      37   \n",
       "91        2580  3014       3014    3014           3014      3014    2580   \n",
       "92        5945  7230       7230    7230           7230      7230    5945   \n",
       "93         640   815        815     815            815       815     640   \n",
       "94         146   187        187     187            187       187     146   \n",
       "95        1694  2091       2091    2091           2091      2091    1694   \n",
       "96        1802  2176       2176    2176           2176      2176    1802   \n",
       "97        1975  2404       2404    2404           2404      2404    1975   \n",
       "98        2401  2891       2891    2891           2891      2891    2401   \n",
       "99         505   614        614     614            614       614     505   \n",
       "\n",
       "        level  location  method  page  registration  sessionId  song  status  \\\n",
       "userId                                                                         \n",
       "         8346         0    8346  8346             0       8346     0    8346   \n",
       "10        795       795     795   795           795        795   673     795   \n",
       "100      3214      3214    3214  3214          3214       3214  2682    3214   \n",
       "100001    187       187     187   187           187        187   133     187   \n",
       "100002    218       218     218   218           218        218   195     218   \n",
       "100003     78        78      78    78            78         78    51      78   \n",
       "100004   1245      1245    1245  1245          1245       1245   942    1245   \n",
       "100005    216       216     216   216           216        216   154     216   \n",
       "100006     44        44      44    44            44         44    26      44   \n",
       "100007    520       520     520   520           520        520   423     520   \n",
       "100008    940       940     940   940           940        940   772     940   \n",
       "100009    671       671     671   671           671        671   518     671   \n",
       "100010    381       381     381   381           381        381   275     381   \n",
       "100011     23        23      23    23            23         23    11      23   \n",
       "100012    600       600     600   600           600        600   476     600   \n",
       "100013   1392      1392    1392  1392          1392       1392  1131    1392   \n",
       "100014    310       310     310   310           310        310   257     310   \n",
       "100015   1050      1050    1050  1050          1050       1050   800    1050   \n",
       "100016    638       638     638   638           638        638   530     638   \n",
       "100017     75        75      75    75            75         75    52      75   \n",
       "100018   1288      1288    1288  1288          1288       1288  1002    1288   \n",
       "100019     89        89      89    89            89         89    62      89   \n",
       "100021    319       319     319   319           319        319   230     319   \n",
       "100022    964       964     964   964           964        964   681     964   \n",
       "100023    494       494     494   494           494        494   407     494   \n",
       "100024     36        36      36    36            36         36    22      36   \n",
       "100025    623       623     623   623           623        623   490     623   \n",
       "101      2149      2149    2149  2149          2149       2149  1797    2149   \n",
       "102       202       202     202   202           202        202   158     202   \n",
       "103      1310      1310    1310  1310          1310       1310  1073    1310   \n",
       "...       ...       ...     ...   ...           ...        ...   ...     ...   \n",
       "72        117       117     117   117           117        117    85     117   \n",
       "73        457       457     457   457           457        457   377     457   \n",
       "74       2887      2887    2887  2887          2887       2887  2400    2887   \n",
       "75        957       957     957   957           957        957   812     957   \n",
       "76        272       272     272   272           272        272   212     272   \n",
       "77       1229      1229    1229  1229          1229       1229  1047    1229   \n",
       "78        324       324     324   324           324        324   254     324   \n",
       "79        321       321     321   321           321        321   251     321   \n",
       "8         334       334     334   334           334        334   251     334   \n",
       "80        474       474     474   474           474        474   367     474   \n",
       "81       2335      2335    2335  2335          2335       2335  1974    2335   \n",
       "82       2049      2049    2049  2049          2049       2049  1705    2049   \n",
       "83       1496      1496    1496  1496          1496       1496  1235    1496   \n",
       "84         97        97      97    97            97         97    73      97   \n",
       "85       4370      4370    4370  4370          4370       4370  3616    4370   \n",
       "86        818       818     818   818           818        818   650     818   \n",
       "87       1003      1003    1003  1003          1003       1003   767    1003   \n",
       "88       2465      2465    2465  2465          2465       2465  2045    2465   \n",
       "89        801       801     801   801           801        801   667     801   \n",
       "9        3191      3191    3191  3191          3191       3191  2676    3191   \n",
       "90         45        45      45    45            45         45    37      45   \n",
       "91       3014      3014    3014  3014          3014       3014  2580    3014   \n",
       "92       7230      7230    7230  7230          7230       7230  5945    7230   \n",
       "93        815       815     815   815           815        815   640     815   \n",
       "94        187       187     187   187           187        187   146     187   \n",
       "95       2091      2091    2091  2091          2091       2091  1694    2091   \n",
       "96       2176      2176    2176  2176          2176       2176  1802    2176   \n",
       "97       2404      2404    2404  2404          2404       2404  1975    2404   \n",
       "98       2891      2891    2891  2891          2891       2891  2401    2891   \n",
       "99        614       614     614   614           614        614   505     614   \n",
       "\n",
       "          ts  userAgent  \n",
       "userId                   \n",
       "        8346          0  \n",
       "10       795        795  \n",
       "100     3214       3214  \n",
       "100001   187        187  \n",
       "100002   218        218  \n",
       "100003    78         78  \n",
       "100004  1245       1245  \n",
       "100005   216        216  \n",
       "100006    44         44  \n",
       "100007   520        520  \n",
       "100008   940        940  \n",
       "100009   671        671  \n",
       "100010   381        381  \n",
       "100011    23         23  \n",
       "100012   600        600  \n",
       "100013  1392       1392  \n",
       "100014   310        310  \n",
       "100015  1050       1050  \n",
       "100016   638        638  \n",
       "100017    75         75  \n",
       "100018  1288       1288  \n",
       "100019    89         89  \n",
       "100021   319        319  \n",
       "100022   964        964  \n",
       "100023   494        494  \n",
       "100024    36         36  \n",
       "100025   623        623  \n",
       "101     2149       2149  \n",
       "102      202        202  \n",
       "103     1310       1310  \n",
       "...      ...        ...  \n",
       "72       117        117  \n",
       "73       457        457  \n",
       "74      2887       2887  \n",
       "75       957        957  \n",
       "76       272        272  \n",
       "77      1229       1229  \n",
       "78       324        324  \n",
       "79       321        321  \n",
       "8        334        334  \n",
       "80       474        474  \n",
       "81      2335       2335  \n",
       "82      2049       2049  \n",
       "83      1496       1496  \n",
       "84        97         97  \n",
       "85      4370       4370  \n",
       "86       818        818  \n",
       "87      1003       1003  \n",
       "88      2465       2465  \n",
       "89       801        801  \n",
       "9       3191       3191  \n",
       "90        45         45  \n",
       "91      3014       3014  \n",
       "92      7230       7230  \n",
       "93       815        815  \n",
       "94       187        187  \n",
       "95      2091       2091  \n",
       "96      2176       2176  \n",
       "97      2404       2404  \n",
       "98      2891       2891  \n",
       "99       614        614  \n",
       "\n",
       "[226 rows x 17 columns]"
      ]
     },
     "execution_count": 32,
     "metadata": {},
     "output_type": "execute_result"
    }
   ],
   "source": [
    "pd_df.groupby('userId').count()"
   ]
  },
  {
   "cell_type": "markdown",
   "metadata": {},
   "source": [
    "**Dealing with NaN values**\n"
   ]
  },
  {
   "cell_type": "code",
   "execution_count": 33,
   "metadata": {},
   "outputs": [
    {
     "name": "stdout",
     "output_type": "stream",
     "text": [
      "+------+----+---------+------+-------------+--------+------+-----+--------+------+----+------------+---------+-----+------+---+---------+------+\n",
      "|artist|auth|firstName|gender|itemInSession|lastName|length|level|location|method|page|registration|sessionId| song|status| ts|userAgent|userId|\n",
      "+------+----+---------+------+-------------+--------+------+-----+--------+------+----+------------+---------+-----+------+---+---------+------+\n",
      "| 58392|   0|     8346|  8346|            0|    8346| 58392|    0|    8346|     0|   0|        8346|        0|58392|     0|  0|     8346|     0|\n",
      "+------+----+---------+------+-------------+--------+------+-----+--------+------+----+------------+---------+-----+------+---+---------+------+\n",
      "\n"
     ]
    }
   ],
   "source": [
    "df.select([count(when(isnan(c) | col(c).isNull(), c)).alias(c) for c in df.columns]).show()"
   ]
  },
  {
   "cell_type": "code",
   "execution_count": 34,
   "metadata": {},
   "outputs": [
    {
     "name": "stdout",
     "output_type": "stream",
     "text": [
      "+--------+\n",
      "|count(1)|\n",
      "+--------+\n",
      "|   58392|\n",
      "+--------+\n",
      "\n"
     ]
    }
   ],
   "source": [
    "query=spark.sql(\"select count(*) from sparkify where song is null\")\n",
    "query.show()"
   ]
  },
  {
   "cell_type": "markdown",
   "metadata": {},
   "source": [
    "UserID & SessionID has no Nan Values"
   ]
  },
  {
   "cell_type": "code",
   "execution_count": 35,
   "metadata": {},
   "outputs": [
    {
     "data": {
      "text/plain": [
       "artist           58392\n",
       "auth                 0\n",
       "firstName         8346\n",
       "gender            8346\n",
       "itemInSession        0\n",
       "lastName          8346\n",
       "length           58392\n",
       "level                0\n",
       "location          8346\n",
       "method               0\n",
       "page                 0\n",
       "registration      8346\n",
       "sessionId            0\n",
       "song             58392\n",
       "status               0\n",
       "ts                   0\n",
       "userAgent         8346\n",
       "userId               0\n",
       "dtype: int64"
      ]
     },
     "execution_count": 35,
     "metadata": {},
     "output_type": "execute_result"
    }
   ],
   "source": [
    "pd_df.isna().sum()"
   ]
  },
  {
   "cell_type": "code",
   "execution_count": 36,
   "metadata": {},
   "outputs": [],
   "source": [
    "#Removing data wisth invalid userid,sessionid"
   ]
  },
  {
   "cell_type": "code",
   "execution_count": 37,
   "metadata": {},
   "outputs": [
    {
     "name": "stdout",
     "output_type": "stream",
     "text": [
      "+------+\n",
      "|userId|\n",
      "+------+\n",
      "|      |\n",
      "|    10|\n",
      "|   100|\n",
      "|100001|\n",
      "|100002|\n",
      "|100003|\n",
      "|100004|\n",
      "|100005|\n",
      "|100006|\n",
      "|100007|\n",
      "+------+\n",
      "only showing top 10 rows\n",
      "\n"
     ]
    }
   ],
   "source": [
    "df.select('userId').dropDuplicates().sort('userId').show(10)"
   ]
  },
  {
   "cell_type": "code",
   "execution_count": 38,
   "metadata": {},
   "outputs": [
    {
     "name": "stdout",
     "output_type": "stream",
     "text": [
      "+------+\n",
      "|userId|\n",
      "+------+\n",
      "|      |\n",
      "|    10|\n",
      "|   100|\n",
      "|100001|\n",
      "|100002|\n",
      "|100003|\n",
      "|100004|\n",
      "|100005|\n",
      "|100006|\n",
      "|100007|\n",
      "|100008|\n",
      "|100009|\n",
      "|100010|\n",
      "|100011|\n",
      "|100012|\n",
      "|100013|\n",
      "|100014|\n",
      "|100015|\n",
      "|100016|\n",
      "|100017|\n",
      "+------+\n",
      "only showing top 20 rows\n",
      "\n"
     ]
    }
   ],
   "source": [
    "query=spark.sql(\"select distinct userId from sparkify order by userId\")\n",
    "query.show()"
   ]
  },
  {
   "cell_type": "code",
   "execution_count": 39,
   "metadata": {},
   "outputs": [
    {
     "name": "stdout",
     "output_type": "stream",
     "text": [
      "Total No records with blank userid :  8346\n"
     ]
    }
   ],
   "source": [
    "print(\"Total No records with blank userid : \", df.filter(df.userId == '').count())"
   ]
  },
  {
   "cell_type": "code",
   "execution_count": 40,
   "metadata": {},
   "outputs": [
    {
     "name": "stdout",
     "output_type": "stream",
     "text": [
      "+-------------------------+\n",
      "|count(DISTINCT sessionId)|\n",
      "+-------------------------+\n",
      "|                     2354|\n",
      "+-------------------------+\n",
      "\n"
     ]
    }
   ],
   "source": [
    "query=spark.sql(\"select count(distinct sessionId) from sparkify\")\n",
    "query.show()\n"
   ]
  },
  {
   "cell_type": "code",
   "execution_count": 41,
   "metadata": {},
   "outputs": [
    {
     "name": "stdout",
     "output_type": "stream",
     "text": [
      "+---------+\n",
      "|sessionId|\n",
      "+---------+\n",
      "|        1|\n",
      "|        2|\n",
      "|        3|\n",
      "|        4|\n",
      "|        5|\n",
      "|        6|\n",
      "|        7|\n",
      "|        8|\n",
      "|        9|\n",
      "|       10|\n",
      "|       11|\n",
      "|       12|\n",
      "|       13|\n",
      "|       15|\n",
      "|       16|\n",
      "|       17|\n",
      "|       18|\n",
      "|       19|\n",
      "|       20|\n",
      "|       21|\n",
      "+---------+\n",
      "only showing top 20 rows\n",
      "\n"
     ]
    }
   ],
   "source": [
    "query=spark.sql(\"select distinct sessionId from sparkify order by sessionId\")\n",
    "query.show()"
   ]
  },
  {
   "cell_type": "code",
   "execution_count": 42,
   "metadata": {},
   "outputs": [
    {
     "name": "stdout",
     "output_type": "stream",
     "text": [
      "+---------+\n",
      "|sessionId|\n",
      "+---------+\n",
      "|     2474|\n",
      "|     2464|\n",
      "|     2459|\n",
      "|     2451|\n",
      "|     2446|\n",
      "|     2445|\n",
      "|     2444|\n",
      "|     2441|\n",
      "|     2434|\n",
      "|     2433|\n",
      "|     2432|\n",
      "|     2431|\n",
      "|     2430|\n",
      "|     2429|\n",
      "|     2428|\n",
      "|     2427|\n",
      "|     2426|\n",
      "|     2415|\n",
      "|     2412|\n",
      "|     2410|\n",
      "+---------+\n",
      "only showing top 20 rows\n",
      "\n"
     ]
    }
   ],
   "source": [
    "query=spark.sql(\"select distinct sessionId from sparkify order by sessionId desc \")\n",
    "query.show()"
   ]
  },
  {
   "cell_type": "markdown",
   "metadata": {},
   "source": [
    "Ther is no invalid session ids"
   ]
  },
  {
   "cell_type": "code",
   "execution_count": 43,
   "metadata": {},
   "outputs": [
    {
     "name": "stdout",
     "output_type": "stream",
     "text": [
      "+--------------------+\n",
      "|                page|\n",
      "+--------------------+\n",
      "|              Cancel|\n",
      "|    Submit Downgrade|\n",
      "|         Thumbs Down|\n",
      "|                Home|\n",
      "|           Downgrade|\n",
      "|         Roll Advert|\n",
      "|              Logout|\n",
      "|       Save Settings|\n",
      "|Cancellation Conf...|\n",
      "|               About|\n",
      "| Submit Registration|\n",
      "|            Settings|\n",
      "|               Login|\n",
      "|            Register|\n",
      "|     Add to Playlist|\n",
      "|          Add Friend|\n",
      "|            NextSong|\n",
      "|           Thumbs Up|\n",
      "|                Help|\n",
      "|             Upgrade|\n",
      "|               Error|\n",
      "|      Submit Upgrade|\n",
      "+--------------------+\n",
      "\n"
     ]
    }
   ],
   "source": [
    "#Distinct page requests\n",
    "df.select('page').dropDuplicates().show(30)"
   ]
  },
  {
   "cell_type": "markdown",
   "metadata": {},
   "source": [
    "Blank User id may represent anonymous sessions, as we have same number of rows missing first name and last name. since our aim is to itendify customer churn we can eliminate these rows "
   ]
  },
  {
   "cell_type": "markdown",
   "metadata": {},
   "source": [
    "Secondly there wont be anonymous user disconnecting the sevice , so those recods does not qualify for churn detections."
   ]
  },
  {
   "cell_type": "code",
   "execution_count": 44,
   "metadata": {},
   "outputs": [
    {
     "name": "stdout",
     "output_type": "stream",
     "text": [
      "+--------+\n",
      "|count(1)|\n",
      "+--------+\n",
      "|       0|\n",
      "+--------+\n",
      "\n"
     ]
    }
   ],
   "source": [
    "query=spark.sql(\"select count(*) from sparkify where userID='' and page='Cancellation Confirmation'\")\n",
    "query.show()"
   ]
  },
  {
   "cell_type": "code",
   "execution_count": 45,
   "metadata": {},
   "outputs": [],
   "source": [
    "clean_df= df.filter(df.userId != '')"
   ]
  },
  {
   "cell_type": "code",
   "execution_count": 46,
   "metadata": {},
   "outputs": [
    {
     "data": {
      "text/plain": [
       "278154"
      ]
     },
     "execution_count": 46,
     "metadata": {},
     "output_type": "execute_result"
    }
   ],
   "source": [
    "clean_df.count()"
   ]
  },
  {
   "cell_type": "code",
   "execution_count": 47,
   "metadata": {},
   "outputs": [
    {
     "data": {
      "text/plain": [
       "(8346, 18)"
      ]
     },
     "execution_count": 47,
     "metadata": {},
     "output_type": "execute_result"
    }
   ],
   "source": [
    "pd_df[pd_df['userId'] == ''].shape"
   ]
  },
  {
   "cell_type": "code",
   "execution_count": 48,
   "metadata": {},
   "outputs": [
    {
     "data": {
      "text/plain": [
       "(278154, 18)"
      ]
     },
     "execution_count": 48,
     "metadata": {},
     "output_type": "execute_result"
    }
   ],
   "source": [
    "pd_clean_df=pd_df[pd_df['userId'] != '']\n",
    "pd_clean_df.shape"
   ]
  },
  {
   "cell_type": "markdown",
   "metadata": {},
   "source": [
    "# Exploratory Data Analysis\n",
    "When you're working with the full dataset, perform EDA by loading a small subset of the data and doing basic manipulations within Spark. In this workspace, you are already provided a small subset of data you can explore.\n",
    "\n",
    "### Define Churn\n",
    "\n",
    "Once you've done some preliminary analysis, create a column `Churn` to use as the label for your model. I suggest using the `Cancellation Confirmation` events to define your churn, which happen for both paid and free users. As a bonus task, you can also look into the `Downgrade` events.\n",
    "\n",
    "### Explore Data\n",
    "Once you've defined churn, perform some exploratory data analysis to observe the behavior for users who stayed vs users who churned. You can start by exploring aggregates on these two groups of users, observing how much of a specific action they experienced per a certain time unit or number of songs played."
   ]
  },
  {
   "cell_type": "markdown",
   "metadata": {},
   "source": [
    "**Define Churn**\n",
    "As eexplained in video, customer is defined as churn if\n",
    "1. if user confirmed cancellation of service\n",
    "2. if user downgrades their service from paid to free \n",
    "\n",
    "**Note**\n",
    "There are multiple ways to tackle this problem\n",
    "1. defined one single coumn churn, have it 1 if user is churn, and treat it like binary classification problem\n",
    "    Pro - Simpler approach, can be first step in multi step project\n",
    "    Cons - May not get good accuracy as technically we are trying to predict two values.\n",
    "2. define one single counmn churn and with multiple values , 2 if cancelled, 1 if downgrade & 0 if neither, and consider this as multiclass classification problem.\n",
    "    Pros- Business wise it make much sence as customer who are on verge of downgrading should be treated differently as customer cancelling\n",
    "    Cons- bit complicated, also if customer downgrades & then cancel how to handle such cases. \n",
    " \n",
    "I have selected option 1, eventhough it may give lower accuracy it is as per requiremetn in video"
   ]
  },
  {
   "cell_type": "code",
   "execution_count": 49,
   "metadata": {},
   "outputs": [
    {
     "name": "stdout",
     "output_type": "stream",
     "text": [
      "+----------------------+\n",
      "|count(DISTINCT userId)|\n",
      "+----------------------+\n",
      "|                    92|\n",
      "+----------------------+\n",
      "\n"
     ]
    }
   ],
   "source": [
    "query=spark.sql(\"select count( distinct userId) from sparkify where page ='Cancellation Confirmation' or page ='Submit Downgrade'\")\n",
    "query.show()"
   ]
  },
  {
   "cell_type": "code",
   "execution_count": 50,
   "metadata": {
    "scrolled": true
   },
   "outputs": [
    {
     "name": "stdout",
     "output_type": "stream",
     "text": [
      "+-------------+\n",
      "|count(userId)|\n",
      "+-------------+\n",
      "|          115|\n",
      "+-------------+\n",
      "\n"
     ]
    }
   ],
   "source": [
    "query=spark.sql(\"select count( userId) from sparkify where page ='Cancellation Confirmation' or page ='Submit Downgrade'\")\n",
    "query.show()"
   ]
  },
  {
   "cell_type": "code",
   "execution_count": 51,
   "metadata": {},
   "outputs": [
    {
     "name": "stdout",
     "output_type": "stream",
     "text": [
      "+--------------------+------+\n",
      "|                page| count|\n",
      "+--------------------+------+\n",
      "|              Cancel|    52|\n",
      "|    Submit Downgrade|    63|\n",
      "|         Thumbs Down|  2546|\n",
      "|                Home| 10082|\n",
      "|           Downgrade|  2055|\n",
      "|         Roll Advert|  3933|\n",
      "|              Logout|  3226|\n",
      "|       Save Settings|   310|\n",
      "|Cancellation Conf...|    52|\n",
      "|               About|   495|\n",
      "|            Settings|  1514|\n",
      "|     Add to Playlist|  6526|\n",
      "|          Add Friend|  4277|\n",
      "|            NextSong|228108|\n",
      "|           Thumbs Up| 12551|\n",
      "|                Help|  1454|\n",
      "|             Upgrade|   499|\n",
      "|               Error|   252|\n",
      "|      Submit Upgrade|   159|\n",
      "+--------------------+------+\n",
      "\n"
     ]
    }
   ],
   "source": [
    "clean_df.groupBy('page').count().show()"
   ]
  },
  {
   "cell_type": "code",
   "execution_count": 52,
   "metadata": {
    "scrolled": true
   },
   "outputs": [
    {
     "name": "stdout",
     "output_type": "stream",
     "text": [
      "+----------------------+\n",
      "|count(DISTINCT userId)|\n",
      "+----------------------+\n",
      "|                   226|\n",
      "+----------------------+\n",
      "\n"
     ]
    }
   ],
   "source": [
    "query=spark.sql(\"select count( distinct userId) from sparkify \")\n",
    "query.show()"
   ]
  },
  {
   "cell_type": "markdown",
   "metadata": {},
   "source": [
    "**So 92 out of 225 users has chrun which is roughly 41% of total users have churn so we data looks good for classificiation problem**"
   ]
  },
  {
   "cell_type": "code",
   "execution_count": 53,
   "metadata": {},
   "outputs": [],
   "source": [
    "temp_df=pd_clean_df[(pd_clean_df['page'] == 'Cancellation Confirmation') | (pd_clean_df['page'] == 'Submit Downgrade')]"
   ]
  },
  {
   "cell_type": "code",
   "execution_count": 54,
   "metadata": {},
   "outputs": [
    {
     "data": {
      "text/plain": [
       "(92, 225)"
      ]
     },
     "execution_count": 54,
     "metadata": {},
     "output_type": "execute_result"
    }
   ],
   "source": [
    "temp_df['userId'].nunique(),pd_clean_df['userId'].nunique()"
   ]
  },
  {
   "cell_type": "code",
   "execution_count": 55,
   "metadata": {},
   "outputs": [
    {
     "data": {
      "text/plain": [
       "[]"
      ]
     },
     "execution_count": 55,
     "metadata": {},
     "output_type": "execute_result"
    },
    {
     "data": {
      "image/png": "[encoded data removed]",
      "text/plain": [
       "<matplotlib.figure.Figure at 0x7f3eac740320>"
      ]
     },
     "metadata": {
      "needs_background": "light"
     },
     "output_type": "display_data"
    }
   ],
   "source": [
    "plt.bar(['Churn','Non Curned'],[temp_df['userId'].nunique(),pd_clean_df['userId'].nunique()-temp_df['userId'].nunique() ])\n",
    "plt.ylabel('No of users')\n",
    "plt.title('Total user churn')\n",
    "\n",
    "plt.plot()"
   ]
  },
  {
   "cell_type": "code",
   "execution_count": 56,
   "metadata": {},
   "outputs": [],
   "source": [
    "#Creating new colunms for downgrade\n",
    "# define a downgrade label\n",
    "downgrade_value  = udf(lambda x: 1 if x == \"Submit Downgrade\" else 0, IntegerType())\n",
    "clean_df = clean_df.withColumn(\"downgrade_value\", downgrade_value(\"page\"))\n",
    "\n",
    "# define a churn label\n",
    "churn_value = udf(lambda x: 1 if x == 'Cancellation Confirmation' else 0, IntegerType())\n",
    "clean_df = clean_df.withColumn(\"churn_value\", churn_value(\"page\"))"
   ]
  },
  {
   "cell_type": "code",
   "execution_count": 57,
   "metadata": {},
   "outputs": [
    {
     "name": "stdout",
     "output_type": "stream",
     "text": [
      "+------+---------------+-----------+---------------+\n",
      "|userId|           page|churn_value|downgrade_value|\n",
      "+------+---------------+-----------+---------------+\n",
      "|    30|       NextSong|          0|              0|\n",
      "|     9|       NextSong|          0|              0|\n",
      "|    30|       NextSong|          0|              0|\n",
      "|     9|       NextSong|          0|              0|\n",
      "|    30|       NextSong|          0|              0|\n",
      "|     9|       NextSong|          0|              0|\n",
      "|     9|       NextSong|          0|              0|\n",
      "|    30|       NextSong|          0|              0|\n",
      "|    30|Add to Playlist|          0|              0|\n",
      "|    30|       NextSong|          0|              0|\n",
      "|     9|       NextSong|          0|              0|\n",
      "|     9|    Roll Advert|          0|              0|\n",
      "|    30|       NextSong|          0|              0|\n",
      "|     9|       NextSong|          0|              0|\n",
      "|     9|      Thumbs Up|          0|              0|\n",
      "|    30|       NextSong|          0|              0|\n",
      "|     9|       NextSong|          0|              0|\n",
      "|    74|       NextSong|          0|              0|\n",
      "|    30|       NextSong|          0|              0|\n",
      "|     9|       NextSong|          0|              0|\n",
      "|    74|       NextSong|          0|              0|\n",
      "|    30|       NextSong|          0|              0|\n",
      "|    54|       NextSong|          0|              0|\n",
      "|     9|       NextSong|          0|              0|\n",
      "|    74|       NextSong|          0|              0|\n",
      "|    30|       NextSong|          0|              0|\n",
      "|    54|       NextSong|          0|              0|\n",
      "|     9|       NextSong|          0|              0|\n",
      "|    74|       NextSong|          0|              0|\n",
      "|    30|       NextSong|          0|              0|\n",
      "+------+---------------+-----------+---------------+\n",
      "only showing top 30 rows\n",
      "\n"
     ]
    }
   ],
   "source": [
    "clean_df.select('userId','page','churn_value','downgrade_value').show(30)"
   ]
  },
  {
   "cell_type": "code",
   "execution_count": 58,
   "metadata": {},
   "outputs": [
    {
     "name": "stdout",
     "output_type": "stream",
     "text": [
      "+------+--------------------+-----------+---------------+\n",
      "|userId|                page|churn_value|downgrade_value|\n",
      "+------+--------------------+-----------+---------------+\n",
      "|   131|    Submit Downgrade|          0|              1|\n",
      "|    38|    Submit Downgrade|          0|              1|\n",
      "|   141|    Submit Downgrade|          0|              1|\n",
      "|    18|Cancellation Conf...|          1|              0|\n",
      "|    30|    Submit Downgrade|          0|              1|\n",
      "|    20|    Submit Downgrade|          0|              1|\n",
      "|    32|Cancellation Conf...|          1|              0|\n",
      "|    12|    Submit Downgrade|          0|              1|\n",
      "|    11|    Submit Downgrade|          0|              1|\n",
      "|    61|    Submit Downgrade|          0|              1|\n",
      "+------+--------------------+-----------+---------------+\n",
      "only showing top 10 rows\n",
      "\n"
     ]
    }
   ],
   "source": [
    "#Updating each user which has churned as Y.\n",
    "clean_df.select('userId','page','churn_value','downgrade_value').filter((clean_df.churn_value==1) | (clean_df.downgrade_value ==1) ).show(10)"
   ]
  },
  {
   "cell_type": "markdown",
   "metadata": {},
   "source": [
    "cCreating a colunm to identify user has churn ,\n",
    "Basically marking all the entries of this user as churn if eventually customer has churned\n",
    "WE can do this in two ways,\n",
    "1. using window function over records group by userID and if user has churn_value as 1 for any record we should mark it as churn\n",
    "2. create udf , that take input as spark dataframe and userID, returns value as 1 if user has churned\n"
   ]
  },
  {
   "cell_type": "code",
   "execution_count": 59,
   "metadata": {},
   "outputs": [],
   "source": [
    "# find all users who downgraded\n",
    "dg_window = Window.partitionBy('UserId')\n",
    "clean_df = clean_df.withColumn(\"user_downgrade\", max('downgrade_value').over(dg_window))\n",
    "clean_df = clean_df.withColumn(\"user_cancle\", max('churn_value').over(dg_window))\n"
   ]
  },
  {
   "cell_type": "code",
   "execution_count": 60,
   "metadata": {},
   "outputs": [],
   "source": [
    "chrun=udf(lambda x,y: x|y, IntegerType())\n",
    "clean_df = clean_df.withColumn(\"user_churn\", chrun(\"user_cancle\",\"user_downgrade\"))"
   ]
  },
  {
   "cell_type": "code",
   "execution_count": 61,
   "metadata": {},
   "outputs": [],
   "source": [
    "#clean_df.drop('user_churn')"
   ]
  },
  {
   "cell_type": "code",
   "execution_count": 62,
   "metadata": {},
   "outputs": [
    {
     "name": "stdout",
     "output_type": "stream",
     "text": [
      "+------+---------+-----+----------+--------------+-----------+\n",
      "|userId|firstName|level|user_churn|user_downgrade|user_cancle|\n",
      "+------+---------+-----+----------+--------------+-----------+\n",
      "|100010| Darianna| free|         0|             0|          0|\n",
      "|200002|  Dominic| free|         0|             0|          0|\n",
      "|   125|    Mason| free|         1|             0|          1|\n",
      "|   124|   Nicole| paid|         0|             0|          0|\n",
      "|    51|    Ethan| paid|         1|             0|          1|\n",
      "|     7|   Maddox| free|         0|             0|          0|\n",
      "|    15|    Panav| paid|         0|             0|          0|\n",
      "|    54|    Alexi| paid|         1|             1|          1|\n",
      "|   155|   Camila| free|         0|             0|          0|\n",
      "|100014|  Rodrigo| paid|         1|             0|          1|\n",
      "|   132|    Sadie| free|         0|             0|          0|\n",
      "|   154|   Morgan| free|         0|             0|          0|\n",
      "|   101|     Alex| free|         1|             0|          1|\n",
      "|    11|      Zoe| free|         1|             1|          0|\n",
      "|   138|   Samuel| free|         0|             0|          0|\n",
      "|300017|  Alyssia| paid|         0|             0|          0|\n",
      "|100021|   Rayden| free|         1|             0|          1|\n",
      "|    29|    Kaleb| free|         1|             0|          1|\n",
      "|    69|     Jada| free|         0|             0|          0|\n",
      "|   112|    Logan| free|         0|             0|          0|\n",
      "+------+---------+-----+----------+--------------+-----------+\n",
      "only showing top 20 rows\n",
      "\n"
     ]
    }
   ],
   "source": [
    "clean_df.select(['userId', 'firstName', 'level','user_churn', 'user_downgrade','user_cancle']).dropDuplicates(subset = ['userId']).show(20)"
   ]
  },
  {
   "cell_type": "code",
   "execution_count": 63,
   "metadata": {},
   "outputs": [
    {
     "name": "stdout",
     "output_type": "stream",
     "text": [
      "+------+----------+-----+----------+--------------+-----------+\n",
      "|userId| firstName|level|user_churn|user_downgrade|user_cancle|\n",
      "+------+----------+-----+----------+--------------+-----------+\n",
      "|    11|       Zoe| free|         1|             1|          0|\n",
      "|    30|     Colin| paid|         1|             1|          0|\n",
      "|    59|    Jaleel| free|         1|             1|          0|\n",
      "|    85|   Brayden| free|         1|             1|          0|\n",
      "|    35|      Lily| free|         1|             1|          0|\n",
      "|100008|   Bryanna| paid|         1|             1|          0|\n",
      "|300002|    Lindyn| free|         1|             1|          0|\n",
      "|    96|Alexandria| paid|         1|             1|          0|\n",
      "|   100|     Colin| paid|         1|             1|          0|\n",
      "|    61|    Parker| free|         1|             1|          0|\n",
      "|   131|      Kael| free|         1|             1|          0|\n",
      "|   140|    Lucero| free|         1|             1|          0|\n",
      "|300004|    Peyton| free|         1|             1|          0|\n",
      "|300015|    Joshua| free|         1|             1|          0|\n",
      "|    77|    Autumn| paid|         1|             1|          0|\n",
      "|300011|    Emilia| free|         1|             1|          0|\n",
      "|100004|     Emily| free|         1|             1|          0|\n",
      "|200003|      Zoey| paid|         1|             1|          0|\n",
      "|300023|     Chloe| paid|         1|             1|          0|\n",
      "|100016|    Landon| paid|         1|             1|          0|\n",
      "|    95|     Faigy| paid|         1|             1|          0|\n",
      "|    38|    Calvin| paid|         1|             1|          0|\n",
      "|200009|  Benjamin| free|         1|             1|          0|\n",
      "|    25|   Madison| paid|         1|             1|          0|\n",
      "|200023|   Katiana| free|         1|             1|          0|\n",
      "|    92|     Riley| free|         1|             1|          0|\n",
      "|    81|    Oliver| paid|         1|             1|          0|\n",
      "|200025|     Elias| free|         1|             1|          0|\n",
      "|   141|   Kaylenn| paid|         1|             1|          0|\n",
      "|    24|   Garrett| free|         1|             1|          0|\n",
      "+------+----------+-----+----------+--------------+-----------+\n",
      "only showing top 30 rows\n",
      "\n"
     ]
    }
   ],
   "source": [
    "clean_df.select(['userId', 'firstName', 'level','user_churn', 'user_downgrade','user_cancle']).filter((clean_df.user_downgrade ==1)& (clean_df.user_cancle ==0) ).dropDuplicates(subset = ['userId']).show(30)"
   ]
  },
  {
   "cell_type": "code",
   "execution_count": 64,
   "metadata": {},
   "outputs": [],
   "source": [
    "df_ch_pd = clean_df.drop_duplicates(['userId', 'gender']).groupby(['user_churn', 'gender']).count().sort(\"user_churn\").toPandas()\n"
   ]
  },
  {
   "cell_type": "code",
   "execution_count": 65,
   "metadata": {},
   "outputs": [
    {
     "data": {
      "text/html": [
       "<div>\n",
       "<style scoped>\n",
       "    .dataframe tbody tr th:only-of-type {\n",
       "        vertical-align: middle;\n",
       "    }\n",
       "\n",
       "    .dataframe tbody tr th {\n",
       "        vertical-align: top;\n",
       "    }\n",
       "\n",
       "    .dataframe thead th {\n",
       "        text-align: right;\n",
       "    }\n",
       "</style>\n",
       "<table border=\"1\" class=\"dataframe\">\n",
       "  <thead>\n",
       "    <tr style=\"text-align: right;\">\n",
       "      <th></th>\n",
       "      <th>user_churn</th>\n",
       "      <th>gender</th>\n",
       "      <th>count</th>\n",
       "    </tr>\n",
       "  </thead>\n",
       "  <tbody>\n",
       "    <tr>\n",
       "      <th>0</th>\n",
       "      <td>0</td>\n",
       "      <td>M</td>\n",
       "      <td>72</td>\n",
       "    </tr>\n",
       "    <tr>\n",
       "      <th>1</th>\n",
       "      <td>0</td>\n",
       "      <td>F</td>\n",
       "      <td>61</td>\n",
       "    </tr>\n",
       "    <tr>\n",
       "      <th>2</th>\n",
       "      <td>1</td>\n",
       "      <td>F</td>\n",
       "      <td>43</td>\n",
       "    </tr>\n",
       "    <tr>\n",
       "      <th>3</th>\n",
       "      <td>1</td>\n",
       "      <td>M</td>\n",
       "      <td>49</td>\n",
       "    </tr>\n",
       "  </tbody>\n",
       "</table>\n",
       "</div>"
      ],
      "text/plain": [
       "   user_churn gender  count\n",
       "0           0      M     72\n",
       "1           0      F     61\n",
       "2           1      F     43\n",
       "3           1      M     49"
      ]
     },
     "execution_count": 65,
     "metadata": {},
     "output_type": "execute_result"
    }
   ],
   "source": [
    "df_ch_pd"
   ]
  },
  {
   "cell_type": "markdown",
   "metadata": {},
   "source": [
    "as both male & female as churned and with more or less same percentge of users getting churn it may not be deciding factor in churn"
   ]
  },
  {
   "cell_type": "code",
   "execution_count": 66,
   "metadata": {},
   "outputs": [],
   "source": [
    "clean_df.createOrReplaceTempView(\"sparkify\")"
   ]
  },
  {
   "cell_type": "code",
   "execution_count": 67,
   "metadata": {},
   "outputs": [
    {
     "name": "stdout",
     "output_type": "stream",
     "text": [
      "+----------+------------------+\n",
      "|user_churn|avg(itemInSession)|\n",
      "+----------+------------------+\n",
      "|         1|108.24558629776021|\n",
      "|         0|121.68204357516753|\n",
      "+----------+------------------+\n",
      "\n"
     ]
    }
   ],
   "source": [
    "query=spark.sql(\"select user_churn,avg(itemInSession) from sparkify group by user_churn\")\n",
    "query.show()"
   ]
  },
  {
   "cell_type": "markdown",
   "metadata": {},
   "source": [
    "We can see churn users has less item in a session,indicating less songs played"
   ]
  },
  {
   "cell_type": "code",
   "execution_count": 68,
   "metadata": {},
   "outputs": [
    {
     "name": "stdout",
     "output_type": "stream",
     "text": [
      "+----------+-----------+\n",
      "|user_churn|count(song)|\n",
      "+----------+-----------+\n",
      "|         1|     114545|\n",
      "|         0|     113563|\n",
      "+----------+-----------+\n",
      "\n"
     ]
    }
   ],
   "source": [
    "query=spark.sql(\"select user_churn,count(song) from sparkify group by user_churn\")\n",
    "query.show()"
   ]
  },
  {
   "cell_type": "code",
   "execution_count": 69,
   "metadata": {},
   "outputs": [
    {
     "name": "stdout",
     "output_type": "stream",
     "text": [
      "+----------+------------------+\n",
      "|user_churn|       avg(length)|\n",
      "+----------+------------------+\n",
      "|         1|249.10222253882736|\n",
      "|         0|249.13227077384346|\n",
      "+----------+------------------+\n",
      "\n"
     ]
    }
   ],
   "source": [
    "query=spark.sql(\"select user_churn,avg(length) from sparkify group by user_churn\")\n",
    "query.show()"
   ]
  },
  {
   "cell_type": "code",
   "execution_count": 70,
   "metadata": {},
   "outputs": [
    {
     "name": "stdout",
     "output_type": "stream",
     "text": [
      "+----------+--------+\n",
      "|user_churn|count(1)|\n",
      "+----------+--------+\n",
      "|         1|      94|\n",
      "|         0|      65|\n",
      "+----------+--------+\n",
      "\n"
     ]
    }
   ],
   "source": [
    "query=spark.sql(\"select user_churn,count(*) from sparkify where page ='Submit Upgrade' group by user_churn\")\n",
    "query.show()"
   ]
  },
  {
   "cell_type": "code",
   "execution_count": 71,
   "metadata": {},
   "outputs": [
    {
     "name": "stdout",
     "output_type": "stream",
     "text": [
      "+----------+--------+\n",
      "|user_churn|count(1)|\n",
      "+----------+--------+\n",
      "|         1|    1401|\n",
      "|         0|    1145|\n",
      "+----------+--------+\n",
      "\n"
     ]
    }
   ],
   "source": [
    "query=spark.sql(\"select user_churn,count(*) from sparkify where page ='Thumbs Down' group by user_churn\")\n",
    "query.show()"
   ]
  },
  {
   "cell_type": "code",
   "execution_count": 72,
   "metadata": {},
   "outputs": [
    {
     "name": "stdout",
     "output_type": "stream",
     "text": [
      "Average thumbbs down per user for churn user :  15.228260869565217\n",
      "Average thumbbs down per user for non churn user :  8.609022556390977\n"
     ]
    }
   ],
   "source": [
    "print (\"Average thumbbs down per user for churn user : \", 1401/92)\n",
    "print (\"Average thumbbs down per user for non churn user : \", 1145/(225-92))"
   ]
  },
  {
   "cell_type": "markdown",
   "metadata": {},
   "source": [
    "Churn users even though smaller in number has more thumbs down indicating poor service performance"
   ]
  },
  {
   "cell_type": "code",
   "execution_count": 73,
   "metadata": {},
   "outputs": [
    {
     "name": "stdout",
     "output_type": "stream",
     "text": [
      "+----------+--------+\n",
      "|user_churn|count(1)|\n",
      "+----------+--------+\n",
      "|         1|     112|\n",
      "|         0|     140|\n",
      "+----------+--------+\n",
      "\n"
     ]
    }
   ],
   "source": [
    "query=spark.sql(\"select user_churn,count(*) from sparkify where page ='Error' group by user_churn\")\n",
    "query.show()"
   ]
  },
  {
   "cell_type": "code",
   "execution_count": 74,
   "metadata": {},
   "outputs": [
    {
     "name": "stdout",
     "output_type": "stream",
     "text": [
      "Average error per user for churn user :  1.2173913043478262\n",
      "Average error per user for non churn user :  1.0526315789473684\n"
     ]
    }
   ],
   "source": [
    "print (\"Average error per user for churn user : \", 112/92)\n",
    "print (\"Average error per user for non churn user : \", 140/(225-92))"
   ]
  },
  {
   "cell_type": "code",
   "execution_count": 75,
   "metadata": {},
   "outputs": [
    {
     "name": "stdout",
     "output_type": "stream",
     "text": [
      "+----------------+----------+\n",
      "|count(sessionId)|user_churn|\n",
      "+----------------+----------+\n",
      "|          140415|         1|\n",
      "|          137739|         0|\n",
      "+----------------+----------+\n",
      "\n"
     ]
    }
   ],
   "source": [
    "\n",
    "query=spark.sql(\"select count(sessionId),user_churn from sparkify group by user_churn\")\n",
    "query.show()"
   ]
  },
  {
   "cell_type": "code",
   "execution_count": 76,
   "metadata": {},
   "outputs": [
    {
     "name": "stdout",
     "output_type": "stream",
     "text": [
      "+--------+----------+\n",
      "|count(1)|user_churn|\n",
      "+--------+----------+\n",
      "|     145|         1|\n",
      "|     165|         0|\n",
      "+--------+----------+\n",
      "\n"
     ]
    }
   ],
   "source": [
    "#Save Settings\n",
    "query=spark.sql(\"select count(*),user_churn from sparkify where page='Save Settings' group by user_churn\")\n",
    "query.show()"
   ]
  },
  {
   "cell_type": "markdown",
   "metadata": {},
   "source": [
    "# Feature Engineering\n",
    "Once you've familiarized yourself with the data, build out the features you find promising to train your model on. To work with the full dataset, you can follow the following steps.\n",
    "- Write a script to extract the necessary features from the smaller subset of data\n",
    "- Ensure that your script is scalable, using the best practices discussed in Lesson 3\n",
    "- Try your script on the full data set, debugging your script if necessary\n",
    "\n",
    "If you are working in the classroom workspace, you can just extract features based on the small subset of data contained here. Be sure to transfer over this work to the larger dataset when you work on your Spark cluster."
   ]
  },
  {
   "cell_type": "markdown",
   "metadata": {},
   "source": [
    "Based on data analysis done in earlier session.\n",
    "below are important features\n",
    "1. positive indicators\n",
    "    1. Number of thumbs up\n",
    "        - If user has thumps up then they have liked the then its positive single they liked the serive\n",
    "    2. Number of songs played\n",
    "    3. Number of artist played\n",
    "    4. Number of friends recommended\n",
    "        - If user has recommended service to user \n",
    "    5. Number of songs added to playlist\n",
    "2. Negative indicators \n",
    "    1. Number of thumbs down\n",
    "    2. Number of error received\n",
    "    3. Number of help call received\n",
    "    4. Number of settings changed\n",
    "3. Independent indicators \n",
    "    1. Gender\n",
    "    2. No of sessions"
   ]
  },
  {
   "cell_type": "markdown",
   "metadata": {},
   "source": [
    "There will be users which will not have few features, since all the features listed above are of type integers so default value is 0 for any user missing these features. \n",
    "\n",
    "Now to add these missing users into dataframe I followed below steps for each new feature added \n",
    "\n",
    "- step1 prepare list of all users\n",
    "- step2 create function that will create spark dataframe with userid & 0\n",
    "- step3 create dataframe with userID & feature of interest\n",
    "- step4 check if all users are present in dataset or not, if not call function created in step 2 and create new dataframe.\n",
    "- step4 append newly createed dataframe witch existing dataframe"
   ]
  },
  {
   "cell_type": "code",
   "execution_count": 77,
   "metadata": {},
   "outputs": [],
   "source": [
    "total_users=clean_df.select('userId').drop_duplicates().collect()"
   ]
  },
  {
   "cell_type": "code",
   "execution_count": 78,
   "metadata": {},
   "outputs": [],
   "source": [
    "length=len(total_users)\n",
    "uId_list=[]\n",
    "for i in range(length):\n",
    "    uId_list.append(total_users[i].userId)"
   ]
  },
  {
   "cell_type": "code",
   "execution_count": 79,
   "metadata": {},
   "outputs": [],
   "source": [
    "def add_new_row(all_users,feat_df):\n",
    "    uId= feat_df.select('userId').collect()\n",
    "    length=len(uId)\n",
    "    users=[]\n",
    "    for i in range(length):\n",
    "        users.append(uId[i].userId)\n",
    "    \n",
    "    new_df_list=[]\n",
    "    for u in all_users:\n",
    "        if u not in users:\n",
    "            row=[u,0]\n",
    "            new_df_list.append(row)\n",
    "    new_df=spark.createDataFrame(new_df_list)     \n",
    "    feat_df=feat_df.union(new_df)\n",
    "    return feat_df"
   ]
  },
  {
   "cell_type": "code",
   "execution_count": 80,
   "metadata": {},
   "outputs": [],
   "source": [
    "#1A Number of thumbs up"
   ]
  },
  {
   "cell_type": "code",
   "execution_count": 81,
   "metadata": {},
   "outputs": [
    {
     "name": "stdout",
     "output_type": "stream",
     "text": [
      "+------+-------------+\n",
      "|userId|tot_thumbs_up|\n",
      "+------+-------------+\n",
      "|100010|           17|\n",
      "|200002|           21|\n",
      "|    51|          100|\n",
      "|   124|          171|\n",
      "|     7|            7|\n",
      "|    54|          163|\n",
      "|    15|           81|\n",
      "|   155|           58|\n",
      "|   132|           96|\n",
      "|   154|           11|\n",
      "|100014|           17|\n",
      "|   101|           86|\n",
      "|    11|           40|\n",
      "|   138|           95|\n",
      "|300017|          303|\n",
      "|    29|          154|\n",
      "|    69|           72|\n",
      "|100021|           11|\n",
      "|    42|          166|\n",
      "|   112|            9|\n",
      "+------+-------------+\n",
      "only showing top 20 rows\n",
      "\n"
     ]
    },
    {
     "data": {
      "text/plain": [
       "220"
      ]
     },
     "execution_count": 81,
     "metadata": {},
     "output_type": "execute_result"
    }
   ],
   "source": [
    "feat_1 = clean_df.select('userId', 'page').where(df.page == 'Thumbs Up').groupBy('userId').count().withColumnRenamed('count', 'tot_thumbs_up')\n",
    "feat_1.show()\n",
    "feat_1.count()"
   ]
  },
  {
   "cell_type": "markdown",
   "metadata": {},
   "source": [
    "5 users are missing from list "
   ]
  },
  {
   "cell_type": "code",
   "execution_count": 82,
   "metadata": {},
   "outputs": [],
   "source": [
    "feat_1=add_new_row(uId_list,feat_1)"
   ]
  },
  {
   "cell_type": "code",
   "execution_count": 83,
   "metadata": {},
   "outputs": [
    {
     "data": {
      "text/plain": [
       "225"
      ]
     },
     "execution_count": 83,
     "metadata": {},
     "output_type": "execute_result"
    }
   ],
   "source": [
    "feat_1.count()"
   ]
  },
  {
   "cell_type": "code",
   "execution_count": 84,
   "metadata": {},
   "outputs": [
    {
     "name": "stdout",
     "output_type": "stream",
     "text": [
      "+------+---------+\n",
      "|userId|tot_songs|\n",
      "+------+---------+\n",
      "|100010|      381|\n",
      "|200002|      474|\n",
      "|   125|       11|\n",
      "|    51|     2464|\n",
      "|   124|     4825|\n",
      "|     7|      201|\n",
      "|    54|     3437|\n",
      "|    15|     2278|\n",
      "|   155|     1002|\n",
      "|   132|     2304|\n",
      "|   154|      118|\n",
      "|100014|      310|\n",
      "|   101|     2149|\n",
      "|    11|      848|\n",
      "|   138|     2469|\n",
      "|300017|     4428|\n",
      "|    29|     3603|\n",
      "|    69|     1342|\n",
      "|100021|      319|\n",
      "|    42|     4257|\n",
      "+------+---------+\n",
      "only showing top 20 rows\n",
      "\n"
     ]
    }
   ],
   "source": [
    "#1B Number songs played\n",
    "feat_2 = clean_df.select('userId', 'song').groupBy('userId').count().withColumnRenamed('count', 'tot_songs')\n",
    "feat_2.show()"
   ]
  },
  {
   "cell_type": "code",
   "execution_count": 85,
   "metadata": {
    "scrolled": true
   },
   "outputs": [
    {
     "name": "stdout",
     "output_type": "stream",
     "text": [
      "+------+---------+\n",
      "|userID|tot_songs|\n",
      "+------+---------+\n",
      "|100010|      275|\n",
      "|200002|      387|\n",
      "|   125|        8|\n",
      "|    51|     2111|\n",
      "|   124|     4079|\n",
      "|     7|      150|\n",
      "|    54|     2841|\n",
      "|    15|     1914|\n",
      "|   155|      820|\n",
      "|   132|     1928|\n",
      "|   154|       84|\n",
      "|100014|      257|\n",
      "|   101|     1797|\n",
      "|    11|      647|\n",
      "|   138|     2070|\n",
      "|300017|     3632|\n",
      "|    29|     3028|\n",
      "|    69|     1125|\n",
      "|100021|      230|\n",
      "|    42|     3573|\n",
      "+------+---------+\n",
      "only showing top 20 rows\n",
      "\n"
     ]
    },
    {
     "data": {
      "text/plain": [
       "225"
      ]
     },
     "execution_count": 85,
     "metadata": {},
     "output_type": "execute_result"
    }
   ],
   "source": [
    "feat_2=spark.sql(\"select userID,count(song) tot_songs from sparkify where song is not null group by userId\")\n",
    "feat_2.show()\n",
    "feat_2.count()"
   ]
  },
  {
   "cell_type": "code",
   "execution_count": 86,
   "metadata": {},
   "outputs": [
    {
     "name": "stdout",
     "output_type": "stream",
     "text": [
      "+------+----------+\n",
      "|userId|tot_artist|\n",
      "+------+----------+\n",
      "|100010|       381|\n",
      "|200002|       474|\n",
      "|   125|        11|\n",
      "|    51|      2464|\n",
      "|   124|      4825|\n",
      "|     7|       201|\n",
      "|    54|      3437|\n",
      "|    15|      2278|\n",
      "|   155|      1002|\n",
      "|   132|      2304|\n",
      "|   154|       118|\n",
      "|100014|       310|\n",
      "|   101|      2149|\n",
      "|    11|       848|\n",
      "|   138|      2469|\n",
      "|300017|      4428|\n",
      "|    29|      3603|\n",
      "|    69|      1342|\n",
      "|100021|       319|\n",
      "|    42|      4257|\n",
      "+------+----------+\n",
      "only showing top 20 rows\n",
      "\n"
     ]
    },
    {
     "data": {
      "text/plain": [
       "225"
      ]
     },
     "execution_count": 86,
     "metadata": {},
     "output_type": "execute_result"
    }
   ],
   "source": [
    "#1C Number of artist played\n",
    "feat_3 = clean_df.select('userId', 'artist').groupBy('userId').count().withColumnRenamed('count', 'tot_artist')\n",
    "feat_3.show()\n",
    "feat_3.count()"
   ]
  },
  {
   "cell_type": "code",
   "execution_count": 87,
   "metadata": {},
   "outputs": [
    {
     "name": "stdout",
     "output_type": "stream",
     "text": [
      "+------+----------+\n",
      "|userID|tot_artist|\n",
      "+------+----------+\n",
      "|100010|       275|\n",
      "|200002|       387|\n",
      "|   125|         8|\n",
      "|    51|      2111|\n",
      "|   124|      4079|\n",
      "|     7|       150|\n",
      "|    54|      2841|\n",
      "|    15|      1914|\n",
      "|   155|       820|\n",
      "|   132|      1928|\n",
      "|   154|        84|\n",
      "|100014|       257|\n",
      "|   101|      1797|\n",
      "|    11|       647|\n",
      "|   138|      2070|\n",
      "|300017|      3632|\n",
      "|    29|      3028|\n",
      "|    69|      1125|\n",
      "|100021|       230|\n",
      "|    42|      3573|\n",
      "+------+----------+\n",
      "only showing top 20 rows\n",
      "\n"
     ]
    },
    {
     "data": {
      "text/plain": [
       "225"
      ]
     },
     "execution_count": 87,
     "metadata": {},
     "output_type": "execute_result"
    }
   ],
   "source": [
    "feat_3=spark.sql(\"select userID,count(artist) tot_artist from sparkify where artist is not null group by userId\")\n",
    "feat_3.show()\n",
    "feat_3.count()"
   ]
  },
  {
   "cell_type": "code",
   "execution_count": 88,
   "metadata": {},
   "outputs": [
    {
     "name": "stdout",
     "output_type": "stream",
     "text": [
      "+------+-----------+\n",
      "|userID|tot_friends|\n",
      "+------+-----------+\n",
      "|100010|          4|\n",
      "|200002|          4|\n",
      "|    51|         28|\n",
      "|   124|         74|\n",
      "|     7|          1|\n",
      "|    54|         33|\n",
      "|    15|         31|\n",
      "|   155|         11|\n",
      "|   132|         41|\n",
      "|   154|          3|\n",
      "|100014|          6|\n",
      "|   101|         29|\n",
      "|    11|          6|\n",
      "|   138|         41|\n",
      "|300017|         63|\n",
      "|    29|         47|\n",
      "|    69|         12|\n",
      "|100021|          7|\n",
      "|    42|         52|\n",
      "|   112|          7|\n",
      "+------+-----------+\n",
      "only showing top 20 rows\n",
      "\n"
     ]
    },
    {
     "data": {
      "text/plain": [
       "206"
      ]
     },
     "execution_count": 88,
     "metadata": {},
     "output_type": "execute_result"
    }
   ],
   "source": [
    "#1d Number of friends recommended\n",
    "feat_4=spark.sql(\"select userID,count(*) tot_friends from sparkify where page='Add Friend'  group by userId\")\n",
    "feat_4.show()\n",
    "feat_4.count()"
   ]
  },
  {
   "cell_type": "code",
   "execution_count": 89,
   "metadata": {},
   "outputs": [
    {
     "data": {
      "text/plain": [
       "225"
      ]
     },
     "execution_count": 89,
     "metadata": {},
     "output_type": "execute_result"
    }
   ],
   "source": [
    "feat_4=add_new_row(uId_list,feat_4)\n",
    "feat_4.count()"
   ]
  },
  {
   "cell_type": "code",
   "execution_count": 90,
   "metadata": {},
   "outputs": [
    {
     "name": "stdout",
     "output_type": "stream",
     "text": [
      "+------+------------+\n",
      "|userID|tot_playlist|\n",
      "+------+------------+\n",
      "|100010|           7|\n",
      "|200002|           8|\n",
      "|    51|          52|\n",
      "|   124|         118|\n",
      "|     7|           5|\n",
      "|    15|          59|\n",
      "|    54|          72|\n",
      "|   155|          24|\n",
      "|   132|          38|\n",
      "|   154|           1|\n",
      "|100014|           7|\n",
      "|   101|          61|\n",
      "|    11|          20|\n",
      "|   138|          67|\n",
      "|300017|         113|\n",
      "|    29|          89|\n",
      "|    69|          33|\n",
      "|100021|           7|\n",
      "|    42|         104|\n",
      "|   112|           7|\n",
      "+------+------------+\n",
      "only showing top 20 rows\n",
      "\n"
     ]
    },
    {
     "data": {
      "text/plain": [
       "215"
      ]
     },
     "execution_count": 90,
     "metadata": {},
     "output_type": "execute_result"
    }
   ],
   "source": [
    "#1E Number of songs added to playlist \n",
    "feat_5=spark.sql(\"select userID,count(*) tot_playlist from sparkify where page='Add to Playlist'  group by userId\")\n",
    "feat_5.show()\n",
    "feat_5.count()"
   ]
  },
  {
   "cell_type": "code",
   "execution_count": 91,
   "metadata": {},
   "outputs": [
    {
     "data": {
      "text/plain": [
       "225"
      ]
     },
     "execution_count": 91,
     "metadata": {},
     "output_type": "execute_result"
    }
   ],
   "source": [
    "feat_5=add_new_row(uId_list,feat_5)\n",
    "feat_5.count()"
   ]
  },
  {
   "cell_type": "code",
   "execution_count": 92,
   "metadata": {},
   "outputs": [
    {
     "name": "stdout",
     "output_type": "stream",
     "text": [
      "+------+--------------+\n",
      "|userID|tot_thumb_down|\n",
      "+------+--------------+\n",
      "|100010|             5|\n",
      "|200002|             6|\n",
      "|    51|            21|\n",
      "|   124|            41|\n",
      "|     7|             1|\n",
      "|    15|            14|\n",
      "|    54|            29|\n",
      "|   155|             3|\n",
      "|   132|            17|\n",
      "|100014|             3|\n",
      "|   101|            16|\n",
      "|    11|             9|\n",
      "|   138|            24|\n",
      "|300017|            28|\n",
      "|    29|            22|\n",
      "|    69|             9|\n",
      "|100021|             5|\n",
      "|    42|            25|\n",
      "|   112|             3|\n",
      "|    73|             7|\n",
      "+------+--------------+\n",
      "only showing top 20 rows\n",
      "\n"
     ]
    },
    {
     "data": {
      "text/plain": [
       "203"
      ]
     },
     "execution_count": 92,
     "metadata": {},
     "output_type": "execute_result"
    }
   ],
   "source": [
    "#2A Number of thumbs down\n",
    "feat_2A=spark.sql(\"select userID,count(*) tot_thumb_down from sparkify where page ='Thumbs Down' group by userID\")\n",
    "feat_2A.show()\n",
    "feat_2A.count()"
   ]
  },
  {
   "cell_type": "code",
   "execution_count": 93,
   "metadata": {},
   "outputs": [
    {
     "data": {
      "text/plain": [
       "225"
      ]
     },
     "execution_count": 93,
     "metadata": {},
     "output_type": "execute_result"
    }
   ],
   "source": [
    "feat_2A=add_new_row(uId_list,feat_2A)\n",
    "feat_2A.count()"
   ]
  },
  {
   "cell_type": "code",
   "execution_count": 94,
   "metadata": {},
   "outputs": [
    {
     "name": "stdout",
     "output_type": "stream",
     "text": [
      "+------+--------+\n",
      "|userID|tot_errs|\n",
      "+------+--------+\n",
      "|   124|       6|\n",
      "|    51|       1|\n",
      "|     7|       1|\n",
      "|    15|       2|\n",
      "|    54|       1|\n",
      "|   155|       3|\n",
      "|   132|       3|\n",
      "|   101|       3|\n",
      "|    11|       1|\n",
      "|   138|       1|\n",
      "|300017|       5|\n",
      "|    69|       4|\n",
      "|100021|       2|\n",
      "|    42|       7|\n",
      "|    73|       1|\n",
      "|200010|       1|\n",
      "|    30|       1|\n",
      "|   113|       3|\n",
      "|    59|       4|\n",
      "|   146|       1|\n",
      "+------+--------+\n",
      "only showing top 20 rows\n",
      "\n"
     ]
    },
    {
     "data": {
      "text/plain": [
       "117"
      ]
     },
     "execution_count": 94,
     "metadata": {},
     "output_type": "execute_result"
    }
   ],
   "source": [
    "#2B Number of error received Error\n",
    "feat_2B=spark.sql(\"select userID,count(*) tot_errs from sparkify where page ='Error' group by userID\")\n",
    "feat_2B.show()\n",
    "feat_2B.count()"
   ]
  },
  {
   "cell_type": "code",
   "execution_count": 95,
   "metadata": {},
   "outputs": [
    {
     "data": {
      "text/plain": [
       "225"
      ]
     },
     "execution_count": 95,
     "metadata": {},
     "output_type": "execute_result"
    }
   ],
   "source": [
    "feat_2B=add_new_row(uId_list,feat_2B)\n",
    "feat_2B.count()"
   ]
  },
  {
   "cell_type": "code",
   "execution_count": 96,
   "metadata": {},
   "outputs": [
    {
     "name": "stdout",
     "output_type": "stream",
     "text": [
      "+------+--------+\n",
      "|userID|tot_help|\n",
      "+------+--------+\n",
      "|100010|       2|\n",
      "|200002|       2|\n",
      "|    51|      12|\n",
      "|   124|      23|\n",
      "|     7|       1|\n",
      "|    54|      17|\n",
      "|    15|       8|\n",
      "|   155|       9|\n",
      "|   132|      16|\n",
      "|   154|       1|\n",
      "|100014|       2|\n",
      "|   101|      12|\n",
      "|    11|       3|\n",
      "|   138|      13|\n",
      "|300017|      27|\n",
      "|    29|      28|\n",
      "|    69|       7|\n",
      "|   112|       1|\n",
      "|    42|      20|\n",
      "|    73|       4|\n",
      "+------+--------+\n",
      "only showing top 20 rows\n",
      "\n"
     ]
    },
    {
     "data": {
      "text/plain": [
       "192"
      ]
     },
     "execution_count": 96,
     "metadata": {},
     "output_type": "execute_result"
    }
   ],
   "source": [
    "#2C Number of help call received\n",
    "feat_2C=spark.sql(\"select userID,count(*) tot_help from sparkify where page ='Help' group by userID\")\n",
    "feat_2C.show()\n",
    "feat_2C.count()"
   ]
  },
  {
   "cell_type": "code",
   "execution_count": 97,
   "metadata": {},
   "outputs": [
    {
     "data": {
      "text/plain": [
       "225"
      ]
     },
     "execution_count": 97,
     "metadata": {},
     "output_type": "execute_result"
    }
   ],
   "source": [
    "feat_2C=add_new_row(uId_list,feat_2C)\n",
    "feat_2C.count()"
   ]
  },
  {
   "cell_type": "code",
   "execution_count": 98,
   "metadata": {},
   "outputs": [
    {
     "name": "stdout",
     "output_type": "stream",
     "text": [
      "+------+-----------+\n",
      "|userID|tot_setting|\n",
      "+------+-----------+\n",
      "|    51|          1|\n",
      "|   124|          6|\n",
      "|     7|          1|\n",
      "|    15|          2|\n",
      "|    54|          3|\n",
      "|   132|          4|\n",
      "|    11|          2|\n",
      "|   101|          2|\n",
      "|   138|          4|\n",
      "|300017|          3|\n",
      "|    29|          4|\n",
      "|    69|          1|\n",
      "|   112|          3|\n",
      "|    42|          7|\n",
      "|    73|          1|\n",
      "|   113|          3|\n",
      "|    30|          1|\n",
      "|300018|          2|\n",
      "|300012|          1|\n",
      "|100022|          2|\n",
      "+------+-----------+\n",
      "only showing top 20 rows\n",
      "\n"
     ]
    },
    {
     "data": {
      "text/plain": [
       "132"
      ]
     },
     "execution_count": 98,
     "metadata": {},
     "output_type": "execute_result"
    }
   ],
   "source": [
    "#2D Number of settings changed\n",
    "feat_2D=spark.sql(\"select userID,count(*) tot_setting from sparkify where page ='Save Settings' group by userID\")\n",
    "feat_2D.show()\n",
    "feat_2D.count()"
   ]
  },
  {
   "cell_type": "code",
   "execution_count": 99,
   "metadata": {},
   "outputs": [
    {
     "data": {
      "text/plain": [
       "225"
      ]
     },
     "execution_count": 99,
     "metadata": {},
     "output_type": "execute_result"
    }
   ],
   "source": [
    "feat_2D=add_new_row(uId_list,feat_2D)\n",
    "feat_2D.count()"
   ]
  },
  {
   "cell_type": "code",
   "execution_count": 100,
   "metadata": {},
   "outputs": [
    {
     "name": "stdout",
     "output_type": "stream",
     "text": [
      "+------+------+\n",
      "|userID|gender|\n",
      "+------+------+\n",
      "|    44|     F|\n",
      "|    46|     F|\n",
      "|    41|     F|\n",
      "|    72|     F|\n",
      "|300023|     F|\n",
      "|    39|     F|\n",
      "|100010|     F|\n",
      "|    40|     F|\n",
      "|    94|     F|\n",
      "|    35|     F|\n",
      "|    75|     F|\n",
      "|   116|     F|\n",
      "|200001|     M|\n",
      "|200020|     M|\n",
      "|100008|     F|\n",
      "|200015|     M|\n",
      "|   100|     M|\n",
      "|100006|     F|\n",
      "|300005|     F|\n",
      "|    25|     F|\n",
      "+------+------+\n",
      "only showing top 20 rows\n",
      "\n"
     ]
    }
   ],
   "source": [
    "#3A Gender of user\n",
    "feat_3A = spark.sql(\"select distinct(userID),gender from sparkify\")\n",
    "feat_3A.show()"
   ]
  },
  {
   "cell_type": "code",
   "execution_count": 101,
   "metadata": {},
   "outputs": [
    {
     "name": "stdout",
     "output_type": "stream",
     "text": [
      "+------+------+\n",
      "|userId|gender|\n",
      "+------+------+\n",
      "|    44|     0|\n",
      "|    46|     0|\n",
      "|    41|     0|\n",
      "|    72|     0|\n",
      "|300023|     0|\n",
      "|    39|     0|\n",
      "|100010|     0|\n",
      "|    40|     0|\n",
      "|    94|     0|\n",
      "|    35|     0|\n",
      "|    75|     0|\n",
      "|   116|     0|\n",
      "|200001|     1|\n",
      "|200020|     1|\n",
      "|100008|     0|\n",
      "|200015|     1|\n",
      "|   100|     1|\n",
      "|100006|     0|\n",
      "|300005|     0|\n",
      "|    25|     0|\n",
      "+------+------+\n",
      "only showing top 20 rows\n",
      "\n"
     ]
    }
   ],
   "source": [
    "feat_3A=feat_3A.replace(['F', 'M'], ['0', '1'], 'gender').select('userId', col('gender').cast('int'))\n",
    "feat_3A.show()"
   ]
  },
  {
   "cell_type": "code",
   "execution_count": 102,
   "metadata": {},
   "outputs": [
    {
     "name": "stdout",
     "output_type": "stream",
     "text": [
      "+------+------------------+\n",
      "|userId|   tot_listen_time|\n",
      "+------+------------------+\n",
      "|100010| 66940.89735000003|\n",
      "|200002| 94008.87593999993|\n",
      "|   125|2089.1131000000005|\n",
      "|    51| 523275.8428000004|\n",
      "|   124|1012312.0927899999|\n",
      "|     7| 38034.08710000002|\n",
      "|    54| 711344.9195400011|\n",
      "|    15|477307.60581000015|\n",
      "|   155|       198779.2919|\n",
      "|   132| 483118.9038399997|\n",
      "|   154|20660.023910000007|\n",
      "|100014| 67703.47208000004|\n",
      "|   101| 447464.0146699989|\n",
      "|    11|159669.96303999983|\n",
      "|   138| 512449.8827599989|\n",
      "|300017| 897406.9802100015|\n",
      "|    29| 754517.5625700009|\n",
      "|    69| 286064.0256399999|\n",
      "|100021| 57633.17563999999|\n",
      "|    42| 881792.9661300007|\n",
      "+------+------------------+\n",
      "only showing top 20 rows\n",
      "\n"
     ]
    },
    {
     "data": {
      "text/plain": [
       "226"
      ]
     },
     "execution_count": 102,
     "metadata": {},
     "output_type": "execute_result"
    }
   ],
   "source": [
    "# Total length of listening utilizing all services\n",
    "feat_3B = df.select(\"userId\", 'length').groupBy('userId').sum().withColumnRenamed('sum(length)', 'tot_listen_time').dropDuplicates()\n",
    "feat_3B.show()\n",
    "feat_3B.count()"
   ]
  },
  {
   "cell_type": "code",
   "execution_count": 103,
   "metadata": {},
   "outputs": [
    {
     "name": "stdout",
     "output_type": "stream",
     "text": [
      "+------+------------------+\n",
      "|userId|      tot_lifetime|\n",
      "+------+------------------+\n",
      "|100010|  55.6436574074074|\n",
      "|200002| 70.07462962962963|\n",
      "|   125| 71.31688657407408|\n",
      "|    51|19.455844907407407|\n",
      "|   124|131.55591435185184|\n",
      "|     7| 72.77818287037037|\n",
      "|    54|110.75168981481481|\n",
      "|    15|56.513576388888886|\n",
      "|   155|23.556018518518517|\n",
      "|   132|  66.8891087962963|\n",
      "|   154|23.872037037037035|\n",
      "|100014| 85.08340277777778|\n",
      "|   101|53.965937499999995|\n",
      "|    11|124.47825231481481|\n",
      "|   138| 66.62668981481481|\n",
      "|300017| 74.35851851851852|\n",
      "|    29|60.104050925925925|\n",
      "|    69| 71.42444444444445|\n",
      "|100021| 64.73886574074074|\n",
      "|    42| 67.11364583333334|\n",
      "+------+------------------+\n",
      "only showing top 20 rows\n",
      "\n"
     ]
    }
   ],
   "source": [
    "feat_3C = df.select('userId', 'registration', 'ts').withColumn('tot_lifetime', (df.ts - df.registration))\\\n",
    "    .groupBy('userId').agg({'tot_lifetime' : 'max'})\\\n",
    "    .withColumnRenamed('max(tot_lifetime)', 'tot_lifetime')\\\n",
    "    .select('userId', (col('tot_lifetime')/1000/3600/24).alias('tot_lifetime'))\n",
    "feat_3C.show()"
   ]
  },
  {
   "cell_type": "code",
   "execution_count": 104,
   "metadata": {},
   "outputs": [
    {
     "name": "stdout",
     "output_type": "stream",
     "text": [
      "+------+-----------+\n",
      "|userId|user_cancle|\n",
      "+------+-----------+\n",
      "|100010|          0|\n",
      "|200002|          0|\n",
      "|   125|          1|\n",
      "|   124|          0|\n",
      "|    51|          1|\n",
      "|     7|          0|\n",
      "|    15|          0|\n",
      "|    54|          1|\n",
      "|   155|          0|\n",
      "|100014|          1|\n",
      "|   132|          0|\n",
      "|   154|          0|\n",
      "|   101|          1|\n",
      "|    11|          0|\n",
      "|   138|          0|\n",
      "|300017|          0|\n",
      "|100021|          1|\n",
      "|    29|          1|\n",
      "|    69|          0|\n",
      "|   112|          0|\n",
      "+------+-----------+\n",
      "only showing top 20 rows\n",
      "\n"
     ]
    },
    {
     "data": {
      "text/plain": [
       "225"
      ]
     },
     "execution_count": 104,
     "metadata": {},
     "output_type": "execute_result"
    }
   ],
   "source": [
    "feat_4A=spark.sql(\"select distinct(userId),user_cancle from sparkify\")\n",
    "feat_4A.show()\n",
    "feat_4A.count()"
   ]
  },
  {
   "cell_type": "code",
   "execution_count": 105,
   "metadata": {},
   "outputs": [
    {
     "name": "stdout",
     "output_type": "stream",
     "text": [
      "+------+--------------+\n",
      "|userId|user_downgrade|\n",
      "+------+--------------+\n",
      "|100010|             0|\n",
      "|200002|             0|\n",
      "|   125|             0|\n",
      "|   124|             0|\n",
      "|    51|             0|\n",
      "|     7|             0|\n",
      "|    15|             0|\n",
      "|    54|             1|\n",
      "|   155|             0|\n",
      "|100014|             0|\n",
      "|   132|             0|\n",
      "|   154|             0|\n",
      "|   101|             0|\n",
      "|    11|             1|\n",
      "|   138|             0|\n",
      "|300017|             0|\n",
      "|100021|             0|\n",
      "|    29|             0|\n",
      "|    69|             0|\n",
      "|   112|             0|\n",
      "+------+--------------+\n",
      "only showing top 20 rows\n",
      "\n"
     ]
    },
    {
     "data": {
      "text/plain": [
       "225"
      ]
     },
     "execution_count": 105,
     "metadata": {},
     "output_type": "execute_result"
    }
   ],
   "source": [
    "feat_4B=spark.sql(\"select distinct(userId),user_downgrade from sparkify\")\n",
    "feat_4B.show()\n",
    "feat_4B.count()"
   ]
  },
  {
   "cell_type": "code",
   "execution_count": 106,
   "metadata": {},
   "outputs": [
    {
     "name": "stdout",
     "output_type": "stream",
     "text": [
      "+------+------+\n",
      "|userId|target|\n",
      "+------+------+\n",
      "|    19|     0|\n",
      "|300007|     1|\n",
      "|100005|     1|\n",
      "|200007|     0|\n",
      "|200002|     0|\n",
      "|    25|     1|\n",
      "|    50|     0|\n",
      "|     8|     0|\n",
      "|100011|     1|\n",
      "|100012|     1|\n",
      "|     4|     0|\n",
      "|    65|     0|\n",
      "|   101|     1|\n",
      "|300015|     1|\n",
      "|   153|     0|\n",
      "|100014|     1|\n",
      "|    42|     0|\n",
      "|    62|     0|\n",
      "|    94|     0|\n",
      "|   114|     0|\n",
      "+------+------+\n",
      "only showing top 20 rows\n",
      "\n"
     ]
    },
    {
     "data": {
      "text/plain": [
       "225"
      ]
     },
     "execution_count": 106,
     "metadata": {},
     "output_type": "execute_result"
    }
   ],
   "source": [
    "target = clean_df.select('userId', col('user_churn').alias('target')).dropDuplicates()\n",
    "target.show()\n",
    "target.count()"
   ]
  },
  {
   "cell_type": "code",
   "execution_count": 111,
   "metadata": {},
   "outputs": [
    {
     "name": "stdout",
     "output_type": "stream",
     "text": [
      "+-------------+---------+----------+-----------+------------+--------------+--------+--------+-----------+------+------------------+------------------+-----------+--------------+------+\n",
      "|tot_thumbs_up|tot_songs|tot_artist|tot_friends|tot_playlist|tot_thumb_down|tot_errs|tot_help|tot_setting|gender|   tot_listen_time|      tot_lifetime|user_cancle|user_downgrade|target|\n",
      "+-------------+---------+----------+-----------+------------+--------------+--------+--------+-----------+------+------------------+------------------+-----------+--------------+------+\n",
      "|           17|      275|       275|          4|           7|             5|       0|       2|          0|     0| 66940.89735000003|  55.6436574074074|          0|             0|     0|\n",
      "|           21|      387|       387|          4|           8|             6|       0|       2|          0|     1| 94008.87593999993| 70.07462962962963|          0|             0|     0|\n",
      "|            0|        8|         8|          0|           0|             0|       0|       0|          0|     1|2089.1131000000005| 71.31688657407408|          1|             0|     1|\n",
      "|          171|     4079|      4079|         74|         118|            41|       6|      23|          6|     0|1012312.0927899999|131.55591435185184|          0|             0|     0|\n",
      "|          100|     2111|      2111|         28|          52|            21|       1|      12|          1|     1| 523275.8428000004|19.455844907407407|          1|             0|     1|\n",
      "|            7|      150|       150|          1|           5|             1|       1|       1|          1|     1| 38034.08710000002| 72.77818287037037|          0|             0|     0|\n",
      "|           81|     1914|      1914|         31|          59|            14|       2|       8|          2|     1|477307.60581000015|56.513576388888886|          0|             0|     0|\n",
      "|          163|     2841|      2841|         33|          72|            29|       1|      17|          3|     0| 711344.9195400011|110.75168981481481|          1|             1|     1|\n",
      "|           58|      820|       820|         11|          24|             3|       3|       9|          0|     0|       198779.2919|23.556018518518517|          0|             0|     0|\n",
      "|           17|      257|       257|          6|           7|             3|       0|       2|          0|     1| 67703.47208000004| 85.08340277777778|          1|             0|     1|\n",
      "|           96|     1928|      1928|         41|          38|            17|       3|      16|          4|     0| 483118.9038399997|  66.8891087962963|          0|             0|     0|\n",
      "|           11|       84|        84|          3|           1|             0|       0|       1|          0|     0|20660.023910000007|23.872037037037035|          0|             0|     0|\n",
      "|           86|     1797|      1797|         29|          61|            16|       3|      12|          2|     1| 447464.0146699989|53.965937499999995|          1|             0|     1|\n",
      "|           40|      647|       647|          6|          20|             9|       1|       3|          2|     0|159669.96303999983|124.47825231481481|          0|             1|     1|\n",
      "|           95|     2070|      2070|         41|          67|            24|       1|      13|          4|     1| 512449.8827599989| 66.62668981481481|          0|             0|     0|\n",
      "|          303|     3632|      3632|         63|         113|            28|       5|      27|          3|     0| 897406.9802100015| 74.35851851851852|          0|             0|     0|\n",
      "|           11|      230|       230|          7|           7|             5|       2|       0|          0|     1| 57633.17563999999| 64.73886574074074|          1|             0|     1|\n",
      "|          154|     3028|      3028|         47|          89|            22|       0|      28|          4|     1| 754517.5625700009|60.104050925925925|          1|             0|     1|\n",
      "|           72|     1125|      1125|         12|          33|             9|       4|       7|          1|     0| 286064.0256399999| 71.42444444444445|          0|             0|     0|\n",
      "|            9|      215|       215|          7|           7|             3|       0|       1|          3|     1| 53062.74659000002| 87.46262731481481|          0|             0|     0|\n",
      "+-------------+---------+----------+-----------+------------+--------------+--------+--------+-----------+------+------------------+------------------+-----------+--------------+------+\n",
      "only showing top 20 rows\n",
      "\n"
     ]
    }
   ],
   "source": [
    "final_data = feat_1.join(feat_2, 'userId', 'inner').join(feat_3, 'userId', 'inner').join(feat_4, 'userId', 'inner')\\\n",
    "             .join(feat_5, 'userId', 'inner').join(feat_2A, 'userId', 'inner').join(feat_2B, 'userId', 'inner')\\\n",
    "             .join(feat_2C, 'userId', 'inner').join(feat_2D, 'userId', 'inner').join(feat_3A, 'userId', 'inner').join(feat_3B, 'userId', 'inner').join(feat_3C, 'userId', 'inner').join(feat_4A, 'userId', 'inner').join(feat_4B, 'userId', 'inner').join(target, 'userId', 'inner').drop('userId')\n",
    "\n",
    "final_data.show()"
   ]
  },
  {
   "cell_type": "code",
   "execution_count": 112,
   "metadata": {},
   "outputs": [
    {
     "data": {
      "text/plain": [
       "225"
      ]
     },
     "execution_count": 112,
     "metadata": {},
     "output_type": "execute_result"
    }
   ],
   "source": [
    "final_data.count()"
   ]
  },
  {
   "cell_type": "code",
   "execution_count": 113,
   "metadata": {},
   "outputs": [
    {
     "data": {
      "text/plain": [
       "225"
      ]
     },
     "execution_count": 113,
     "metadata": {},
     "output_type": "execute_result"
    }
   ],
   "source": [
    "clean_df.select('userID').drop_duplicates().count()"
   ]
  },
  {
   "cell_type": "code",
   "execution_count": 114,
   "metadata": {},
   "outputs": [],
   "source": [
    "#final_data.describe()"
   ]
  },
  {
   "cell_type": "code",
   "execution_count": 115,
   "metadata": {},
   "outputs": [],
   "source": [
    "#final_data.describe().select(\"Summary\",\"tot_thumbs_up\",\"tot_songs\",\"tot_artist\",\"tot_thumb_down\",\"tot_errs\").show()"
   ]
  },
  {
   "cell_type": "code",
   "execution_count": 119,
   "metadata": {},
   "outputs": [],
   "source": [
    "pd_final=final_data.toPandas()"
   ]
  },
  {
   "cell_type": "code",
   "execution_count": 120,
   "metadata": {},
   "outputs": [],
   "source": [
    "#pd_final.describe()"
   ]
  },
  {
   "cell_type": "code",
   "execution_count": 121,
   "metadata": {},
   "outputs": [],
   "source": [
    "non_churn =pd_final[pd_final['target'] == 0].shape[0]"
   ]
  },
  {
   "cell_type": "code",
   "execution_count": 122,
   "metadata": {},
   "outputs": [],
   "source": [
    "churn=pd_final[pd_final['target'] == 1].shape[0]"
   ]
  },
  {
   "cell_type": "code",
   "execution_count": 123,
   "metadata": {},
   "outputs": [
    {
     "data": {
      "text/plain": [
       "([<matplotlib.patches.Wedge at 0x7f3eafa86d30>,\n",
       "  <matplotlib.patches.Wedge at 0x7f3eaf9e6240>],\n",
       " [Text(-0.310576,1.05525,'non_churn'), Text(0.310576,-1.05525,'churn')])"
      ]
     },
     "execution_count": 123,
     "metadata": {},
     "output_type": "execute_result"
    },
    {
     "data": {
      "image/png": "[encoded data removed]",
      "text/plain": [
       "<matplotlib.figure.Figure at 0x7f3eafc69160>"
      ]
     },
     "metadata": {},
     "output_type": "display_data"
    }
   ],
   "source": [
    "plt.pie([non_churn,churn],labels=['non_churn','churn'],)"
   ]
  },
  {
   "cell_type": "markdown",
   "metadata": {},
   "source": [
    "# Modeling\n",
    "Split the full dataset into train, test, and validation sets. Test out several of the machine learning methods you learned. Evaluate the accuracy of the various models, tuning parameters as necessary. Determine your winning model based on test accuracy and report results on the validation set. Since the churned users are a fairly small subset, I suggest using F1 score as the metric to optimize."
   ]
  },
  {
   "cell_type": "code",
   "execution_count": 124,
   "metadata": {},
   "outputs": [],
   "source": [
    "#combine all the features in one single feature vector.\n",
    "cols=final_data.columns"
   ]
  },
  {
   "cell_type": "code",
   "execution_count": 125,
   "metadata": {},
   "outputs": [
    {
     "data": {
      "text/plain": [
       "['tot_thumbs_up',\n",
       " 'tot_songs',\n",
       " 'tot_artist',\n",
       " 'tot_friends',\n",
       " 'tot_playlist',\n",
       " 'tot_thumb_down',\n",
       " 'tot_errs',\n",
       " 'tot_help',\n",
       " 'tot_setting',\n",
       " 'gender',\n",
       " 'tot_listen_time',\n",
       " 'tot_lifetime',\n",
       " 'user_cancle',\n",
       " 'user_downgrade',\n",
       " 'target']"
      ]
     },
     "execution_count": 125,
     "metadata": {},
     "output_type": "execute_result"
    }
   ],
   "source": [
    "cols"
   ]
  },
  {
   "cell_type": "code",
   "execution_count": 126,
   "metadata": {},
   "outputs": [],
   "source": [
    "cols.remove('target')"
   ]
  },
  {
   "cell_type": "code",
   "execution_count": 127,
   "metadata": {},
   "outputs": [
    {
     "name": "stdout",
     "output_type": "stream",
     "text": [
      "+--------------------+\n",
      "|            features|\n",
      "+--------------------+\n",
      "|[17.0,275.0,275.0...|\n",
      "|[21.0,387.0,387.0...|\n",
      "|(14,[1,2,9,10,11,...|\n",
      "|[171.0,4079.0,407...|\n",
      "|[100.0,2111.0,211...|\n",
      "|[7.0,150.0,150.0,...|\n",
      "|[81.0,1914.0,1914...|\n",
      "|[163.0,2841.0,284...|\n",
      "|[58.0,820.0,820.0...|\n",
      "|[17.0,257.0,257.0...|\n",
      "|[96.0,1928.0,1928...|\n",
      "|(14,[0,1,2,3,4,7,...|\n",
      "|[86.0,1797.0,1797...|\n",
      "|[40.0,647.0,647.0...|\n",
      "|[95.0,2070.0,2070...|\n",
      "|[303.0,3632.0,363...|\n",
      "|[11.0,230.0,230.0...|\n",
      "|[154.0,3028.0,302...|\n",
      "|[72.0,1125.0,1125...|\n",
      "|[9.0,215.0,215.0,...|\n",
      "+--------------------+\n",
      "only showing top 20 rows\n",
      "\n"
     ]
    }
   ],
   "source": [
    "assembler = VectorAssembler(inputCols=cols,outputCol=\"features\")\n",
    "# Now let us use the transform method to transform our dataset\n",
    "final_data=assembler.transform(final_data)\n",
    "final_data.select(\"features\").show()"
   ]
  },
  {
   "cell_type": "code",
   "execution_count": 128,
   "metadata": {},
   "outputs": [
    {
     "name": "stdout",
     "output_type": "stream",
     "text": [
      "+--------------------+--------------------+\n",
      "|            features|     Scaled_features|\n",
      "+--------------------+--------------------+\n",
      "|[17.0,275.0,275.0...|[0.25962948736535...|\n",
      "|[21.0,387.0,387.0...|[0.32071877851013...|\n",
      "|(14,[1,2,9,10,11,...|(14,[1,2,9,10,11,...|\n",
      "|[171.0,4079.0,407...|[2.61156719643969...|\n",
      "|[100.0,2111.0,211...|[1.52723227861970...|\n",
      "|[7.0,150.0,150.0,...|[0.10690625950337...|\n",
      "|[81.0,1914.0,1914...|[1.23705814568196...|\n",
      "|[163.0,2841.0,284...|[2.48938861415012...|\n",
      "|[58.0,820.0,820.0...|[0.88579472159942...|\n",
      "|[17.0,257.0,257.0...|[0.25962948736535...|\n",
      "|[96.0,1928.0,1928...|[1.46614298747491...|\n",
      "|(14,[0,1,2,3,4,7,...|(14,[0,1,2,3,4,7,...|\n",
      "|[86.0,1797.0,1797...|[1.31341975961294...|\n",
      "|[40.0,647.0,647.0...|[0.61089291144788...|\n",
      "|[95.0,2070.0,2070...|[1.45087066468872...|\n",
      "|[303.0,3632.0,363...|[4.62751380421771...|\n",
      "|[11.0,230.0,230.0...|[0.16799555064816...|\n",
      "|[154.0,3028.0,302...|[2.35193770907434...|\n",
      "|[72.0,1125.0,1125...|[1.09960724060618...|\n",
      "|[9.0,215.0,215.0,...|[0.13745090507577...|\n",
      "+--------------------+--------------------+\n",
      "only showing top 20 rows\n",
      "\n"
     ]
    }
   ],
   "source": [
    "#2 Standardsize data \n",
    "standardscaler=StandardScaler().setInputCol(\"features\").setOutputCol(\"Scaled_features\")\n",
    "final_data=standardscaler.fit(final_data).transform(final_data)\n",
    "final_data.select(\"features\",\"Scaled_features\").show()"
   ]
  },
  {
   "cell_type": "code",
   "execution_count": 129,
   "metadata": {},
   "outputs": [],
   "source": [
    "#create new dataframe with one target & scaled featyrs to be used for training\n",
    "data = final_data.select(final_data.target.alias(\"label\"), final_data.Scaled_features.alias(\"Scaled_features\"))"
   ]
  },
  {
   "cell_type": "code",
   "execution_count": 130,
   "metadata": {},
   "outputs": [
    {
     "name": "stdout",
     "output_type": "stream",
     "text": [
      "+-----+--------------------+\n",
      "|label|     Scaled_features|\n",
      "+-----+--------------------+\n",
      "|    0|[0.25962948736535...|\n",
      "|    0|[0.32071877851013...|\n",
      "|    1|(14,[1,2,9,10,11,...|\n",
      "|    0|[2.61156719643969...|\n",
      "|    1|[1.52723227861970...|\n",
      "|    0|[0.10690625950337...|\n",
      "|    0|[1.23705814568196...|\n",
      "|    1|[2.48938861415012...|\n",
      "|    0|[0.88579472159942...|\n",
      "|    1|[0.25962948736535...|\n",
      "|    0|[1.46614298747491...|\n",
      "|    0|(14,[0,1,2,3,4,7,...|\n",
      "|    1|[1.31341975961294...|\n",
      "|    1|[0.61089291144788...|\n",
      "|    0|[1.45087066468872...|\n",
      "|    0|[4.62751380421771...|\n",
      "|    1|[0.16799555064816...|\n",
      "|    1|[2.35193770907434...|\n",
      "|    0|[1.09960724060618...|\n",
      "|    0|[0.13745090507577...|\n",
      "+-----+--------------------+\n",
      "only showing top 20 rows\n",
      "\n"
     ]
    }
   ],
   "source": [
    "data.show()"
   ]
  },
  {
   "cell_type": "code",
   "execution_count": 131,
   "metadata": {},
   "outputs": [],
   "source": [
    "train, test = data.randomSplit([0.85, 0.15], seed=42)\n",
    "train = train.cache()"
   ]
  },
  {
   "cell_type": "code",
   "execution_count": 132,
   "metadata": {},
   "outputs": [],
   "source": [
    "from pyspark.ml.classification import LogisticRegression\n",
    "lr = LogisticRegression(labelCol=\"label\", featuresCol=\"Scaled_features\",maxIter=10)\n",
    "model=lr.fit(train)\n",
    "predict_train=model.transform(train)\n",
    "predict_test=model.transform(test)\n"
   ]
  },
  {
   "cell_type": "code",
   "execution_count": 133,
   "metadata": {},
   "outputs": [
    {
     "data": {
      "text/plain": [
       "['label', 'Scaled_features', 'rawPrediction', 'probability', 'prediction']"
      ]
     },
     "execution_count": 133,
     "metadata": {},
     "output_type": "execute_result"
    }
   ],
   "source": [
    "predict_test.columns"
   ]
  },
  {
   "cell_type": "code",
   "execution_count": 134,
   "metadata": {},
   "outputs": [
    {
     "name": "stdout",
     "output_type": "stream",
     "text": [
      "+-----+--------------------+--------------------+--------------------+----------+\n",
      "|label|     Scaled_features|       rawPrediction|         probability|prediction|\n",
      "+-----+--------------------+--------------------+--------------------+----------+\n",
      "|    0|[0.32071877851013...|[7.05467826137469...|[0.99913738427949...|       0.0|\n",
      "|    0|[2.61156719643969...|[7.54784052601174...|[0.99947303036756...|       0.0|\n",
      "|    1|[0.21381251900675...|[-6.0299130988969...|[0.00239992951009...|       1.0|\n",
      "|    0|(14,[0,1,2,4,9,10...|[7.18027235052549...|[0.99923911895105...|       0.0|\n",
      "|    0|(14,[0,1,2,3,10,1...|[5.71177380187436...|[0.99670409716867...|       0.0|\n",
      "|    1|[0.68725452537886...|[-8.5577048055597...|[1.92022722473836...|       1.0|\n",
      "|    1|[0.03054464557239...|[-9.5451320974437...|[7.15435900059261...|       1.0|\n",
      "|    1|[0.10690625950337...|[-5.8076305307506...|[0.00299554058777...|       1.0|\n",
      "|    0|[1.23705814568196...|[7.57567881254144...|[0.99948749057319...|       0.0|\n",
      "|    0|[1.67995550648167...|[6.24961015927930...|[0.99807251551866...|       0.0|\n",
      "|    0|[2.51993325972251...|[12.9903857443664...|[0.99999771783961...|       0.0|\n",
      "|    0|[0.65670987980647...|[8.77165925796575...|[0.99984495796930...|       0.0|\n",
      "|    1|[0.56507594308929...|[-5.5891266381859...|[0.00372436854567...|       1.0|\n",
      "|    1|(14,[0,1,2,9,10,1...|[-7.7822510148990...|[4.16898404463265...|       1.0|\n",
      "|    1|[0.44289736079971...|[-6.8088660624790...|[0.00110272664555...|       1.0|\n",
      "|    1|[0.19854019622056...|[-7.0848996866461...|[8.36957726421980...|       1.0|\n",
      "|    0|[1.64941086090928...|[6.30244093417308...|[0.99817152151398...|       0.0|\n",
      "|    1|[0.65670987980647...|[-8.5271212590924...|[1.97985004754899...|       1.0|\n",
      "|    0|[1.42032601911632...|[5.92279175891486...|[0.99732943680518...|       0.0|\n",
      "|    1|[0.42762503801351...|[-4.4175606058655...|[0.01191982802751...|       1.0|\n",
      "+-----+--------------------+--------------------+--------------------+----------+\n",
      "only showing top 20 rows\n",
      "\n"
     ]
    }
   ],
   "source": [
    "predict_test.show()"
   ]
  },
  {
   "cell_type": "code",
   "execution_count": 136,
   "metadata": {},
   "outputs": [
    {
     "data": {
      "text/plain": [
       "25"
      ]
     },
     "execution_count": 136,
     "metadata": {},
     "output_type": "execute_result"
    }
   ],
   "source": [
    "predict_test.filter(predict_test.label == predict_test.prediction).count()"
   ]
  },
  {
   "cell_type": "code",
   "execution_count": 137,
   "metadata": {},
   "outputs": [],
   "source": [
    "rf_clf = RandomForestClassifier(labelCol=\"label\", featuresCol=\"Scaled_features\")\n",
    "f1_evaluation = MulticlassClassificationEvaluator(metricName = 'f1')\n",
    "param_grid = ParamGridBuilder().build()"
   ]
  },
  {
   "cell_type": "code",
   "execution_count": 138,
   "metadata": {},
   "outputs": [],
   "source": [
    "cross_val_rf = CrossValidator(estimator = rf_clf, estimatorParamMaps = param_grid, evaluator = f1_evaluation, numFolds = 2)\n"
   ]
  },
  {
   "cell_type": "code",
   "execution_count": 139,
   "metadata": {},
   "outputs": [],
   "source": [
    "cv_model_rf = cross_val_rf.fit(train)"
   ]
  },
  {
   "cell_type": "code",
   "execution_count": 140,
   "metadata": {},
   "outputs": [],
   "source": [
    "res_rf = cv_model_rf.transform(test)"
   ]
  },
  {
   "cell_type": "code",
   "execution_count": 141,
   "metadata": {},
   "outputs": [
    {
     "name": "stdout",
     "output_type": "stream",
     "text": [
      "The metrics for our Random Forest Classifier are as follows :\n",
      "The accuracy Score is 0.92\n",
      "The F2 is 0.9207792207792207\n"
     ]
    }
   ],
   "source": [
    "# Getting different evaluation metrics for Random Forest\n",
    "evaluator = MulticlassClassificationEvaluator(predictionCol = \"prediction\")\n",
    "print(\"The metrics for our Random Forest Classifier are as follows :\")\n",
    "print(\"The accuracy Score is {}\".format(evaluator.evaluate(res_rf, {evaluator.metricName : \"accuracy\"})))\n",
    "print(\"The F2 is {}\".format(evaluator.evaluate(res_rf, {evaluator.metricName : \"f1\"})))"
   ]
  },
  {
   "cell_type": "code",
   "execution_count": 142,
   "metadata": {},
   "outputs": [],
   "source": [
    "gbt_clf = GBTClassifier(maxIter = 10, maxDepth = 10, seed = 42,labelCol=\"label\", featuresCol=\"Scaled_features\")\n",
    "\n",
    "f1_evaluation = MulticlassClassificationEvaluator(metricName = 'f1')\n",
    "\n",
    "param_grid = ParamGridBuilder().build()\n",
    "\n",
    "cross_val_gbt = CrossValidator(estimator = gbt_clf, estimatorParamMaps = param_grid, evaluator = f1_evaluation, numFolds = 2)"
   ]
  },
  {
   "cell_type": "code",
   "execution_count": 143,
   "metadata": {},
   "outputs": [
    {
     "data": {
      "text/plain": [
       "[1.0]"
      ]
     },
     "execution_count": 143,
     "metadata": {},
     "output_type": "execute_result"
    }
   ],
   "source": [
    "cv_model_gbt = cross_val_gbt.fit(train)\n",
    "cv_model_gbt.avgMetrics"
   ]
  },
  {
   "cell_type": "code",
   "execution_count": 144,
   "metadata": {},
   "outputs": [
    {
     "name": "stdout",
     "output_type": "stream",
     "text": [
      "The metrics for our Gradient Boosted Trees Classifier are as follows: \n",
      "The F-1 Score is 1.0\n",
      "The accuracy is 1.0\n"
     ]
    }
   ],
   "source": [
    "res_gbt = cv_model_gbt.transform(test)\n",
    "evaluator = MulticlassClassificationEvaluator(predictionCol = \"prediction\")\n",
    "print(\"The metrics for our Gradient Boosted Trees Classifier are as follows: \")\n",
    "print(\"The F-1 Score is {}\".format(evaluator.evaluate(res_gbt, {evaluator.metricName : \"f1\"})))\n",
    "print(\"The accuracy is {}\".format(evaluator.evaluate(res_gbt, {evaluator.metricName : \"accuracy\"})))"
   ]
  },
  {
   "cell_type": "code",
   "execution_count": null,
   "metadata": {},
   "outputs": [],
   "source": [
    "# Tuning Hyperparameters for the Gradient Boosting Trees model using Grid Search\n",
    "gbt_clf = GBTClassifier(maxIter = 15, seed = 42,labelCol=\"label\", featuresCol=\"Scaled_features\")\n",
    "\n",
    "param_grid_gbt = ParamGridBuilder().addGrid(gbt_clf.maxIter, [10, 15, 20])\\\n",
    "                 .addGrid(gbt_clf.maxDepth, [5, 10]).build()\n",
    "\n",
    "f1_evaluation = MulticlassClassificationEvaluator(metricName = 'f1')\n",
    "\n",
    "cross_val_gbt = CrossValidator(estimator = gbt_clf, estimatorParamMaps = param_grid_gbt, evaluator = f1_evaluation, numFolds = 2)"
   ]
  },
  {
   "cell_type": "code",
   "execution_count": null,
   "metadata": {},
   "outputs": [],
   "source": [
    "cv_model_gbt = cross_val_gbt.fit(train)\n",
    "cv_model_gbt.avgMetrics"
   ]
  },
  {
   "cell_type": "markdown",
   "metadata": {},
   "source": [
    "**STEP 2 -**\n",
    "\n",
    "Removing customer cancel & custmer downgrage colunms, as although technically these are features derived from database, which we can use in data analysis. \n",
    "but in terms of business we want to detect churn before they reach to that step.\n",
    "\n",
    "Also creating reusable function for classification problem"
   ]
  },
  {
   "cell_type": "code",
   "execution_count": 152,
   "metadata": {},
   "outputs": [],
   "source": [
    "def churn_Detection(final_data):\n",
    "    \"\"\"\n",
    "    Function will run churn detection on data set for sparkify application\n",
    "    Param :- final_data, data frame to be used for churn detection\n",
    "    output:- none, F1 score & accuracy of random forest alorithm on given dataframe will be printed on screen\n",
    "    \"\"\"\n",
    "    #combine all the features in one single feature vector.\n",
    "    cols=final_data.columns\n",
    "    cols.remove('target')\n",
    "    assembler = VectorAssembler(inputCols=cols,outputCol=\"features\")\n",
    "    # Now let us use the transform method to transform our dataset\n",
    "    final_data=assembler.transform(final_data)\n",
    "    #final_data.select(\"features\").show()\n",
    "    #2 Standardsize data \n",
    "    standardscaler=StandardScaler().setInputCol(\"features\").setOutputCol(\"Scaled_features\")\n",
    "    final_data=standardscaler.fit(final_data).transform(final_data)\n",
    "    #final_data.select(\"features\",\"Scaled_features\").show()\n",
    "    #Train test split\n",
    "    data = final_data.select(final_data.target.alias(\"label\"), final_data.Scaled_features.alias(\"Scaled_features\"))\n",
    "    train, test = data.randomSplit([0.85, 0.15], seed=42)\n",
    "    train = train.cache()\n",
    "    #running algorithm\n",
    "    rf_clf = RandomForestClassifier(labelCol=\"label\", featuresCol=\"Scaled_features\")\n",
    "    f1_evaluation = MulticlassClassificationEvaluator(metricName = 'f1')\n",
    "    param_grid = ParamGridBuilder().build()\n",
    "    cross_val_rf = CrossValidator(estimator = rf_clf, estimatorParamMaps = param_grid, evaluator = f1_evaluation, numFolds = 2)\n",
    "    cv_model_rf = cross_val_rf.fit(train)\n",
    "    res_rf = cv_model_rf.transform(test)\n",
    "    # Getting different evaluation metrics for Random Forest\n",
    "    evaluator = MulticlassClassificationEvaluator(predictionCol = \"prediction\")\n",
    "    print(\"The metrics for our Random Forest Classifier are as follows :\")\n",
    "    print(\"The accuracy Score is {}\".format(evaluator.evaluate(res_rf, {evaluator.metricName : \"accuracy\"})))\n",
    "    print(\"The F1 is {}\".format(evaluator.evaluate(res_rf, {evaluator.metricName : \"f1\"})))"
   ]
  },
  {
   "cell_type": "code",
   "execution_count": 146,
   "metadata": {},
   "outputs": [
    {
     "name": "stdout",
     "output_type": "stream",
     "text": [
      "+-------------+---------+----------+-----------+------------+--------------+--------+--------+-----------+------+------------------+------------------+------+\n",
      "|tot_thumbs_up|tot_songs|tot_artist|tot_friends|tot_playlist|tot_thumb_down|tot_errs|tot_help|tot_setting|gender|   tot_listen_time|      tot_lifetime|target|\n",
      "+-------------+---------+----------+-----------+------------+--------------+--------+--------+-----------+------+------------------+------------------+------+\n",
      "|           17|      275|       275|          4|           7|             5|       0|       2|          0|     0| 66940.89735000003|  55.6436574074074|     0|\n",
      "|           21|      387|       387|          4|           8|             6|       0|       2|          0|     1| 94008.87593999993| 70.07462962962963|     0|\n",
      "|            0|        8|         8|          0|           0|             0|       0|       0|          0|     1|2089.1131000000005| 71.31688657407408|     1|\n",
      "|          171|     4079|      4079|         74|         118|            41|       6|      23|          6|     0|1012312.0927899999|131.55591435185184|     0|\n",
      "|          100|     2111|      2111|         28|          52|            21|       1|      12|          1|     1| 523275.8428000004|19.455844907407407|     1|\n",
      "|            7|      150|       150|          1|           5|             1|       1|       1|          1|     1| 38034.08710000002| 72.77818287037037|     0|\n",
      "|           81|     1914|      1914|         31|          59|            14|       2|       8|          2|     1|477307.60581000015|56.513576388888886|     0|\n",
      "|          163|     2841|      2841|         33|          72|            29|       1|      17|          3|     0| 711344.9195400011|110.75168981481481|     1|\n",
      "|           58|      820|       820|         11|          24|             3|       3|       9|          0|     0|       198779.2919|23.556018518518517|     0|\n",
      "|           17|      257|       257|          6|           7|             3|       0|       2|          0|     1| 67703.47208000004| 85.08340277777778|     1|\n",
      "|           96|     1928|      1928|         41|          38|            17|       3|      16|          4|     0| 483118.9038399997|  66.8891087962963|     0|\n",
      "|           11|       84|        84|          3|           1|             0|       0|       1|          0|     0|20660.023910000007|23.872037037037035|     0|\n",
      "|           86|     1797|      1797|         29|          61|            16|       3|      12|          2|     1| 447464.0146699989|53.965937499999995|     1|\n",
      "|           40|      647|       647|          6|          20|             9|       1|       3|          2|     0|159669.96303999983|124.47825231481481|     1|\n",
      "|           95|     2070|      2070|         41|          67|            24|       1|      13|          4|     1| 512449.8827599989| 66.62668981481481|     0|\n",
      "|          303|     3632|      3632|         63|         113|            28|       5|      27|          3|     0| 897406.9802100015| 74.35851851851852|     0|\n",
      "|           11|      230|       230|          7|           7|             5|       2|       0|          0|     1| 57633.17563999999| 64.73886574074074|     1|\n",
      "|          154|     3028|      3028|         47|          89|            22|       0|      28|          4|     1| 754517.5625700009|60.104050925925925|     1|\n",
      "|           72|     1125|      1125|         12|          33|             9|       4|       7|          1|     0| 286064.0256399999| 71.42444444444445|     0|\n",
      "|            9|      215|       215|          7|           7|             3|       0|       1|          3|     1| 53062.74659000002| 87.46262731481481|     0|\n",
      "+-------------+---------+----------+-----------+------------+--------------+--------+--------+-----------+------+------------------+------------------+------+\n",
      "only showing top 20 rows\n",
      "\n"
     ]
    }
   ],
   "source": [
    "final_data = feat_1.join(feat_2, 'userId', 'inner').join(feat_3, 'userId', 'inner').join(feat_4, 'userId', 'inner')\\\n",
    "             .join(feat_5, 'userId', 'inner').join(feat_2A, 'userId', 'inner').join(feat_2B, 'userId', 'inner')\\\n",
    "             .join(feat_2C, 'userId', 'inner').join(feat_2D, 'userId', 'inner').join(feat_3A, 'userId', 'inner')\\\n",
    "             .join(feat_3B, 'userId', 'inner').join(feat_3C, 'userId', 'inner').join(target, 'userId', 'inner').drop('userId')\n",
    "\n",
    "final_data.show()"
   ]
  },
  {
   "cell_type": "code",
   "execution_count": 153,
   "metadata": {},
   "outputs": [
    {
     "name": "stdout",
     "output_type": "stream",
     "text": [
      "The metrics for our Random Forest Classifier are as follows :\n",
      "The accuracy Score is 0.6\n",
      "The F1 is 0.6000000000000001\n"
     ]
    }
   ],
   "source": [
    "churn_Detection(final_data)"
   ]
  },
  {
   "cell_type": "markdown",
   "metadata": {},
   "source": [
    "# Final Steps\n",
    "Clean up your code, adding comments and renaming variables to make the code easier to read and maintain. Refer to the Spark Project Overview page and Data Scientist Capstone Project Rubric to make sure you are including all components of the capstone project and meet all expectations. Remember, this includes thorough documentation in a README file in a Github repository, as well as a web app or blog post."
   ]
  },
  {
   "cell_type": "markdown",
   "metadata": {},
   "source": [
    "**Business Objective**\n",
    "with accuracy closer to 60% I think, I have met business object. Although I can improve the accuracy, clearly by doing more inteligent feature selection. \n",
    "\n",
    "\n",
    "**Learning Objective**\n",
    "I learned a lot in this exercise. I explore pandas vs spark dataframe and also spark sql vs spark declarrivtive \n",
    "I must admit I prefered spark sql and ended up using more spqrk sql APIS.\n",
    "\n",
    "**blog link** : https://medium.com/@odmirajkar/spark-vs-pandas-f149caa2d643\n",
    "\n",
    "**Future Steps**\n",
    "\n",
    "Although Accuracy may seems low but I think one reason is I have defined churn as downgraded as well as cancelled users, These are technically two different types of churn and should be treated differently. so in next iteration i will create two classifiers to identify churn and downgrading users"
   ]
  },
  {
   "cell_type": "code",
   "execution_count": null,
   "metadata": {},
   "outputs": [],
   "source": [
    "\n"
   ]
  }
 ],
 "metadata": {
  "kernelspec": {
   "display_name": "Python 3",
   "language": "python",
   "name": "python3"
  },
  "language_info": {
   "codemirror_mode": {
    "name": "ipython",
    "version": 3
   },
   "file_extension": ".py",
   "mimetype": "text/x-python",
   "name": "python",
   "nbconvert_exporter": "python",
   "pygments_lexer": "ipython3",
   "version": "3.6.3"
  }
 },
 "nbformat": 4,
 "nbformat_minor": 2
}
